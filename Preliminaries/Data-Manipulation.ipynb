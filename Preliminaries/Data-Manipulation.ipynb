{
 "cells": [
  {
   "cell_type": "code",
   "id": "initial_id",
   "metadata": {
    "collapsed": true,
    "ExecuteTime": {
     "end_time": "2024-06-03T06:10:46.587219Z",
     "start_time": "2024-06-03T06:10:45.886845Z"
    }
   },
   "source": "import torch",
   "outputs": [],
   "execution_count": 1
  },
  {
   "metadata": {},
   "cell_type": "markdown",
   "source": "# 1 Create Tensor",
   "id": "fc8745d7db81631c"
  },
  {
   "metadata": {
    "ExecuteTime": {
     "end_time": "2024-06-03T06:12:11.899167Z",
     "start_time": "2024-06-03T06:12:11.875460Z"
    }
   },
   "cell_type": "code",
   "source": [
    "x = torch.arange(12)\n",
    "x"
   ],
   "id": "2674a42a8d5b0d21",
   "outputs": [
    {
     "data": {
      "text/plain": [
       "tensor([ 0,  1,  2,  3,  4,  5,  6,  7,  8,  9, 10, 11])"
      ]
     },
     "execution_count": 2,
     "metadata": {},
     "output_type": "execute_result"
    }
   ],
   "execution_count": 2
  },
  {
   "metadata": {
    "ExecuteTime": {
     "end_time": "2024-06-03T06:13:08.482722Z",
     "start_time": "2024-06-03T06:13:08.479494Z"
    }
   },
   "cell_type": "code",
   "source": [
    "x = torch.empty(5, 3) # creates a tensor without initializing its elements\n",
    "x"
   ],
   "id": "4f740eb7e48e842d",
   "outputs": [
    {
     "data": {
      "text/plain": [
       "tensor([[ 3.2454e-35,  0.0000e+00, -1.6678e-03],\n",
       "        [ 4.5761e-41,  0.0000e+00,  0.0000e+00],\n",
       "        [ 0.0000e+00,  0.0000e+00,  0.0000e+00],\n",
       "        [ 0.0000e+00,  0.0000e+00,  0.0000e+00],\n",
       "        [ 0.0000e+00,  0.0000e+00,  0.0000e+00]])"
      ]
     },
     "execution_count": 3,
     "metadata": {},
     "output_type": "execute_result"
    }
   ],
   "execution_count": 3
  },
  {
   "metadata": {
    "ExecuteTime": {
     "end_time": "2024-06-03T06:18:05.455568Z",
     "start_time": "2024-06-03T06:18:05.451056Z"
    }
   },
   "cell_type": "code",
   "source": [
    "x = torch.rand(5, 3) # create a randomly initialized tensor\n",
    "x"
   ],
   "id": "7a0c8f72b87e5a7b",
   "outputs": [
    {
     "data": {
      "text/plain": [
       "tensor([[0.2410, 0.9399, 0.2702],\n",
       "        [0.0530, 0.3575, 0.6783],\n",
       "        [0.9059, 0.5393, 0.9371],\n",
       "        [0.5031, 0.4585, 0.1424],\n",
       "        [0.4205, 0.7416, 0.5608]])"
      ]
     },
     "execution_count": 4,
     "metadata": {},
     "output_type": "execute_result"
    }
   ],
   "execution_count": 4
  },
  {
   "metadata": {
    "ExecuteTime": {
     "end_time": "2024-06-03T06:18:20.616859Z",
     "start_time": "2024-06-03T06:18:20.612097Z"
    }
   },
   "cell_type": "code",
   "source": [
    "x = torch.zeros(5, 3, dtype=torch.long)\n",
    "x"
   ],
   "id": "4517c1bce62a27f5",
   "outputs": [
    {
     "data": {
      "text/plain": [
       "tensor([[0, 0, 0],\n",
       "        [0, 0, 0],\n",
       "        [0, 0, 0],\n",
       "        [0, 0, 0],\n",
       "        [0, 0, 0]])"
      ]
     },
     "execution_count": 5,
     "metadata": {},
     "output_type": "execute_result"
    }
   ],
   "execution_count": 5
  },
  {
   "metadata": {
    "ExecuteTime": {
     "end_time": "2024-06-03T06:18:43.203145Z",
     "start_time": "2024-06-03T06:18:43.198771Z"
    }
   },
   "cell_type": "code",
   "source": [
    "x = torch.tensor([5.5, 3])\n",
    "x"
   ],
   "id": "aacd669f993ecf93",
   "outputs": [
    {
     "data": {
      "text/plain": [
       "tensor([5.5000, 3.0000])"
      ]
     },
     "execution_count": 6,
     "metadata": {},
     "output_type": "execute_result"
    }
   ],
   "execution_count": 6
  },
  {
   "metadata": {},
   "cell_type": "markdown",
   "source": "#### Attribute:",
   "id": "1b2a016a510a8d2e"
  },
  {
   "metadata": {
    "ExecuteTime": {
     "end_time": "2024-06-03T06:20:31.271397Z",
     "start_time": "2024-06-03T06:20:31.268026Z"
    }
   },
   "cell_type": "code",
   "source": [
    "x = torch.arange(12)\n",
    "x.shape"
   ],
   "id": "c6e86ee5f5bac5e",
   "outputs": [
    {
     "data": {
      "text/plain": [
       "torch.Size([12])"
      ]
     },
     "execution_count": 7,
     "metadata": {},
     "output_type": "execute_result"
    }
   ],
   "execution_count": 7
  },
  {
   "metadata": {
    "ExecuteTime": {
     "end_time": "2024-06-03T06:21:22.781702Z",
     "start_time": "2024-06-03T06:21:22.777999Z"
    }
   },
   "cell_type": "code",
   "source": "x.size()",
   "id": "15c5d9c2ea461358",
   "outputs": [
    {
     "data": {
      "text/plain": [
       "torch.Size([12])"
      ]
     },
     "execution_count": 8,
     "metadata": {},
     "output_type": "execute_result"
    }
   ],
   "execution_count": 8
  },
  {
   "metadata": {},
   "cell_type": "markdown",
   "source": "torch.Size is a tuple",
   "id": "85d1b7357e543c5f"
  },
  {
   "metadata": {
    "ExecuteTime": {
     "end_time": "2024-06-03T06:22:03.238328Z",
     "start_time": "2024-06-03T06:22:03.235885Z"
    }
   },
   "cell_type": "code",
   "source": "x.numel()",
   "id": "3ceb396fae85c132",
   "outputs": [
    {
     "data": {
      "text/plain": [
       "12"
      ]
     },
     "execution_count": 9,
     "metadata": {},
     "output_type": "execute_result"
    }
   ],
   "execution_count": 9
  },
  {
   "metadata": {},
   "cell_type": "markdown",
   "source": "#### reshape a tensor but do not change the numel and values",
   "id": "59a23bd23ff77912"
  },
  {
   "metadata": {
    "ExecuteTime": {
     "end_time": "2024-06-03T06:23:16.209208Z",
     "start_time": "2024-06-03T06:23:16.206095Z"
    }
   },
   "cell_type": "code",
   "source": [
    "x = x.reshape(3, 4)\n",
    "x"
   ],
   "id": "eff275d583ea514f",
   "outputs": [
    {
     "data": {
      "text/plain": [
       "tensor([[ 0,  1,  2,  3],\n",
       "        [ 4,  5,  6,  7],\n",
       "        [ 8,  9, 10, 11]])"
      ]
     },
     "execution_count": 10,
     "metadata": {},
     "output_type": "execute_result"
    }
   ],
   "execution_count": 10
  },
  {
   "metadata": {},
   "cell_type": "markdown",
   "source": "#### all 0, all 1, other constants or sample each element randomly (and independently) from a given probability distribution",
   "id": "d52938a0496b854e"
  },
  {
   "metadata": {
    "ExecuteTime": {
     "end_time": "2024-06-03T06:26:51.498099Z",
     "start_time": "2024-06-03T06:26:51.494822Z"
    }
   },
   "cell_type": "code",
   "source": "torch.zeros((2, 3, 4))",
   "id": "fc7b5ebd6eb02093",
   "outputs": [
    {
     "data": {
      "text/plain": [
       "tensor([[[0., 0., 0., 0.],\n",
       "         [0., 0., 0., 0.],\n",
       "         [0., 0., 0., 0.]],\n",
       "\n",
       "        [[0., 0., 0., 0.],\n",
       "         [0., 0., 0., 0.],\n",
       "         [0., 0., 0., 0.]]])"
      ]
     },
     "execution_count": 11,
     "metadata": {},
     "output_type": "execute_result"
    }
   ],
   "execution_count": 11
  },
  {
   "metadata": {
    "ExecuteTime": {
     "end_time": "2024-06-03T06:26:57.342785Z",
     "start_time": "2024-06-03T06:26:57.339085Z"
    }
   },
   "cell_type": "code",
   "source": "torch.ones((2, 3, 4))",
   "id": "822aaa5010e9793c",
   "outputs": [
    {
     "data": {
      "text/plain": [
       "tensor([[[1., 1., 1., 1.],\n",
       "         [1., 1., 1., 1.],\n",
       "         [1., 1., 1., 1.]],\n",
       "\n",
       "        [[1., 1., 1., 1.],\n",
       "         [1., 1., 1., 1.],\n",
       "         [1., 1., 1., 1.]]])"
      ]
     },
     "execution_count": 12,
     "metadata": {},
     "output_type": "execute_result"
    }
   ],
   "execution_count": 12
  },
  {
   "metadata": {
    "ExecuteTime": {
     "end_time": "2024-06-03T06:27:44.169753Z",
     "start_time": "2024-06-03T06:27:44.165371Z"
    }
   },
   "cell_type": "code",
   "source": "torch.randn(3, 4)",
   "id": "f6740ebae5880c63",
   "outputs": [
    {
     "data": {
      "text/plain": [
       "tensor([[-1.1331, -0.6620, -0.6166,  0.0678],\n",
       "        [-1.4232,  0.2294, -0.2682, -0.4998],\n",
       "        [-1.1613,  0.5470, -0.6513, -1.2253]])"
      ]
     },
     "execution_count": 13,
     "metadata": {},
     "output_type": "execute_result"
    }
   ],
   "execution_count": 13
  },
  {
   "metadata": {
    "ExecuteTime": {
     "end_time": "2024-06-03T06:29:49.321017Z",
     "start_time": "2024-06-03T06:29:49.317703Z"
    }
   },
   "cell_type": "code",
   "source": "torch.tensor([[2, 1, 4, 3], [1, 2, 3, 4], [4, 3, 2, 1]])",
   "id": "c9ff0ac6443e330a",
   "outputs": [
    {
     "data": {
      "text/plain": [
       "tensor([[2, 1, 4, 3],\n",
       "        [1, 2, 3, 4],\n",
       "        [4, 3, 2, 1]])"
      ]
     },
     "execution_count": 15,
     "metadata": {},
     "output_type": "execute_result"
    }
   ],
   "execution_count": 15
  },
  {
   "metadata": {
    "ExecuteTime": {
     "end_time": "2024-06-03T06:29:50.219529Z",
     "start_time": "2024-06-03T06:29:50.216789Z"
    }
   },
   "cell_type": "code",
   "source": "torch.tensor([[2, 1, 4, 3], [1, 2, 3, 4], [4, 3, 2, 1]]).shape",
   "id": "ebe7c95441ef20d",
   "outputs": [
    {
     "data": {
      "text/plain": [
       "torch.Size([3, 4])"
      ]
     },
     "execution_count": 16,
     "metadata": {},
     "output_type": "execute_result"
    }
   ],
   "execution_count": 16
  },
  {
   "metadata": {},
   "cell_type": "markdown",
   "source": "# 2 Operations",
   "id": "7f15efb887c2d14c"
  },
  {
   "metadata": {
    "ExecuteTime": {
     "end_time": "2024-06-03T06:31:58.467144Z",
     "start_time": "2024-06-03T06:31:58.460911Z"
    }
   },
   "cell_type": "code",
   "source": [
    "x = torch.tensor([1.0, 2, 4, 8])\n",
    "y = torch.tensor([2, 2, 2, 2])\n",
    "x +y, x - y, x * y, x / y, x ** y"
   ],
   "id": "1f0bc017e2bc8c47",
   "outputs": [
    {
     "data": {
      "text/plain": [
       "(tensor([ 3.,  4.,  6., 10.]),\n",
       " tensor([-1.,  0.,  2.,  6.]),\n",
       " tensor([ 2.,  4.,  8., 16.]),\n",
       " tensor([0.5000, 1.0000, 2.0000, 4.0000]),\n",
       " tensor([ 1.,  4., 16., 64.]))"
      ]
     },
     "execution_count": 17,
     "metadata": {},
     "output_type": "execute_result"
    }
   ],
   "execution_count": 17
  },
  {
   "metadata": {
    "ExecuteTime": {
     "end_time": "2024-06-03T06:33:00.824117Z",
     "start_time": "2024-06-03T06:33:00.820263Z"
    }
   },
   "cell_type": "code",
   "source": "torch.exp(x)",
   "id": "1e354fd9f1888421",
   "outputs": [
    {
     "data": {
      "text/plain": [
       "tensor([2.7183e+00, 7.3891e+00, 5.4598e+01, 2.9810e+03])"
      ]
     },
     "execution_count": 18,
     "metadata": {},
     "output_type": "execute_result"
    }
   ],
   "execution_count": 18
  },
  {
   "metadata": {
    "ExecuteTime": {
     "end_time": "2024-06-03T06:34:51.139290Z",
     "start_time": "2024-06-03T06:34:51.133463Z"
    }
   },
   "cell_type": "code",
   "source": [
    "X = torch.arange(12, dtype=torch.float32).reshape((3, 4))\n",
    "Y = torch.tensor([[2.0, 1, 4, 3], [1, 2, 3, 4], [4, 3, 2, 1]])\n",
    "torch.cat((X, Y), dim=0), torch.cat((X, Y), dim=1)"
   ],
   "id": "428e731485042ac0",
   "outputs": [
    {
     "data": {
      "text/plain": [
       "(tensor([[ 0.,  1.,  2.,  3.],\n",
       "         [ 4.,  5.,  6.,  7.],\n",
       "         [ 8.,  9., 10., 11.],\n",
       "         [ 2.,  1.,  4.,  3.],\n",
       "         [ 1.,  2.,  3.,  4.],\n",
       "         [ 4.,  3.,  2.,  1.]]),\n",
       " tensor([[ 0.,  1.,  2.,  3.,  2.,  1.,  4.,  3.],\n",
       "         [ 4.,  5.,  6.,  7.,  1.,  2.,  3.,  4.],\n",
       "         [ 8.,  9., 10., 11.,  4.,  3.,  2.,  1.]]))"
      ]
     },
     "execution_count": 19,
     "metadata": {},
     "output_type": "execute_result"
    }
   ],
   "execution_count": 19
  },
  {
   "metadata": {
    "ExecuteTime": {
     "end_time": "2024-06-03T06:35:41.911317Z",
     "start_time": "2024-06-03T06:35:41.906654Z"
    }
   },
   "cell_type": "code",
   "source": "X == Y",
   "id": "84f6ffb4cabf4ea9",
   "outputs": [
    {
     "data": {
      "text/plain": [
       "tensor([[False,  True, False,  True],\n",
       "        [False, False, False, False],\n",
       "        [False, False, False, False]])"
      ]
     },
     "execution_count": 20,
     "metadata": {},
     "output_type": "execute_result"
    }
   ],
   "execution_count": 20
  },
  {
   "metadata": {
    "ExecuteTime": {
     "end_time": "2024-06-03T06:35:48.839950Z",
     "start_time": "2024-06-03T06:35:48.836544Z"
    }
   },
   "cell_type": "code",
   "source": "X.sum()",
   "id": "344285fc62581e91",
   "outputs": [
    {
     "data": {
      "text/plain": [
       "tensor(66.)"
      ]
     },
     "execution_count": 21,
     "metadata": {},
     "output_type": "execute_result"
    }
   ],
   "execution_count": 21
  },
  {
   "metadata": {},
   "cell_type": "markdown",
   "source": [
    "# 3 Broadcasting Mechanism\n",
    "1. Matching Dimensions:  \n",
    "Starting from the trailing (right-most) dimensions, the dimensions of the tensors are compared. Two dimensions are compatible if they are equal, or one of them is 1. Essentially, a dimension of size 1 can be stretched (replicated) to match the size of the other dimension.\n",
    "2. Broadcasting Rules:\n",
    "+ If the tensors have a different number of dimensions, the smaller tensor is padded with ones on its left side until both tensors have the same number of dimensions.\n",
    "+ Once the tensors have the same number of dimensions, compare each dimension from right to left:\n",
    "  + If the dimensions are equal, proceed to the next dimension.\n",
    "  + If one of the dimensions is 1, it can be stretched to match the other dimension.\n",
    "  + If the dimensions are neither equal nor 1, broadcasting is not possible and an error is raised."
   ],
   "id": "ccd740fdb5b9f12c"
  },
  {
   "metadata": {
    "ExecuteTime": {
     "end_time": "2024-06-03T06:36:26.970917Z",
     "start_time": "2024-06-03T06:36:26.967799Z"
    }
   },
   "cell_type": "code",
   "source": [
    "a = torch.arange(3).reshape((3, 1))\n",
    "b = torch.arange(2).reshape((1, 2))\n",
    "a, b"
   ],
   "id": "afc249c1bb573f2",
   "outputs": [
    {
     "data": {
      "text/plain": [
       "(tensor([[0],\n",
       "         [1],\n",
       "         [2]]),\n",
       " tensor([[0, 1]]))"
      ]
     },
     "execution_count": 22,
     "metadata": {},
     "output_type": "execute_result"
    }
   ],
   "execution_count": 22
  },
  {
   "metadata": {
    "ExecuteTime": {
     "end_time": "2024-06-03T06:36:33.514479Z",
     "start_time": "2024-06-03T06:36:33.511494Z"
    }
   },
   "cell_type": "code",
   "source": "a + b",
   "id": "18eec77e36bececa",
   "outputs": [
    {
     "data": {
      "text/plain": [
       "tensor([[0, 1],\n",
       "        [1, 2],\n",
       "        [2, 3]])"
      ]
     },
     "execution_count": 23,
     "metadata": {},
     "output_type": "execute_result"
    }
   ],
   "execution_count": 23
  },
  {
   "metadata": {},
   "cell_type": "markdown",
   "source": "# 4 Indexing and Slicing",
   "id": "ae0558cf93d35f8c"
  },
  {
   "metadata": {
    "ExecuteTime": {
     "end_time": "2024-06-03T06:45:49.960789Z",
     "start_time": "2024-06-03T06:45:49.955560Z"
    }
   },
   "cell_type": "code",
   "source": "X[-1], X[1:3]",
   "id": "dc782c9e58aae547",
   "outputs": [
    {
     "data": {
      "text/plain": [
       "(tensor([ 8.,  9., 10., 11.]),\n",
       " tensor([[ 4.,  5.,  6.,  7.],\n",
       "         [ 8.,  9., 10., 11.]]))"
      ]
     },
     "execution_count": 24,
     "metadata": {},
     "output_type": "execute_result"
    }
   ],
   "execution_count": 24
  },
  {
   "metadata": {
    "ExecuteTime": {
     "end_time": "2024-06-03T06:46:06.357728Z",
     "start_time": "2024-06-03T06:46:06.354560Z"
    }
   },
   "cell_type": "code",
   "source": [
    "X[1, 2] = 17\n",
    "X"
   ],
   "id": "df74692e76c64bb7",
   "outputs": [
    {
     "data": {
      "text/plain": [
       "tensor([[ 0.,  1.,  2.,  3.],\n",
       "        [ 4.,  5., 17.,  7.],\n",
       "        [ 8.,  9., 10., 11.]])"
      ]
     },
     "execution_count": 25,
     "metadata": {},
     "output_type": "execute_result"
    }
   ],
   "execution_count": 25
  },
  {
   "metadata": {
    "ExecuteTime": {
     "end_time": "2024-06-03T06:46:16.874559Z",
     "start_time": "2024-06-03T06:46:16.871106Z"
    }
   },
   "cell_type": "code",
   "source": [
    "X[:2, :] = 12\n",
    "X"
   ],
   "id": "a223370570cbaa0",
   "outputs": [
    {
     "data": {
      "text/plain": [
       "tensor([[12., 12., 12., 12.],\n",
       "        [12., 12., 12., 12.],\n",
       "        [ 8.,  9., 10., 11.]])"
      ]
     },
     "execution_count": 26,
     "metadata": {},
     "output_type": "execute_result"
    }
   ],
   "execution_count": 26
  },
  {
   "metadata": {},
   "cell_type": "markdown",
   "source": "# 5 Saving Memory",
   "id": "985926f49514e8fe"
  },
  {
   "metadata": {},
   "cell_type": "markdown",
   "source": "Running operations can cause new memory to be allocated to host results.",
   "id": "61f9b89341724244"
  },
  {
   "metadata": {
    "ExecuteTime": {
     "end_time": "2024-06-03T06:48:00.487725Z",
     "start_time": "2024-06-03T06:48:00.484113Z"
    }
   },
   "cell_type": "code",
   "source": [
    "before = id(Y)\n",
    "Y = Y + X\n",
    "id(Y) == before"
   ],
   "id": "64c5ed066075d86e",
   "outputs": [
    {
     "data": {
      "text/plain": [
       "False"
      ]
     },
     "execution_count": 27,
     "metadata": {},
     "output_type": "execute_result"
    }
   ],
   "execution_count": 27
  },
  {
   "metadata": {},
   "cell_type": "markdown",
   "source": "performing in-place operations",
   "id": "4bc66ea7609033b0"
  },
  {
   "metadata": {
    "ExecuteTime": {
     "end_time": "2024-06-03T06:49:51.411258Z",
     "start_time": "2024-06-03T06:49:51.408614Z"
    }
   },
   "cell_type": "code",
   "source": [
    "Z = torch.zeros_like(Y)\n",
    "print('id(Z):', id(Z))\n",
    "Z[:] = X + Y\n",
    "print('id(Z):', id(Z))"
   ],
   "id": "c855654a91ca835d",
   "outputs": [
    {
     "name": "stdout",
     "output_type": "stream",
     "text": [
      "id(Z): 140259587262128\n",
      "id(Z): 140259587262128\n"
     ]
    }
   ],
   "execution_count": 28
  },
  {
   "metadata": {},
   "cell_type": "markdown",
   "source": "If the value of X is not reused in subsequent computations, we can also use X[:] = X + Y or X += Y to reduce the memory overhead of the operation.",
   "id": "52b2ce26f5f342b9"
  },
  {
   "metadata": {
    "ExecuteTime": {
     "end_time": "2024-06-03T06:50:59.161656Z",
     "start_time": "2024-06-03T06:50:59.157825Z"
    }
   },
   "cell_type": "code",
   "source": [
    "before = id(X)\n",
    "X += Y\n",
    "id(X) == before"
   ],
   "id": "2e701f97253101d5",
   "outputs": [
    {
     "data": {
      "text/plain": [
       "True"
      ]
     },
     "execution_count": 29,
     "metadata": {},
     "output_type": "execute_result"
    }
   ],
   "execution_count": 29
  },
  {
   "metadata": {
    "ExecuteTime": {
     "end_time": "2024-06-03T06:51:11.424890Z",
     "start_time": "2024-06-03T06:51:11.421726Z"
    }
   },
   "cell_type": "code",
   "source": [
    "before = id(X)\n",
    "X = X + Y\n",
    "id(X) == before"
   ],
   "id": "28169d16c2b9dac2",
   "outputs": [
    {
     "data": {
      "text/plain": [
       "False"
      ]
     },
     "execution_count": 30,
     "metadata": {},
     "output_type": "execute_result"
    }
   ],
   "execution_count": 30
  },
  {
   "metadata": {
    "ExecuteTime": {
     "end_time": "2024-06-03T06:51:37.688122Z",
     "start_time": "2024-06-03T06:51:37.684998Z"
    }
   },
   "cell_type": "code",
   "source": [
    "before = id(X)\n",
    "X[:] = X + Y\n",
    "id(X) == before"
   ],
   "id": "2d01ce3404b255be",
   "outputs": [
    {
     "data": {
      "text/plain": [
       "True"
      ]
     },
     "execution_count": 31,
     "metadata": {},
     "output_type": "execute_result"
    }
   ],
   "execution_count": 31
  },
  {
   "metadata": {},
   "cell_type": "markdown",
   "source": "# 6 Conversion to Other Python Objects",
   "id": "603b31f242ce13e0"
  },
  {
   "metadata": {
    "ExecuteTime": {
     "end_time": "2024-06-03T06:53:33.358471Z",
     "start_time": "2024-06-03T06:53:33.354767Z"
    }
   },
   "cell_type": "code",
   "source": [
    "A = X.numpy()\n",
    "B = torch.tensor(A)\n",
    "type(A), type(B)"
   ],
   "id": "461ba8ca4c4bb6e2",
   "outputs": [
    {
     "data": {
      "text/plain": [
       "(numpy.ndarray, torch.Tensor)"
      ]
     },
     "execution_count": 32,
     "metadata": {},
     "output_type": "execute_result"
    }
   ],
   "execution_count": 32
  },
  {
   "metadata": {
    "ExecuteTime": {
     "end_time": "2024-06-03T06:54:59.666915Z",
     "start_time": "2024-06-03T06:54:59.664148Z"
    }
   },
   "cell_type": "code",
   "source": [
    "a = torch.tensor([3.5])\n",
    "a, a.item(), float(a), int(a)"
   ],
   "id": "c51646918ce7dc79",
   "outputs": [
    {
     "data": {
      "text/plain": [
       "(tensor([3.5000]), 3.5, 3.5, 3)"
      ]
     },
     "execution_count": 33,
     "metadata": {},
     "output_type": "execute_result"
    }
   ],
   "execution_count": 33
  },
  {
   "metadata": {},
   "cell_type": "markdown",
   "source": "# 7 Tensor on GPU",
   "id": "bc603f7e618e4a9a"
  },
  {
   "metadata": {
    "ExecuteTime": {
     "end_time": "2024-06-03T06:56:48.217759Z",
     "start_time": "2024-06-03T06:56:46.590528Z"
    }
   },
   "cell_type": "code",
   "source": [
    "# 以下代码只有在PyTorch GPU版本上才会执行\n",
    "if torch.cuda.is_available():\n",
    "    device = torch.device(\"cuda\")          # GPU\n",
    "    y = torch.ones_like(x, device=device)  # Create Tensor on GPU\n",
    "    x = x.to(device)                       # equals .to(\"cuda\")\n",
    "    z = x + y\n",
    "    print(z)\n",
    "    print(z.to(\"cpu\", torch.double))       # to() can also change the data type"
   ],
   "id": "2f801f7cf958f5d3",
   "outputs": [
    {
     "name": "stdout",
     "output_type": "stream",
     "text": [
      "tensor([2., 3., 5., 9.], device='cuda:0')\n",
      "tensor([2., 3., 5., 9.], dtype=torch.float64)\n"
     ]
    }
   ],
   "execution_count": 34
  }
 ],
 "metadata": {
  "kernelspec": {
   "display_name": "Python 3",
   "language": "python",
   "name": "python3"
  },
  "language_info": {
   "codemirror_mode": {
    "name": "ipython",
    "version": 2
   },
   "file_extension": ".py",
   "mimetype": "text/x-python",
   "name": "python",
   "nbconvert_exporter": "python",
   "pygments_lexer": "ipython2",
   "version": "2.7.6"
  }
 },
 "nbformat": 4,
 "nbformat_minor": 5
}
