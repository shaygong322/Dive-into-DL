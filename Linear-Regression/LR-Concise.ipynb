{
 "cells": [
  {
   "metadata": {},
   "cell_type": "markdown",
   "source": "#### 生成数据集",
   "id": "2933169d6e2cf488"
  },
  {
   "cell_type": "code",
   "id": "initial_id",
   "metadata": {
    "collapsed": true,
    "ExecuteTime": {
     "end_time": "2024-06-22T04:01:46.206817Z",
     "start_time": "2024-06-22T04:01:45.295956Z"
    }
   },
   "source": [
    "import torch\n",
    "import numpy as np\n",
    "\n",
    "num_inputs = 2\n",
    "num_examples = 1000\n",
    "true_w = [2, -3.4]\n",
    "true_b = 4.2\n",
    "features = torch.tensor(np.random.normal(0, 1, (num_examples, num_inputs)), dtype=torch.float)\n",
    "labels = true_w[0] * features[:, 0] + true_w[1] * features[:, 1] + true_b\n",
    "labels += torch.tensor(np.random.normal(0, 0.01, size=labels.size()), dtype=torch.float)"
   ],
   "outputs": [],
   "execution_count": 1
  },
  {
   "metadata": {},
   "cell_type": "markdown",
   "source": "#### 读取数据",
   "id": "c04c266827bdbd38"
  },
  {
   "metadata": {
    "ExecuteTime": {
     "end_time": "2024-06-22T04:09:31.029895Z",
     "start_time": "2024-06-22T04:09:31.014298Z"
    }
   },
   "cell_type": "code",
   "source": [
    "from torch.utils.data import TensorDataset, DataLoader\n",
    "\n",
    "batch_size = 10\n",
    "# 将训练数据的特征和标签组合\n",
    "dataset = TensorDataset(features, labels)\n",
    "# 随机读取小批量\n",
    "data_iter = DataLoader(dataset, batch_size, shuffle=True)"
   ],
   "id": "1d5c7b42d97cc32",
   "outputs": [],
   "execution_count": 2
  },
  {
   "metadata": {},
   "cell_type": "markdown",
   "source": "#### 定义模型",
   "id": "9eeaca8385f2d136"
  },
  {
   "metadata": {
    "ExecuteTime": {
     "end_time": "2024-06-22T04:13:28.440375Z",
     "start_time": "2024-06-22T04:13:28.426143Z"
    }
   },
   "cell_type": "code",
   "source": [
    "from torch import nn\n",
    "\n",
    "class LinearNet(nn.Module):\n",
    "    def __init__(self, n_feature):\n",
    "        super(LinearNet, self).__init__()\n",
    "        self.linear = nn.Linear(n_feature, 1)\n",
    "    def forward(self, x):\n",
    "        y = self.linear(x)\n",
    "        return y\n",
    "\n",
    "net = LinearNet(num_inputs)\n",
    "print(net) # 使用print可以打印出网络的结构"
   ],
   "id": "563fcccc897888b3",
   "outputs": [
    {
     "name": "stdout",
     "output_type": "stream",
     "text": [
      "LinearNet(\n",
      "  (linear): Linear(in_features=2, out_features=1, bias=True)\n",
      ")\n"
     ]
    }
   ],
   "execution_count": 3
  },
  {
   "metadata": {},
   "cell_type": "markdown",
   "source": "#### 定义损失函数",
   "id": "2ad033b6d4d4b515"
  },
  {
   "metadata": {
    "ExecuteTime": {
     "end_time": "2024-06-22T04:15:27.853465Z",
     "start_time": "2024-06-22T04:15:27.850489Z"
    }
   },
   "cell_type": "code",
   "source": "loss = nn.MSELoss()",
   "id": "5c493fcb52d9e2df",
   "outputs": [],
   "execution_count": 4
  },
  {
   "metadata": {},
   "cell_type": "markdown",
   "source": "#### 定义优化算法",
   "id": "c287dd69f732f1b6"
  },
  {
   "metadata": {
    "ExecuteTime": {
     "end_time": "2024-06-22T04:18:24.976616Z",
     "start_time": "2024-06-22T04:18:23.911574Z"
    }
   },
   "cell_type": "code",
   "source": [
    "import torch.optim as optim\n",
    "\n",
    "optimizer = optim.SGD(net.parameters(), lr=0.03)"
   ],
   "id": "d36082c705ba51ac",
   "outputs": [],
   "execution_count": 5
  },
  {
   "metadata": {},
   "cell_type": "markdown",
   "source": "#### 训练模型",
   "id": "2d90840c228ee990"
  },
  {
   "metadata": {
    "ExecuteTime": {
     "end_time": "2024-06-22T04:18:47.058832Z",
     "start_time": "2024-06-22T04:18:46.963849Z"
    }
   },
   "cell_type": "code",
   "source": [
    "num_epochs = 3\n",
    "for epoch in range(1, num_epochs + 1):\n",
    "    for X, y in data_iter:\n",
    "        output = net(X)\n",
    "        l = loss(output, y.view(-1, 1))\n",
    "        optimizer.zero_grad() # 梯度清零，等价于net.zero_grad()\n",
    "        l.backward()\n",
    "        optimizer.step()\n",
    "    print('epoch %d, loss: %f' % (epoch, l.item()))"
   ],
   "id": "2dad39d7f674d33",
   "outputs": [
    {
     "name": "stdout",
     "output_type": "stream",
     "text": [
      "epoch 1, loss: 0.000720\n",
      "epoch 2, loss: 0.000078\n",
      "epoch 3, loss: 0.000186\n"
     ]
    }
   ],
   "execution_count": 6
  }
 ],
 "metadata": {
  "kernelspec": {
   "display_name": "Python 3",
   "language": "python",
   "name": "python3"
  },
  "language_info": {
   "codemirror_mode": {
    "name": "ipython",
    "version": 2
   },
   "file_extension": ".py",
   "mimetype": "text/x-python",
   "name": "python",
   "nbconvert_exporter": "python",
   "pygments_lexer": "ipython2",
   "version": "2.7.6"
  }
 },
 "nbformat": 4,
 "nbformat_minor": 5
}
