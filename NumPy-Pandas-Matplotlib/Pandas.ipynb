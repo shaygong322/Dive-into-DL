{
 "cells": [
  {
   "metadata": {},
   "cell_type": "markdown",
   "source": [
    "# Pandas\n",
    "pandas is a fast, powerful, flexible and easy to use open source data analysis and manipulation tool, built on top of the Python programming language.\n",
    "Key Features:\n",
    "+ Data Structures:\n",
    "  + Series: A one-dimensional labeled array capable of holding any data type.\n",
    "  + DataFrame: A two-dimensional labeled data structure with columns of potentially different types. It's similar to a table in a database or an Excel spreadsheet.\n",
    "+ Data Manipulation:\n",
    "  + Data Cleaning: Handle missing data, filter, and replace values.\n",
    "  + Data Transformation: Apply operations to columns or rows, group data, and perform aggregations.\n",
    "  + Data Merging and Joining: Combine multiple DataFrames using SQL-like joins.\n",
    "  + Data Reshaping: Pivot tables, stack/unstack, and transpose data.\n",
    "+ Data Analysis:\n",
    "  + Descriptive Statistics: Compute mean, median, mode, standard deviation, and other summary statistics.\n",
    "  + Time Series Analysis: Work with date-time data, perform resampling, and rolling window calculations.\n",
    "+ Input/Output:\n",
    "  + File Handling: Read and write data from/to CSV, Excel, SQL databases, JSON, and other formats.\n",
    "+ Visualization:\n",
    "  + Plotting: Interface with matplotlib to create a variety of plots and charts directly from DataFrames."
   ],
   "id": "99612062dd2dc684"
  },
  {
   "metadata": {
    "ExecuteTime": {
     "end_time": "2024-06-02T23:24:41.593037Z",
     "start_time": "2024-06-02T23:24:41.396250Z"
    }
   },
   "cell_type": "code",
   "source": [
    "import numpy as np\n",
    "import pandas as pd"
   ],
   "id": "280d5795860bbe49",
   "outputs": [],
   "execution_count": 1
  },
  {
   "metadata": {},
   "cell_type": "markdown",
   "source": "# 1 Object Creation",
   "id": "93b27d052edf6931"
  },
  {
   "metadata": {
    "ExecuteTime": {
     "end_time": "2024-06-02T23:24:52.839729Z",
     "start_time": "2024-06-02T23:24:52.835768Z"
    }
   },
   "cell_type": "code",
   "source": [
    "# Create a Series by passing a list of values\n",
    "s = pd.Series([1, 3, 5, np.nan, 6, 8])\n",
    "s"
   ],
   "id": "a588ac04bba843e4",
   "outputs": [
    {
     "data": {
      "text/plain": [
       "0    1.0\n",
       "1    3.0\n",
       "2    5.0\n",
       "3    NaN\n",
       "4    6.0\n",
       "5    8.0\n",
       "dtype: float64"
      ]
     },
     "execution_count": 2,
     "metadata": {},
     "output_type": "execute_result"
    }
   ],
   "execution_count": 2
  },
  {
   "metadata": {
    "ExecuteTime": {
     "end_time": "2024-06-02T23:27:26.089859Z",
     "start_time": "2024-06-02T23:27:26.083370Z"
    }
   },
   "cell_type": "code",
   "source": [
    "# Create a DataFrame using Series, dict, objects\n",
    "df2 = pd.DataFrame({\n",
    "    'A': 1.,\n",
    "    'B': pd.Timestamp('20130102'),\n",
    "    'C': pd.Series(1, index=list(range(4)), dtype='float32'),\n",
    "    'D': np.array([3] * 4, dtype='int32'),\n",
    "    'E': pd.Categorical([\"test\", \"train\", \"test\", \"train\"]),\n",
    "    'F': 'foo'\n",
    "})\n",
    "df2"
   ],
   "id": "655a41bb9b13c1a1",
   "outputs": [
    {
     "data": {
      "text/plain": [
       "     A          B    C  D      E    F\n",
       "0  1.0 2013-01-02  1.0  3   test  foo\n",
       "1  1.0 2013-01-02  1.0  3  train  foo\n",
       "2  1.0 2013-01-02  1.0  3   test  foo\n",
       "3  1.0 2013-01-02  1.0  3  train  foo"
      ],
      "text/html": [
       "<div>\n",
       "<style scoped>\n",
       "    .dataframe tbody tr th:only-of-type {\n",
       "        vertical-align: middle;\n",
       "    }\n",
       "\n",
       "    .dataframe tbody tr th {\n",
       "        vertical-align: top;\n",
       "    }\n",
       "\n",
       "    .dataframe thead th {\n",
       "        text-align: right;\n",
       "    }\n",
       "</style>\n",
       "<table border=\"1\" class=\"dataframe\">\n",
       "  <thead>\n",
       "    <tr style=\"text-align: right;\">\n",
       "      <th></th>\n",
       "      <th>A</th>\n",
       "      <th>B</th>\n",
       "      <th>C</th>\n",
       "      <th>D</th>\n",
       "      <th>E</th>\n",
       "      <th>F</th>\n",
       "    </tr>\n",
       "  </thead>\n",
       "  <tbody>\n",
       "    <tr>\n",
       "      <th>0</th>\n",
       "      <td>1.0</td>\n",
       "      <td>2013-01-02</td>\n",
       "      <td>1.0</td>\n",
       "      <td>3</td>\n",
       "      <td>test</td>\n",
       "      <td>foo</td>\n",
       "    </tr>\n",
       "    <tr>\n",
       "      <th>1</th>\n",
       "      <td>1.0</td>\n",
       "      <td>2013-01-02</td>\n",
       "      <td>1.0</td>\n",
       "      <td>3</td>\n",
       "      <td>train</td>\n",
       "      <td>foo</td>\n",
       "    </tr>\n",
       "    <tr>\n",
       "      <th>2</th>\n",
       "      <td>1.0</td>\n",
       "      <td>2013-01-02</td>\n",
       "      <td>1.0</td>\n",
       "      <td>3</td>\n",
       "      <td>test</td>\n",
       "      <td>foo</td>\n",
       "    </tr>\n",
       "    <tr>\n",
       "      <th>3</th>\n",
       "      <td>1.0</td>\n",
       "      <td>2013-01-02</td>\n",
       "      <td>1.0</td>\n",
       "      <td>3</td>\n",
       "      <td>train</td>\n",
       "      <td>foo</td>\n",
       "    </tr>\n",
       "  </tbody>\n",
       "</table>\n",
       "</div>"
      ]
     },
     "execution_count": 3,
     "metadata": {},
     "output_type": "execute_result"
    }
   ],
   "execution_count": 3
  },
  {
   "metadata": {
    "ExecuteTime": {
     "end_time": "2024-06-02T23:29:12.799653Z",
     "start_time": "2024-06-02T23:29:12.796299Z"
    }
   },
   "cell_type": "code",
   "source": [
    "# Create a DataFrame by passing a datetime index, a labeled index, and NumPy arrays\n",
    "d = pd.date_range('20130101', periods=6)\n",
    "d"
   ],
   "id": "38ca9664ef9953b0",
   "outputs": [
    {
     "data": {
      "text/plain": [
       "DatetimeIndex(['2013-01-01', '2013-01-02', '2013-01-03', '2013-01-04',\n",
       "               '2013-01-05', '2013-01-06'],\n",
       "              dtype='datetime64[ns]', freq='D')"
      ]
     },
     "execution_count": 4,
     "metadata": {},
     "output_type": "execute_result"
    }
   ],
   "execution_count": 4
  },
  {
   "metadata": {
    "ExecuteTime": {
     "end_time": "2024-06-02T23:29:15.231339Z",
     "start_time": "2024-06-02T23:29:15.226494Z"
    }
   },
   "cell_type": "code",
   "source": [
    "df = pd.DataFrame(np.random.randn(6, 4), index=d, columns=list('ABCD'))\n",
    "df"
   ],
   "id": "dd5058a25c8a1db5",
   "outputs": [
    {
     "data": {
      "text/plain": [
       "                   A         B         C         D\n",
       "2013-01-01 -0.017865  0.973668  0.738606 -0.249930\n",
       "2013-01-02  2.412585 -0.214167 -2.010037  0.007982\n",
       "2013-01-03 -0.204675  0.945784  0.280822 -0.032412\n",
       "2013-01-04 -0.011590  1.065049  1.078857 -0.394424\n",
       "2013-01-05 -0.216481  0.349868 -0.760631  0.243898\n",
       "2013-01-06  0.598355  1.612032 -1.555591 -1.907510"
      ],
      "text/html": [
       "<div>\n",
       "<style scoped>\n",
       "    .dataframe tbody tr th:only-of-type {\n",
       "        vertical-align: middle;\n",
       "    }\n",
       "\n",
       "    .dataframe tbody tr th {\n",
       "        vertical-align: top;\n",
       "    }\n",
       "\n",
       "    .dataframe thead th {\n",
       "        text-align: right;\n",
       "    }\n",
       "</style>\n",
       "<table border=\"1\" class=\"dataframe\">\n",
       "  <thead>\n",
       "    <tr style=\"text-align: right;\">\n",
       "      <th></th>\n",
       "      <th>A</th>\n",
       "      <th>B</th>\n",
       "      <th>C</th>\n",
       "      <th>D</th>\n",
       "    </tr>\n",
       "  </thead>\n",
       "  <tbody>\n",
       "    <tr>\n",
       "      <th>2013-01-01</th>\n",
       "      <td>-0.017865</td>\n",
       "      <td>0.973668</td>\n",
       "      <td>0.738606</td>\n",
       "      <td>-0.249930</td>\n",
       "    </tr>\n",
       "    <tr>\n",
       "      <th>2013-01-02</th>\n",
       "      <td>2.412585</td>\n",
       "      <td>-0.214167</td>\n",
       "      <td>-2.010037</td>\n",
       "      <td>0.007982</td>\n",
       "    </tr>\n",
       "    <tr>\n",
       "      <th>2013-01-03</th>\n",
       "      <td>-0.204675</td>\n",
       "      <td>0.945784</td>\n",
       "      <td>0.280822</td>\n",
       "      <td>-0.032412</td>\n",
       "    </tr>\n",
       "    <tr>\n",
       "      <th>2013-01-04</th>\n",
       "      <td>-0.011590</td>\n",
       "      <td>1.065049</td>\n",
       "      <td>1.078857</td>\n",
       "      <td>-0.394424</td>\n",
       "    </tr>\n",
       "    <tr>\n",
       "      <th>2013-01-05</th>\n",
       "      <td>-0.216481</td>\n",
       "      <td>0.349868</td>\n",
       "      <td>-0.760631</td>\n",
       "      <td>0.243898</td>\n",
       "    </tr>\n",
       "    <tr>\n",
       "      <th>2013-01-06</th>\n",
       "      <td>0.598355</td>\n",
       "      <td>1.612032</td>\n",
       "      <td>-1.555591</td>\n",
       "      <td>-1.907510</td>\n",
       "    </tr>\n",
       "  </tbody>\n",
       "</table>\n",
       "</div>"
      ]
     },
     "execution_count": 5,
     "metadata": {},
     "output_type": "execute_result"
    }
   ],
   "execution_count": 5
  },
  {
   "metadata": {},
   "cell_type": "markdown",
   "source": "# 2 Viewing Data",
   "id": "1cda418c0ea23fc4"
  },
  {
   "metadata": {
    "ExecuteTime": {
     "end_time": "2024-06-02T23:29:17.689548Z",
     "start_time": "2024-06-02T23:29:17.685344Z"
    }
   },
   "cell_type": "code",
   "source": [
    "# View data types of each column in DataFrame\n",
    "df2.dtypes"
   ],
   "id": "ceeb5495b5796c9e",
   "outputs": [
    {
     "data": {
      "text/plain": [
       "A           float64\n",
       "B    datetime64[ns]\n",
       "C           float32\n",
       "D             int32\n",
       "E          category\n",
       "F            object\n",
       "dtype: object"
      ]
     },
     "execution_count": 6,
     "metadata": {},
     "output_type": "execute_result"
    }
   ],
   "execution_count": 6
  },
  {
   "metadata": {
    "ExecuteTime": {
     "end_time": "2024-06-02T23:29:24.682628Z",
     "start_time": "2024-06-02T23:29:24.678135Z"
    }
   },
   "cell_type": "code",
   "source": [
    "# View the first few rows of the DataFrame\n",
    "df.head()"
   ],
   "id": "cc6d3a169e2fa067",
   "outputs": [
    {
     "data": {
      "text/plain": [
       "                   A         B         C         D\n",
       "2013-01-01 -0.017865  0.973668  0.738606 -0.249930\n",
       "2013-01-02  2.412585 -0.214167 -2.010037  0.007982\n",
       "2013-01-03 -0.204675  0.945784  0.280822 -0.032412\n",
       "2013-01-04 -0.011590  1.065049  1.078857 -0.394424\n",
       "2013-01-05 -0.216481  0.349868 -0.760631  0.243898"
      ],
      "text/html": [
       "<div>\n",
       "<style scoped>\n",
       "    .dataframe tbody tr th:only-of-type {\n",
       "        vertical-align: middle;\n",
       "    }\n",
       "\n",
       "    .dataframe tbody tr th {\n",
       "        vertical-align: top;\n",
       "    }\n",
       "\n",
       "    .dataframe thead th {\n",
       "        text-align: right;\n",
       "    }\n",
       "</style>\n",
       "<table border=\"1\" class=\"dataframe\">\n",
       "  <thead>\n",
       "    <tr style=\"text-align: right;\">\n",
       "      <th></th>\n",
       "      <th>A</th>\n",
       "      <th>B</th>\n",
       "      <th>C</th>\n",
       "      <th>D</th>\n",
       "    </tr>\n",
       "  </thead>\n",
       "  <tbody>\n",
       "    <tr>\n",
       "      <th>2013-01-01</th>\n",
       "      <td>-0.017865</td>\n",
       "      <td>0.973668</td>\n",
       "      <td>0.738606</td>\n",
       "      <td>-0.249930</td>\n",
       "    </tr>\n",
       "    <tr>\n",
       "      <th>2013-01-02</th>\n",
       "      <td>2.412585</td>\n",
       "      <td>-0.214167</td>\n",
       "      <td>-2.010037</td>\n",
       "      <td>0.007982</td>\n",
       "    </tr>\n",
       "    <tr>\n",
       "      <th>2013-01-03</th>\n",
       "      <td>-0.204675</td>\n",
       "      <td>0.945784</td>\n",
       "      <td>0.280822</td>\n",
       "      <td>-0.032412</td>\n",
       "    </tr>\n",
       "    <tr>\n",
       "      <th>2013-01-04</th>\n",
       "      <td>-0.011590</td>\n",
       "      <td>1.065049</td>\n",
       "      <td>1.078857</td>\n",
       "      <td>-0.394424</td>\n",
       "    </tr>\n",
       "    <tr>\n",
       "      <th>2013-01-05</th>\n",
       "      <td>-0.216481</td>\n",
       "      <td>0.349868</td>\n",
       "      <td>-0.760631</td>\n",
       "      <td>0.243898</td>\n",
       "    </tr>\n",
       "  </tbody>\n",
       "</table>\n",
       "</div>"
      ]
     },
     "execution_count": 7,
     "metadata": {},
     "output_type": "execute_result"
    }
   ],
   "execution_count": 7
  },
  {
   "metadata": {
    "ExecuteTime": {
     "end_time": "2024-06-02T23:29:25.834681Z",
     "start_time": "2024-06-02T23:29:25.830122Z"
    }
   },
   "cell_type": "code",
   "source": [
    "# View the first 2 rows of the DataFrame\n",
    "df.head(2)"
   ],
   "id": "6dfc7cf918b64b64",
   "outputs": [
    {
     "data": {
      "text/plain": [
       "                   A         B         C         D\n",
       "2013-01-01 -0.017865  0.973668  0.738606 -0.249930\n",
       "2013-01-02  2.412585 -0.214167 -2.010037  0.007982"
      ],
      "text/html": [
       "<div>\n",
       "<style scoped>\n",
       "    .dataframe tbody tr th:only-of-type {\n",
       "        vertical-align: middle;\n",
       "    }\n",
       "\n",
       "    .dataframe tbody tr th {\n",
       "        vertical-align: top;\n",
       "    }\n",
       "\n",
       "    .dataframe thead th {\n",
       "        text-align: right;\n",
       "    }\n",
       "</style>\n",
       "<table border=\"1\" class=\"dataframe\">\n",
       "  <thead>\n",
       "    <tr style=\"text-align: right;\">\n",
       "      <th></th>\n",
       "      <th>A</th>\n",
       "      <th>B</th>\n",
       "      <th>C</th>\n",
       "      <th>D</th>\n",
       "    </tr>\n",
       "  </thead>\n",
       "  <tbody>\n",
       "    <tr>\n",
       "      <th>2013-01-01</th>\n",
       "      <td>-0.017865</td>\n",
       "      <td>0.973668</td>\n",
       "      <td>0.738606</td>\n",
       "      <td>-0.249930</td>\n",
       "    </tr>\n",
       "    <tr>\n",
       "      <th>2013-01-02</th>\n",
       "      <td>2.412585</td>\n",
       "      <td>-0.214167</td>\n",
       "      <td>-2.010037</td>\n",
       "      <td>0.007982</td>\n",
       "    </tr>\n",
       "  </tbody>\n",
       "</table>\n",
       "</div>"
      ]
     },
     "execution_count": 8,
     "metadata": {},
     "output_type": "execute_result"
    }
   ],
   "execution_count": 8
  },
  {
   "metadata": {
    "ExecuteTime": {
     "end_time": "2024-06-02T23:29:28.091483Z",
     "start_time": "2024-06-02T23:29:28.087275Z"
    }
   },
   "cell_type": "code",
   "source": [
    "# View the last three rows of the DataFrame\n",
    "df.tail(3)"
   ],
   "id": "96f36cbd51550ff",
   "outputs": [
    {
     "data": {
      "text/plain": [
       "                   A         B         C         D\n",
       "2013-01-04 -0.011590  1.065049  1.078857 -0.394424\n",
       "2013-01-05 -0.216481  0.349868 -0.760631  0.243898\n",
       "2013-01-06  0.598355  1.612032 -1.555591 -1.907510"
      ],
      "text/html": [
       "<div>\n",
       "<style scoped>\n",
       "    .dataframe tbody tr th:only-of-type {\n",
       "        vertical-align: middle;\n",
       "    }\n",
       "\n",
       "    .dataframe tbody tr th {\n",
       "        vertical-align: top;\n",
       "    }\n",
       "\n",
       "    .dataframe thead th {\n",
       "        text-align: right;\n",
       "    }\n",
       "</style>\n",
       "<table border=\"1\" class=\"dataframe\">\n",
       "  <thead>\n",
       "    <tr style=\"text-align: right;\">\n",
       "      <th></th>\n",
       "      <th>A</th>\n",
       "      <th>B</th>\n",
       "      <th>C</th>\n",
       "      <th>D</th>\n",
       "    </tr>\n",
       "  </thead>\n",
       "  <tbody>\n",
       "    <tr>\n",
       "      <th>2013-01-04</th>\n",
       "      <td>-0.011590</td>\n",
       "      <td>1.065049</td>\n",
       "      <td>1.078857</td>\n",
       "      <td>-0.394424</td>\n",
       "    </tr>\n",
       "    <tr>\n",
       "      <th>2013-01-05</th>\n",
       "      <td>-0.216481</td>\n",
       "      <td>0.349868</td>\n",
       "      <td>-0.760631</td>\n",
       "      <td>0.243898</td>\n",
       "    </tr>\n",
       "    <tr>\n",
       "      <th>2013-01-06</th>\n",
       "      <td>0.598355</td>\n",
       "      <td>1.612032</td>\n",
       "      <td>-1.555591</td>\n",
       "      <td>-1.907510</td>\n",
       "    </tr>\n",
       "  </tbody>\n",
       "</table>\n",
       "</div>"
      ]
     },
     "execution_count": 9,
     "metadata": {},
     "output_type": "execute_result"
    }
   ],
   "execution_count": 9
  },
  {
   "metadata": {
    "ExecuteTime": {
     "end_time": "2024-06-02T23:29:29.523116Z",
     "start_time": "2024-06-02T23:29:29.519528Z"
    }
   },
   "cell_type": "code",
   "source": [
    "# View the index of the DataFrame\n",
    "df.index"
   ],
   "id": "2b115dcc9159770c",
   "outputs": [
    {
     "data": {
      "text/plain": [
       "DatetimeIndex(['2013-01-01', '2013-01-02', '2013-01-03', '2013-01-04',\n",
       "               '2013-01-05', '2013-01-06'],\n",
       "              dtype='datetime64[ns]', freq='D')"
      ]
     },
     "execution_count": 10,
     "metadata": {},
     "output_type": "execute_result"
    }
   ],
   "execution_count": 10
  },
  {
   "metadata": {
    "ExecuteTime": {
     "end_time": "2024-06-02T23:29:32.596191Z",
     "start_time": "2024-06-02T23:29:32.593389Z"
    }
   },
   "cell_type": "code",
   "source": [
    "# View the column names of the DataFrame\n",
    "df.columns"
   ],
   "id": "c02e14f8c9aa45de",
   "outputs": [
    {
     "data": {
      "text/plain": [
       "Index(['A', 'B', 'C', 'D'], dtype='object')"
      ]
     },
     "execution_count": 11,
     "metadata": {},
     "output_type": "execute_result"
    }
   ],
   "execution_count": 11
  },
  {
   "metadata": {
    "ExecuteTime": {
     "end_time": "2024-06-02T23:29:34.297602Z",
     "start_time": "2024-06-02T23:29:34.287752Z"
    }
   },
   "cell_type": "code",
   "source": [
    "# View the statistical summary of the data\n",
    "df.describe()"
   ],
   "id": "2d2169672031eba9",
   "outputs": [
    {
     "data": {
      "text/plain": [
       "              A         B         C         D\n",
       "count  6.000000  6.000000  6.000000  6.000000\n",
       "mean   0.426721  0.788706 -0.371329 -0.388733\n",
       "std    1.017375  0.634263  1.264887  0.775958\n",
       "min   -0.216481 -0.214167 -2.010037 -1.907510\n",
       "25%   -0.157973  0.498847 -1.356851 -0.358301\n",
       "50%   -0.014728  0.959726 -0.239905 -0.141171\n",
       "75%    0.445869  1.042204  0.624160 -0.002117\n",
       "max    2.412585  1.612032  1.078857  0.243898"
      ],
      "text/html": [
       "<div>\n",
       "<style scoped>\n",
       "    .dataframe tbody tr th:only-of-type {\n",
       "        vertical-align: middle;\n",
       "    }\n",
       "\n",
       "    .dataframe tbody tr th {\n",
       "        vertical-align: top;\n",
       "    }\n",
       "\n",
       "    .dataframe thead th {\n",
       "        text-align: right;\n",
       "    }\n",
       "</style>\n",
       "<table border=\"1\" class=\"dataframe\">\n",
       "  <thead>\n",
       "    <tr style=\"text-align: right;\">\n",
       "      <th></th>\n",
       "      <th>A</th>\n",
       "      <th>B</th>\n",
       "      <th>C</th>\n",
       "      <th>D</th>\n",
       "    </tr>\n",
       "  </thead>\n",
       "  <tbody>\n",
       "    <tr>\n",
       "      <th>count</th>\n",
       "      <td>6.000000</td>\n",
       "      <td>6.000000</td>\n",
       "      <td>6.000000</td>\n",
       "      <td>6.000000</td>\n",
       "    </tr>\n",
       "    <tr>\n",
       "      <th>mean</th>\n",
       "      <td>0.426721</td>\n",
       "      <td>0.788706</td>\n",
       "      <td>-0.371329</td>\n",
       "      <td>-0.388733</td>\n",
       "    </tr>\n",
       "    <tr>\n",
       "      <th>std</th>\n",
       "      <td>1.017375</td>\n",
       "      <td>0.634263</td>\n",
       "      <td>1.264887</td>\n",
       "      <td>0.775958</td>\n",
       "    </tr>\n",
       "    <tr>\n",
       "      <th>min</th>\n",
       "      <td>-0.216481</td>\n",
       "      <td>-0.214167</td>\n",
       "      <td>-2.010037</td>\n",
       "      <td>-1.907510</td>\n",
       "    </tr>\n",
       "    <tr>\n",
       "      <th>25%</th>\n",
       "      <td>-0.157973</td>\n",
       "      <td>0.498847</td>\n",
       "      <td>-1.356851</td>\n",
       "      <td>-0.358301</td>\n",
       "    </tr>\n",
       "    <tr>\n",
       "      <th>50%</th>\n",
       "      <td>-0.014728</td>\n",
       "      <td>0.959726</td>\n",
       "      <td>-0.239905</td>\n",
       "      <td>-0.141171</td>\n",
       "    </tr>\n",
       "    <tr>\n",
       "      <th>75%</th>\n",
       "      <td>0.445869</td>\n",
       "      <td>1.042204</td>\n",
       "      <td>0.624160</td>\n",
       "      <td>-0.002117</td>\n",
       "    </tr>\n",
       "    <tr>\n",
       "      <th>max</th>\n",
       "      <td>2.412585</td>\n",
       "      <td>1.612032</td>\n",
       "      <td>1.078857</td>\n",
       "      <td>0.243898</td>\n",
       "    </tr>\n",
       "  </tbody>\n",
       "</table>\n",
       "</div>"
      ]
     },
     "execution_count": 12,
     "metadata": {},
     "output_type": "execute_result"
    }
   ],
   "execution_count": 12
  },
  {
   "metadata": {},
   "cell_type": "markdown",
   "source": "# 3 Sorting",
   "id": "764a1931ba069abe"
  },
  {
   "metadata": {
    "ExecuteTime": {
     "end_time": "2024-06-02T23:30:01.058254Z",
     "start_time": "2024-06-02T23:30:01.053468Z"
    }
   },
   "cell_type": "code",
   "source": [
    "# Sort by index\n",
    "df.sort_index(axis=1, ascending=False)"
   ],
   "id": "5ce897b364c54f71",
   "outputs": [
    {
     "data": {
      "text/plain": [
       "                   D         C         B         A\n",
       "2013-01-01 -0.249930  0.738606  0.973668 -0.017865\n",
       "2013-01-02  0.007982 -2.010037 -0.214167  2.412585\n",
       "2013-01-03 -0.032412  0.280822  0.945784 -0.204675\n",
       "2013-01-04 -0.394424  1.078857  1.065049 -0.011590\n",
       "2013-01-05  0.243898 -0.760631  0.349868 -0.216481\n",
       "2013-01-06 -1.907510 -1.555591  1.612032  0.598355"
      ],
      "text/html": [
       "<div>\n",
       "<style scoped>\n",
       "    .dataframe tbody tr th:only-of-type {\n",
       "        vertical-align: middle;\n",
       "    }\n",
       "\n",
       "    .dataframe tbody tr th {\n",
       "        vertical-align: top;\n",
       "    }\n",
       "\n",
       "    .dataframe thead th {\n",
       "        text-align: right;\n",
       "    }\n",
       "</style>\n",
       "<table border=\"1\" class=\"dataframe\">\n",
       "  <thead>\n",
       "    <tr style=\"text-align: right;\">\n",
       "      <th></th>\n",
       "      <th>D</th>\n",
       "      <th>C</th>\n",
       "      <th>B</th>\n",
       "      <th>A</th>\n",
       "    </tr>\n",
       "  </thead>\n",
       "  <tbody>\n",
       "    <tr>\n",
       "      <th>2013-01-01</th>\n",
       "      <td>-0.249930</td>\n",
       "      <td>0.738606</td>\n",
       "      <td>0.973668</td>\n",
       "      <td>-0.017865</td>\n",
       "    </tr>\n",
       "    <tr>\n",
       "      <th>2013-01-02</th>\n",
       "      <td>0.007982</td>\n",
       "      <td>-2.010037</td>\n",
       "      <td>-0.214167</td>\n",
       "      <td>2.412585</td>\n",
       "    </tr>\n",
       "    <tr>\n",
       "      <th>2013-01-03</th>\n",
       "      <td>-0.032412</td>\n",
       "      <td>0.280822</td>\n",
       "      <td>0.945784</td>\n",
       "      <td>-0.204675</td>\n",
       "    </tr>\n",
       "    <tr>\n",
       "      <th>2013-01-04</th>\n",
       "      <td>-0.394424</td>\n",
       "      <td>1.078857</td>\n",
       "      <td>1.065049</td>\n",
       "      <td>-0.011590</td>\n",
       "    </tr>\n",
       "    <tr>\n",
       "      <th>2013-01-05</th>\n",
       "      <td>0.243898</td>\n",
       "      <td>-0.760631</td>\n",
       "      <td>0.349868</td>\n",
       "      <td>-0.216481</td>\n",
       "    </tr>\n",
       "    <tr>\n",
       "      <th>2013-01-06</th>\n",
       "      <td>-1.907510</td>\n",
       "      <td>-1.555591</td>\n",
       "      <td>1.612032</td>\n",
       "      <td>0.598355</td>\n",
       "    </tr>\n",
       "  </tbody>\n",
       "</table>\n",
       "</div>"
      ]
     },
     "execution_count": 13,
     "metadata": {},
     "output_type": "execute_result"
    }
   ],
   "execution_count": 13
  },
  {
   "metadata": {
    "ExecuteTime": {
     "end_time": "2024-06-02T23:30:09.627794Z",
     "start_time": "2024-06-02T23:30:09.622162Z"
    }
   },
   "cell_type": "code",
   "source": [
    "# Sort by values\n",
    "df.sort_values(by='B')"
   ],
   "id": "6fb15f120aebefcf",
   "outputs": [
    {
     "data": {
      "text/plain": [
       "                   A         B         C         D\n",
       "2013-01-02  2.412585 -0.214167 -2.010037  0.007982\n",
       "2013-01-05 -0.216481  0.349868 -0.760631  0.243898\n",
       "2013-01-03 -0.204675  0.945784  0.280822 -0.032412\n",
       "2013-01-01 -0.017865  0.973668  0.738606 -0.249930\n",
       "2013-01-04 -0.011590  1.065049  1.078857 -0.394424\n",
       "2013-01-06  0.598355  1.612032 -1.555591 -1.907510"
      ],
      "text/html": [
       "<div>\n",
       "<style scoped>\n",
       "    .dataframe tbody tr th:only-of-type {\n",
       "        vertical-align: middle;\n",
       "    }\n",
       "\n",
       "    .dataframe tbody tr th {\n",
       "        vertical-align: top;\n",
       "    }\n",
       "\n",
       "    .dataframe thead th {\n",
       "        text-align: right;\n",
       "    }\n",
       "</style>\n",
       "<table border=\"1\" class=\"dataframe\">\n",
       "  <thead>\n",
       "    <tr style=\"text-align: right;\">\n",
       "      <th></th>\n",
       "      <th>A</th>\n",
       "      <th>B</th>\n",
       "      <th>C</th>\n",
       "      <th>D</th>\n",
       "    </tr>\n",
       "  </thead>\n",
       "  <tbody>\n",
       "    <tr>\n",
       "      <th>2013-01-02</th>\n",
       "      <td>2.412585</td>\n",
       "      <td>-0.214167</td>\n",
       "      <td>-2.010037</td>\n",
       "      <td>0.007982</td>\n",
       "    </tr>\n",
       "    <tr>\n",
       "      <th>2013-01-05</th>\n",
       "      <td>-0.216481</td>\n",
       "      <td>0.349868</td>\n",
       "      <td>-0.760631</td>\n",
       "      <td>0.243898</td>\n",
       "    </tr>\n",
       "    <tr>\n",
       "      <th>2013-01-03</th>\n",
       "      <td>-0.204675</td>\n",
       "      <td>0.945784</td>\n",
       "      <td>0.280822</td>\n",
       "      <td>-0.032412</td>\n",
       "    </tr>\n",
       "    <tr>\n",
       "      <th>2013-01-01</th>\n",
       "      <td>-0.017865</td>\n",
       "      <td>0.973668</td>\n",
       "      <td>0.738606</td>\n",
       "      <td>-0.249930</td>\n",
       "    </tr>\n",
       "    <tr>\n",
       "      <th>2013-01-04</th>\n",
       "      <td>-0.011590</td>\n",
       "      <td>1.065049</td>\n",
       "      <td>1.078857</td>\n",
       "      <td>-0.394424</td>\n",
       "    </tr>\n",
       "    <tr>\n",
       "      <th>2013-01-06</th>\n",
       "      <td>0.598355</td>\n",
       "      <td>1.612032</td>\n",
       "      <td>-1.555591</td>\n",
       "      <td>-1.907510</td>\n",
       "    </tr>\n",
       "  </tbody>\n",
       "</table>\n",
       "</div>"
      ]
     },
     "execution_count": 14,
     "metadata": {},
     "output_type": "execute_result"
    }
   ],
   "execution_count": 14
  },
  {
   "metadata": {},
   "cell_type": "markdown",
   "source": "# 4 Selecting Data",
   "id": "464f9a6b4b80631"
  },
  {
   "metadata": {
    "ExecuteTime": {
     "end_time": "2024-06-02T23:30:20.750536Z",
     "start_time": "2024-06-02T23:30:20.747176Z"
    }
   },
   "cell_type": "code",
   "source": [
    "# Select a single column\n",
    "df['A']"
   ],
   "id": "b2e7dd66bc8b05cb",
   "outputs": [
    {
     "data": {
      "text/plain": [
       "2013-01-01   -0.017865\n",
       "2013-01-02    2.412585\n",
       "2013-01-03   -0.204675\n",
       "2013-01-04   -0.011590\n",
       "2013-01-05   -0.216481\n",
       "2013-01-06    0.598355\n",
       "Freq: D, Name: A, dtype: float64"
      ]
     },
     "execution_count": 15,
     "metadata": {},
     "output_type": "execute_result"
    }
   ],
   "execution_count": 15
  },
  {
   "metadata": {
    "ExecuteTime": {
     "end_time": "2024-06-02T23:30:22.802871Z",
     "start_time": "2024-06-02T23:30:22.798785Z"
    }
   },
   "cell_type": "code",
   "source": [
    "# Slice rows\n",
    "df[1:3]"
   ],
   "id": "e51a5de6dced93b6",
   "outputs": [
    {
     "data": {
      "text/plain": [
       "                   A         B         C         D\n",
       "2013-01-02  2.412585 -0.214167 -2.010037  0.007982\n",
       "2013-01-03 -0.204675  0.945784  0.280822 -0.032412"
      ],
      "text/html": [
       "<div>\n",
       "<style scoped>\n",
       "    .dataframe tbody tr th:only-of-type {\n",
       "        vertical-align: middle;\n",
       "    }\n",
       "\n",
       "    .dataframe tbody tr th {\n",
       "        vertical-align: top;\n",
       "    }\n",
       "\n",
       "    .dataframe thead th {\n",
       "        text-align: right;\n",
       "    }\n",
       "</style>\n",
       "<table border=\"1\" class=\"dataframe\">\n",
       "  <thead>\n",
       "    <tr style=\"text-align: right;\">\n",
       "      <th></th>\n",
       "      <th>A</th>\n",
       "      <th>B</th>\n",
       "      <th>C</th>\n",
       "      <th>D</th>\n",
       "    </tr>\n",
       "  </thead>\n",
       "  <tbody>\n",
       "    <tr>\n",
       "      <th>2013-01-02</th>\n",
       "      <td>2.412585</td>\n",
       "      <td>-0.214167</td>\n",
       "      <td>-2.010037</td>\n",
       "      <td>0.007982</td>\n",
       "    </tr>\n",
       "    <tr>\n",
       "      <th>2013-01-03</th>\n",
       "      <td>-0.204675</td>\n",
       "      <td>0.945784</td>\n",
       "      <td>0.280822</td>\n",
       "      <td>-0.032412</td>\n",
       "    </tr>\n",
       "  </tbody>\n",
       "</table>\n",
       "</div>"
      ]
     },
     "execution_count": 16,
     "metadata": {},
     "output_type": "execute_result"
    }
   ],
   "execution_count": 16
  },
  {
   "metadata": {
    "ExecuteTime": {
     "end_time": "2024-06-02T23:30:26.334334Z",
     "start_time": "2024-06-02T23:30:26.327731Z"
    }
   },
   "cell_type": "code",
   "source": [
    "# Select by a date range\n",
    "df['2013-01-02':'2013-01-04']"
   ],
   "id": "9c148e4afb5f2820",
   "outputs": [
    {
     "data": {
      "text/plain": [
       "                   A         B         C         D\n",
       "2013-01-02  2.412585 -0.214167 -2.010037  0.007982\n",
       "2013-01-03 -0.204675  0.945784  0.280822 -0.032412\n",
       "2013-01-04 -0.011590  1.065049  1.078857 -0.394424"
      ],
      "text/html": [
       "<div>\n",
       "<style scoped>\n",
       "    .dataframe tbody tr th:only-of-type {\n",
       "        vertical-align: middle;\n",
       "    }\n",
       "\n",
       "    .dataframe tbody tr th {\n",
       "        vertical-align: top;\n",
       "    }\n",
       "\n",
       "    .dataframe thead th {\n",
       "        text-align: right;\n",
       "    }\n",
       "</style>\n",
       "<table border=\"1\" class=\"dataframe\">\n",
       "  <thead>\n",
       "    <tr style=\"text-align: right;\">\n",
       "      <th></th>\n",
       "      <th>A</th>\n",
       "      <th>B</th>\n",
       "      <th>C</th>\n",
       "      <th>D</th>\n",
       "    </tr>\n",
       "  </thead>\n",
       "  <tbody>\n",
       "    <tr>\n",
       "      <th>2013-01-02</th>\n",
       "      <td>2.412585</td>\n",
       "      <td>-0.214167</td>\n",
       "      <td>-2.010037</td>\n",
       "      <td>0.007982</td>\n",
       "    </tr>\n",
       "    <tr>\n",
       "      <th>2013-01-03</th>\n",
       "      <td>-0.204675</td>\n",
       "      <td>0.945784</td>\n",
       "      <td>0.280822</td>\n",
       "      <td>-0.032412</td>\n",
       "    </tr>\n",
       "    <tr>\n",
       "      <th>2013-01-04</th>\n",
       "      <td>-0.011590</td>\n",
       "      <td>1.065049</td>\n",
       "      <td>1.078857</td>\n",
       "      <td>-0.394424</td>\n",
       "    </tr>\n",
       "  </tbody>\n",
       "</table>\n",
       "</div>"
      ]
     },
     "execution_count": 17,
     "metadata": {},
     "output_type": "execute_result"
    }
   ],
   "execution_count": 17
  },
  {
   "metadata": {},
   "cell_type": "markdown",
   "source": "## 4.1 Selecting by Label",
   "id": "e7a61b9207bfb881"
  },
  {
   "metadata": {
    "ExecuteTime": {
     "end_time": "2024-06-02T23:30:36.193066Z",
     "start_time": "2024-06-02T23:30:36.189126Z"
    }
   },
   "cell_type": "code",
   "source": [
    "# Select by single label\n",
    "df.loc['2013-01-02']"
   ],
   "id": "8587df11df87c72c",
   "outputs": [
    {
     "data": {
      "text/plain": [
       "A    2.412585\n",
       "B   -0.214167\n",
       "C   -2.010037\n",
       "D    0.007982\n",
       "Name: 2013-01-02 00:00:00, dtype: float64"
      ]
     },
     "execution_count": 18,
     "metadata": {},
     "output_type": "execute_result"
    }
   ],
   "execution_count": 18
  },
  {
   "metadata": {
    "ExecuteTime": {
     "end_time": "2024-06-02T23:30:46.364188Z",
     "start_time": "2024-06-02T23:30:46.084904Z"
    }
   },
   "cell_type": "code",
   "source": "df['2013-01-02'] # single column",
   "id": "f093dd74b758ff50",
   "outputs": [
    {
     "ename": "KeyError",
     "evalue": "'2013-01-02'",
     "output_type": "error",
     "traceback": [
      "\u001B[0;31m---------------------------------------------------------------------------\u001B[0m",
      "\u001B[0;31mKeyError\u001B[0m                                  Traceback (most recent call last)",
      "File \u001B[0;32m~/anaconda3/envs/d2l/lib/python3.11/site-packages/pandas/core/indexes/base.py:3653\u001B[0m, in \u001B[0;36mIndex.get_loc\u001B[0;34m(self, key)\u001B[0m\n\u001B[1;32m   3652\u001B[0m \u001B[38;5;28;01mtry\u001B[39;00m:\n\u001B[0;32m-> 3653\u001B[0m     \u001B[38;5;28;01mreturn\u001B[39;00m \u001B[38;5;28;43mself\u001B[39;49m\u001B[38;5;241;43m.\u001B[39;49m\u001B[43m_engine\u001B[49m\u001B[38;5;241;43m.\u001B[39;49m\u001B[43mget_loc\u001B[49m\u001B[43m(\u001B[49m\u001B[43mcasted_key\u001B[49m\u001B[43m)\u001B[49m\n\u001B[1;32m   3654\u001B[0m \u001B[38;5;28;01mexcept\u001B[39;00m \u001B[38;5;167;01mKeyError\u001B[39;00m \u001B[38;5;28;01mas\u001B[39;00m err:\n",
      "File \u001B[0;32m~/anaconda3/envs/d2l/lib/python3.11/site-packages/pandas/_libs/index.pyx:147\u001B[0m, in \u001B[0;36mpandas._libs.index.IndexEngine.get_loc\u001B[0;34m()\u001B[0m\n",
      "File \u001B[0;32m~/anaconda3/envs/d2l/lib/python3.11/site-packages/pandas/_libs/index.pyx:176\u001B[0m, in \u001B[0;36mpandas._libs.index.IndexEngine.get_loc\u001B[0;34m()\u001B[0m\n",
      "File \u001B[0;32mpandas/_libs/hashtable_class_helper.pxi:7080\u001B[0m, in \u001B[0;36mpandas._libs.hashtable.PyObjectHashTable.get_item\u001B[0;34m()\u001B[0m\n",
      "File \u001B[0;32mpandas/_libs/hashtable_class_helper.pxi:7088\u001B[0m, in \u001B[0;36mpandas._libs.hashtable.PyObjectHashTable.get_item\u001B[0;34m()\u001B[0m\n",
      "\u001B[0;31mKeyError\u001B[0m: '2013-01-02'",
      "\nThe above exception was the direct cause of the following exception:\n",
      "\u001B[0;31mKeyError\u001B[0m                                  Traceback (most recent call last)",
      "Cell \u001B[0;32mIn[19], line 1\u001B[0m\n\u001B[0;32m----> 1\u001B[0m \u001B[43mdf\u001B[49m\u001B[43m[\u001B[49m\u001B[38;5;124;43m'\u001B[39;49m\u001B[38;5;124;43m2013-01-02\u001B[39;49m\u001B[38;5;124;43m'\u001B[39;49m\u001B[43m]\u001B[49m \u001B[38;5;66;03m# single column\u001B[39;00m\n",
      "File \u001B[0;32m~/anaconda3/envs/d2l/lib/python3.11/site-packages/pandas/core/frame.py:3761\u001B[0m, in \u001B[0;36mDataFrame.__getitem__\u001B[0;34m(self, key)\u001B[0m\n\u001B[1;32m   3759\u001B[0m \u001B[38;5;28;01mif\u001B[39;00m \u001B[38;5;28mself\u001B[39m\u001B[38;5;241m.\u001B[39mcolumns\u001B[38;5;241m.\u001B[39mnlevels \u001B[38;5;241m>\u001B[39m \u001B[38;5;241m1\u001B[39m:\n\u001B[1;32m   3760\u001B[0m     \u001B[38;5;28;01mreturn\u001B[39;00m \u001B[38;5;28mself\u001B[39m\u001B[38;5;241m.\u001B[39m_getitem_multilevel(key)\n\u001B[0;32m-> 3761\u001B[0m indexer \u001B[38;5;241m=\u001B[39m \u001B[38;5;28;43mself\u001B[39;49m\u001B[38;5;241;43m.\u001B[39;49m\u001B[43mcolumns\u001B[49m\u001B[38;5;241;43m.\u001B[39;49m\u001B[43mget_loc\u001B[49m\u001B[43m(\u001B[49m\u001B[43mkey\u001B[49m\u001B[43m)\u001B[49m\n\u001B[1;32m   3762\u001B[0m \u001B[38;5;28;01mif\u001B[39;00m is_integer(indexer):\n\u001B[1;32m   3763\u001B[0m     indexer \u001B[38;5;241m=\u001B[39m [indexer]\n",
      "File \u001B[0;32m~/anaconda3/envs/d2l/lib/python3.11/site-packages/pandas/core/indexes/base.py:3655\u001B[0m, in \u001B[0;36mIndex.get_loc\u001B[0;34m(self, key)\u001B[0m\n\u001B[1;32m   3653\u001B[0m     \u001B[38;5;28;01mreturn\u001B[39;00m \u001B[38;5;28mself\u001B[39m\u001B[38;5;241m.\u001B[39m_engine\u001B[38;5;241m.\u001B[39mget_loc(casted_key)\n\u001B[1;32m   3654\u001B[0m \u001B[38;5;28;01mexcept\u001B[39;00m \u001B[38;5;167;01mKeyError\u001B[39;00m \u001B[38;5;28;01mas\u001B[39;00m err:\n\u001B[0;32m-> 3655\u001B[0m     \u001B[38;5;28;01mraise\u001B[39;00m \u001B[38;5;167;01mKeyError\u001B[39;00m(key) \u001B[38;5;28;01mfrom\u001B[39;00m \u001B[38;5;21;01merr\u001B[39;00m\n\u001B[1;32m   3656\u001B[0m \u001B[38;5;28;01mexcept\u001B[39;00m \u001B[38;5;167;01mTypeError\u001B[39;00m:\n\u001B[1;32m   3657\u001B[0m     \u001B[38;5;66;03m# If we have a listlike key, _check_indexing_error will raise\u001B[39;00m\n\u001B[1;32m   3658\u001B[0m     \u001B[38;5;66;03m#  InvalidIndexError. Otherwise we fall through and re-raise\u001B[39;00m\n\u001B[1;32m   3659\u001B[0m     \u001B[38;5;66;03m#  the TypeError.\u001B[39;00m\n\u001B[1;32m   3660\u001B[0m     \u001B[38;5;28mself\u001B[39m\u001B[38;5;241m.\u001B[39m_check_indexing_error(key)\n",
      "\u001B[0;31mKeyError\u001B[0m: '2013-01-02'"
     ]
    }
   ],
   "execution_count": 19
  },
  {
   "metadata": {
    "ExecuteTime": {
     "end_time": "2024-06-02T23:30:48.320212Z",
     "start_time": "2024-06-02T23:30:48.315969Z"
    }
   },
   "cell_type": "code",
   "source": [
    "# Select by label (single row)\n",
    "df.loc[d[0]]"
   ],
   "id": "84243edc6febbddd",
   "outputs": [
    {
     "data": {
      "text/plain": [
       "A   -0.017865\n",
       "B    0.973668\n",
       "C    0.738606\n",
       "D   -0.249930\n",
       "Name: 2013-01-01 00:00:00, dtype: float64"
      ]
     },
     "execution_count": 20,
     "metadata": {},
     "output_type": "execute_result"
    }
   ],
   "execution_count": 20
  },
  {
   "metadata": {
    "ExecuteTime": {
     "end_time": "2024-06-02T23:30:50.841144Z",
     "start_time": "2024-06-02T23:30:50.836866Z"
    }
   },
   "cell_type": "code",
   "source": [
    "# Select by label (multiple columns)\n",
    "df.loc[:, ['A', 'B']]"
   ],
   "id": "a9deb614b5f5855a",
   "outputs": [
    {
     "data": {
      "text/plain": [
       "                   A         B\n",
       "2013-01-01 -0.017865  0.973668\n",
       "2013-01-02  2.412585 -0.214167\n",
       "2013-01-03 -0.204675  0.945784\n",
       "2013-01-04 -0.011590  1.065049\n",
       "2013-01-05 -0.216481  0.349868\n",
       "2013-01-06  0.598355  1.612032"
      ],
      "text/html": [
       "<div>\n",
       "<style scoped>\n",
       "    .dataframe tbody tr th:only-of-type {\n",
       "        vertical-align: middle;\n",
       "    }\n",
       "\n",
       "    .dataframe tbody tr th {\n",
       "        vertical-align: top;\n",
       "    }\n",
       "\n",
       "    .dataframe thead th {\n",
       "        text-align: right;\n",
       "    }\n",
       "</style>\n",
       "<table border=\"1\" class=\"dataframe\">\n",
       "  <thead>\n",
       "    <tr style=\"text-align: right;\">\n",
       "      <th></th>\n",
       "      <th>A</th>\n",
       "      <th>B</th>\n",
       "    </tr>\n",
       "  </thead>\n",
       "  <tbody>\n",
       "    <tr>\n",
       "      <th>2013-01-01</th>\n",
       "      <td>-0.017865</td>\n",
       "      <td>0.973668</td>\n",
       "    </tr>\n",
       "    <tr>\n",
       "      <th>2013-01-02</th>\n",
       "      <td>2.412585</td>\n",
       "      <td>-0.214167</td>\n",
       "    </tr>\n",
       "    <tr>\n",
       "      <th>2013-01-03</th>\n",
       "      <td>-0.204675</td>\n",
       "      <td>0.945784</td>\n",
       "    </tr>\n",
       "    <tr>\n",
       "      <th>2013-01-04</th>\n",
       "      <td>-0.011590</td>\n",
       "      <td>1.065049</td>\n",
       "    </tr>\n",
       "    <tr>\n",
       "      <th>2013-01-05</th>\n",
       "      <td>-0.216481</td>\n",
       "      <td>0.349868</td>\n",
       "    </tr>\n",
       "    <tr>\n",
       "      <th>2013-01-06</th>\n",
       "      <td>0.598355</td>\n",
       "      <td>1.612032</td>\n",
       "    </tr>\n",
       "  </tbody>\n",
       "</table>\n",
       "</div>"
      ]
     },
     "execution_count": 21,
     "metadata": {},
     "output_type": "execute_result"
    }
   ],
   "execution_count": 21
  },
  {
   "metadata": {
    "ExecuteTime": {
     "end_time": "2024-06-02T23:30:52.267233Z",
     "start_time": "2024-06-02T23:30:52.260328Z"
    }
   },
   "cell_type": "code",
   "source": [
    "# Label slicing\n",
    "df.loc['2013-01-02':'2013-01-04', ['A', 'B']]"
   ],
   "id": "25a9cfd88b8992d7",
   "outputs": [
    {
     "data": {
      "text/plain": [
       "                   A         B\n",
       "2013-01-02  2.412585 -0.214167\n",
       "2013-01-03 -0.204675  0.945784\n",
       "2013-01-04 -0.011590  1.065049"
      ],
      "text/html": [
       "<div>\n",
       "<style scoped>\n",
       "    .dataframe tbody tr th:only-of-type {\n",
       "        vertical-align: middle;\n",
       "    }\n",
       "\n",
       "    .dataframe tbody tr th {\n",
       "        vertical-align: top;\n",
       "    }\n",
       "\n",
       "    .dataframe thead th {\n",
       "        text-align: right;\n",
       "    }\n",
       "</style>\n",
       "<table border=\"1\" class=\"dataframe\">\n",
       "  <thead>\n",
       "    <tr style=\"text-align: right;\">\n",
       "      <th></th>\n",
       "      <th>A</th>\n",
       "      <th>B</th>\n",
       "    </tr>\n",
       "  </thead>\n",
       "  <tbody>\n",
       "    <tr>\n",
       "      <th>2013-01-02</th>\n",
       "      <td>2.412585</td>\n",
       "      <td>-0.214167</td>\n",
       "    </tr>\n",
       "    <tr>\n",
       "      <th>2013-01-03</th>\n",
       "      <td>-0.204675</td>\n",
       "      <td>0.945784</td>\n",
       "    </tr>\n",
       "    <tr>\n",
       "      <th>2013-01-04</th>\n",
       "      <td>-0.011590</td>\n",
       "      <td>1.065049</td>\n",
       "    </tr>\n",
       "  </tbody>\n",
       "</table>\n",
       "</div>"
      ]
     },
     "execution_count": 22,
     "metadata": {},
     "output_type": "execute_result"
    }
   ],
   "execution_count": 22
  },
  {
   "metadata": {
    "ExecuteTime": {
     "end_time": "2024-06-02T23:30:53.482815Z",
     "start_time": "2024-06-02T23:30:53.480086Z"
    }
   },
   "cell_type": "code",
   "source": [
    "# Getting a scalar value\n",
    "df.at['2013-01-02', 'A']"
   ],
   "id": "e94d1ca5993ce7c4",
   "outputs": [
    {
     "data": {
      "text/plain": [
       "2.412585203172715"
      ]
     },
     "execution_count": 23,
     "metadata": {},
     "output_type": "execute_result"
    }
   ],
   "execution_count": 23
  },
  {
   "metadata": {},
   "cell_type": "markdown",
   "source": "## 4.2 Selecting by Position",
   "id": "d3d04c979af7ca22"
  },
  {
   "metadata": {
    "ExecuteTime": {
     "end_time": "2024-06-02T23:30:54.971425Z",
     "start_time": "2024-06-02T23:30:54.968326Z"
    }
   },
   "cell_type": "code",
   "source": [
    "# Select by position\n",
    "df.iloc[3]"
   ],
   "id": "c6f58dfec2e9801b",
   "outputs": [
    {
     "data": {
      "text/plain": [
       "A   -0.011590\n",
       "B    1.065049\n",
       "C    1.078857\n",
       "D   -0.394424\n",
       "Name: 2013-01-04 00:00:00, dtype: float64"
      ]
     },
     "execution_count": 24,
     "metadata": {},
     "output_type": "execute_result"
    }
   ],
   "execution_count": 24
  },
  {
   "metadata": {
    "ExecuteTime": {
     "end_time": "2024-06-02T23:30:58.408675Z",
     "start_time": "2024-06-02T23:30:58.404978Z"
    }
   },
   "cell_type": "code",
   "source": [
    "# Integer slicing\n",
    "df.iloc[3:5, 0:2]"
   ],
   "id": "b48f0f9eee420397",
   "outputs": [
    {
     "data": {
      "text/plain": [
       "                   A         B\n",
       "2013-01-04 -0.011590  1.065049\n",
       "2013-01-05 -0.216481  0.349868"
      ],
      "text/html": [
       "<div>\n",
       "<style scoped>\n",
       "    .dataframe tbody tr th:only-of-type {\n",
       "        vertical-align: middle;\n",
       "    }\n",
       "\n",
       "    .dataframe tbody tr th {\n",
       "        vertical-align: top;\n",
       "    }\n",
       "\n",
       "    .dataframe thead th {\n",
       "        text-align: right;\n",
       "    }\n",
       "</style>\n",
       "<table border=\"1\" class=\"dataframe\">\n",
       "  <thead>\n",
       "    <tr style=\"text-align: right;\">\n",
       "      <th></th>\n",
       "      <th>A</th>\n",
       "      <th>B</th>\n",
       "    </tr>\n",
       "  </thead>\n",
       "  <tbody>\n",
       "    <tr>\n",
       "      <th>2013-01-04</th>\n",
       "      <td>-0.011590</td>\n",
       "      <td>1.065049</td>\n",
       "    </tr>\n",
       "    <tr>\n",
       "      <th>2013-01-05</th>\n",
       "      <td>-0.216481</td>\n",
       "      <td>0.349868</td>\n",
       "    </tr>\n",
       "  </tbody>\n",
       "</table>\n",
       "</div>"
      ]
     },
     "execution_count": 25,
     "metadata": {},
     "output_type": "execute_result"
    }
   ],
   "execution_count": 25
  },
  {
   "metadata": {
    "ExecuteTime": {
     "end_time": "2024-06-02T23:31:01.026950Z",
     "start_time": "2024-06-02T23:31:01.023367Z"
    }
   },
   "cell_type": "code",
   "source": [
    "# Integer slicing with specific positions\n",
    "df.iloc[[1, 2, 4], [0, 2]]"
   ],
   "id": "8f19c40f074c2963",
   "outputs": [
    {
     "data": {
      "text/plain": [
       "                   A         C\n",
       "2013-01-02  2.412585 -2.010037\n",
       "2013-01-03 -0.204675  0.280822\n",
       "2013-01-05 -0.216481 -0.760631"
      ],
      "text/html": [
       "<div>\n",
       "<style scoped>\n",
       "    .dataframe tbody tr th:only-of-type {\n",
       "        vertical-align: middle;\n",
       "    }\n",
       "\n",
       "    .dataframe tbody tr th {\n",
       "        vertical-align: top;\n",
       "    }\n",
       "\n",
       "    .dataframe thead th {\n",
       "        text-align: right;\n",
       "    }\n",
       "</style>\n",
       "<table border=\"1\" class=\"dataframe\">\n",
       "  <thead>\n",
       "    <tr style=\"text-align: right;\">\n",
       "      <th></th>\n",
       "      <th>A</th>\n",
       "      <th>C</th>\n",
       "    </tr>\n",
       "  </thead>\n",
       "  <tbody>\n",
       "    <tr>\n",
       "      <th>2013-01-02</th>\n",
       "      <td>2.412585</td>\n",
       "      <td>-2.010037</td>\n",
       "    </tr>\n",
       "    <tr>\n",
       "      <th>2013-01-03</th>\n",
       "      <td>-0.204675</td>\n",
       "      <td>0.280822</td>\n",
       "    </tr>\n",
       "    <tr>\n",
       "      <th>2013-01-05</th>\n",
       "      <td>-0.216481</td>\n",
       "      <td>-0.760631</td>\n",
       "    </tr>\n",
       "  </tbody>\n",
       "</table>\n",
       "</div>"
      ]
     },
     "execution_count": 26,
     "metadata": {},
     "output_type": "execute_result"
    }
   ],
   "execution_count": 26
  },
  {
   "metadata": {
    "ExecuteTime": {
     "end_time": "2024-06-02T23:31:01.686398Z",
     "start_time": "2024-06-02T23:31:01.682178Z"
    }
   },
   "cell_type": "code",
   "source": [
    "# Slicing rows\n",
    "df.iloc[1:3, :]"
   ],
   "id": "e47b146e2566a4a2",
   "outputs": [
    {
     "data": {
      "text/plain": [
       "                   A         B         C         D\n",
       "2013-01-02  2.412585 -0.214167 -2.010037  0.007982\n",
       "2013-01-03 -0.204675  0.945784  0.280822 -0.032412"
      ],
      "text/html": [
       "<div>\n",
       "<style scoped>\n",
       "    .dataframe tbody tr th:only-of-type {\n",
       "        vertical-align: middle;\n",
       "    }\n",
       "\n",
       "    .dataframe tbody tr th {\n",
       "        vertical-align: top;\n",
       "    }\n",
       "\n",
       "    .dataframe thead th {\n",
       "        text-align: right;\n",
       "    }\n",
       "</style>\n",
       "<table border=\"1\" class=\"dataframe\">\n",
       "  <thead>\n",
       "    <tr style=\"text-align: right;\">\n",
       "      <th></th>\n",
       "      <th>A</th>\n",
       "      <th>B</th>\n",
       "      <th>C</th>\n",
       "      <th>D</th>\n",
       "    </tr>\n",
       "  </thead>\n",
       "  <tbody>\n",
       "    <tr>\n",
       "      <th>2013-01-02</th>\n",
       "      <td>2.412585</td>\n",
       "      <td>-0.214167</td>\n",
       "      <td>-2.010037</td>\n",
       "      <td>0.007982</td>\n",
       "    </tr>\n",
       "    <tr>\n",
       "      <th>2013-01-03</th>\n",
       "      <td>-0.204675</td>\n",
       "      <td>0.945784</td>\n",
       "      <td>0.280822</td>\n",
       "      <td>-0.032412</td>\n",
       "    </tr>\n",
       "  </tbody>\n",
       "</table>\n",
       "</div>"
      ]
     },
     "execution_count": 27,
     "metadata": {},
     "output_type": "execute_result"
    }
   ],
   "execution_count": 27
  },
  {
   "metadata": {
    "ExecuteTime": {
     "end_time": "2024-06-02T23:31:02.535029Z",
     "start_time": "2024-06-02T23:31:02.531385Z"
    }
   },
   "cell_type": "code",
   "source": [
    "# Slicing columns\n",
    "df.iloc[:, 1:3]\n"
   ],
   "id": "e18a935bf5a09a0c",
   "outputs": [
    {
     "data": {
      "text/plain": [
       "                   B         C\n",
       "2013-01-01  0.973668  0.738606\n",
       "2013-01-02 -0.214167 -2.010037\n",
       "2013-01-03  0.945784  0.280822\n",
       "2013-01-04  1.065049  1.078857\n",
       "2013-01-05  0.349868 -0.760631\n",
       "2013-01-06  1.612032 -1.555591"
      ],
      "text/html": [
       "<div>\n",
       "<style scoped>\n",
       "    .dataframe tbody tr th:only-of-type {\n",
       "        vertical-align: middle;\n",
       "    }\n",
       "\n",
       "    .dataframe tbody tr th {\n",
       "        vertical-align: top;\n",
       "    }\n",
       "\n",
       "    .dataframe thead th {\n",
       "        text-align: right;\n",
       "    }\n",
       "</style>\n",
       "<table border=\"1\" class=\"dataframe\">\n",
       "  <thead>\n",
       "    <tr style=\"text-align: right;\">\n",
       "      <th></th>\n",
       "      <th>B</th>\n",
       "      <th>C</th>\n",
       "    </tr>\n",
       "  </thead>\n",
       "  <tbody>\n",
       "    <tr>\n",
       "      <th>2013-01-01</th>\n",
       "      <td>0.973668</td>\n",
       "      <td>0.738606</td>\n",
       "    </tr>\n",
       "    <tr>\n",
       "      <th>2013-01-02</th>\n",
       "      <td>-0.214167</td>\n",
       "      <td>-2.010037</td>\n",
       "    </tr>\n",
       "    <tr>\n",
       "      <th>2013-01-03</th>\n",
       "      <td>0.945784</td>\n",
       "      <td>0.280822</td>\n",
       "    </tr>\n",
       "    <tr>\n",
       "      <th>2013-01-04</th>\n",
       "      <td>1.065049</td>\n",
       "      <td>1.078857</td>\n",
       "    </tr>\n",
       "    <tr>\n",
       "      <th>2013-01-05</th>\n",
       "      <td>0.349868</td>\n",
       "      <td>-0.760631</td>\n",
       "    </tr>\n",
       "    <tr>\n",
       "      <th>2013-01-06</th>\n",
       "      <td>1.612032</td>\n",
       "      <td>-1.555591</td>\n",
       "    </tr>\n",
       "  </tbody>\n",
       "</table>\n",
       "</div>"
      ]
     },
     "execution_count": 28,
     "metadata": {},
     "output_type": "execute_result"
    }
   ],
   "execution_count": 28
  },
  {
   "metadata": {
    "ExecuteTime": {
     "end_time": "2024-06-02T23:31:02.989708Z",
     "start_time": "2024-06-02T23:31:02.985901Z"
    }
   },
   "cell_type": "code",
   "source": [
    "# Getting a scalar value by position\n",
    "df.iloc[1, 1]"
   ],
   "id": "fb2764826ac43f3b",
   "outputs": [
    {
     "data": {
      "text/plain": [
       "-0.21416653085670598"
      ]
     },
     "execution_count": 29,
     "metadata": {},
     "output_type": "execute_result"
    }
   ],
   "execution_count": 29
  },
  {
   "metadata": {
    "ExecuteTime": {
     "end_time": "2024-06-02T23:31:03.494713Z",
     "start_time": "2024-06-02T23:31:03.491736Z"
    }
   },
   "cell_type": "code",
   "source": [
    "# Quick access to a scalar\n",
    "df.iat[1, 1]"
   ],
   "id": "1b257ec6888e13bb",
   "outputs": [
    {
     "data": {
      "text/plain": [
       "-0.21416653085670598"
      ]
     },
     "execution_count": 30,
     "metadata": {},
     "output_type": "execute_result"
    }
   ],
   "execution_count": 30
  },
  {
   "metadata": {},
   "cell_type": "markdown",
   "source": "## 4.3 Boolean Indexing",
   "id": "40391020ce574ef"
  },
  {
   "metadata": {
    "ExecuteTime": {
     "end_time": "2024-06-02T23:31:04.450115Z",
     "start_time": "2024-06-02T23:31:04.444095Z"
    }
   },
   "cell_type": "code",
   "source": [
    "# Boolean indexing\n",
    "df[df['B'] > 0]"
   ],
   "id": "b7d3c1c2d384f242",
   "outputs": [
    {
     "data": {
      "text/plain": [
       "                   A         B         C         D\n",
       "2013-01-01 -0.017865  0.973668  0.738606 -0.249930\n",
       "2013-01-03 -0.204675  0.945784  0.280822 -0.032412\n",
       "2013-01-04 -0.011590  1.065049  1.078857 -0.394424\n",
       "2013-01-05 -0.216481  0.349868 -0.760631  0.243898\n",
       "2013-01-06  0.598355  1.612032 -1.555591 -1.907510"
      ],
      "text/html": [
       "<div>\n",
       "<style scoped>\n",
       "    .dataframe tbody tr th:only-of-type {\n",
       "        vertical-align: middle;\n",
       "    }\n",
       "\n",
       "    .dataframe tbody tr th {\n",
       "        vertical-align: top;\n",
       "    }\n",
       "\n",
       "    .dataframe thead th {\n",
       "        text-align: right;\n",
       "    }\n",
       "</style>\n",
       "<table border=\"1\" class=\"dataframe\">\n",
       "  <thead>\n",
       "    <tr style=\"text-align: right;\">\n",
       "      <th></th>\n",
       "      <th>A</th>\n",
       "      <th>B</th>\n",
       "      <th>C</th>\n",
       "      <th>D</th>\n",
       "    </tr>\n",
       "  </thead>\n",
       "  <tbody>\n",
       "    <tr>\n",
       "      <th>2013-01-01</th>\n",
       "      <td>-0.017865</td>\n",
       "      <td>0.973668</td>\n",
       "      <td>0.738606</td>\n",
       "      <td>-0.249930</td>\n",
       "    </tr>\n",
       "    <tr>\n",
       "      <th>2013-01-03</th>\n",
       "      <td>-0.204675</td>\n",
       "      <td>0.945784</td>\n",
       "      <td>0.280822</td>\n",
       "      <td>-0.032412</td>\n",
       "    </tr>\n",
       "    <tr>\n",
       "      <th>2013-01-04</th>\n",
       "      <td>-0.011590</td>\n",
       "      <td>1.065049</td>\n",
       "      <td>1.078857</td>\n",
       "      <td>-0.394424</td>\n",
       "    </tr>\n",
       "    <tr>\n",
       "      <th>2013-01-05</th>\n",
       "      <td>-0.216481</td>\n",
       "      <td>0.349868</td>\n",
       "      <td>-0.760631</td>\n",
       "      <td>0.243898</td>\n",
       "    </tr>\n",
       "    <tr>\n",
       "      <th>2013-01-06</th>\n",
       "      <td>0.598355</td>\n",
       "      <td>1.612032</td>\n",
       "      <td>-1.555591</td>\n",
       "      <td>-1.907510</td>\n",
       "    </tr>\n",
       "  </tbody>\n",
       "</table>\n",
       "</div>"
      ]
     },
     "execution_count": 31,
     "metadata": {},
     "output_type": "execute_result"
    }
   ],
   "execution_count": 31
  },
  {
   "metadata": {
    "ExecuteTime": {
     "end_time": "2024-06-02T23:31:04.822208Z",
     "start_time": "2024-06-02T23:31:04.817614Z"
    }
   },
   "cell_type": "code",
   "source": "df[df > 0]",
   "id": "19cbf84e8f29840a",
   "outputs": [
    {
     "data": {
      "text/plain": [
       "                   A         B         C         D\n",
       "2013-01-01       NaN  0.973668  0.738606       NaN\n",
       "2013-01-02  2.412585       NaN       NaN  0.007982\n",
       "2013-01-03       NaN  0.945784  0.280822       NaN\n",
       "2013-01-04       NaN  1.065049  1.078857       NaN\n",
       "2013-01-05       NaN  0.349868       NaN  0.243898\n",
       "2013-01-06  0.598355  1.612032       NaN       NaN"
      ],
      "text/html": [
       "<div>\n",
       "<style scoped>\n",
       "    .dataframe tbody tr th:only-of-type {\n",
       "        vertical-align: middle;\n",
       "    }\n",
       "\n",
       "    .dataframe tbody tr th {\n",
       "        vertical-align: top;\n",
       "    }\n",
       "\n",
       "    .dataframe thead th {\n",
       "        text-align: right;\n",
       "    }\n",
       "</style>\n",
       "<table border=\"1\" class=\"dataframe\">\n",
       "  <thead>\n",
       "    <tr style=\"text-align: right;\">\n",
       "      <th></th>\n",
       "      <th>A</th>\n",
       "      <th>B</th>\n",
       "      <th>C</th>\n",
       "      <th>D</th>\n",
       "    </tr>\n",
       "  </thead>\n",
       "  <tbody>\n",
       "    <tr>\n",
       "      <th>2013-01-01</th>\n",
       "      <td>NaN</td>\n",
       "      <td>0.973668</td>\n",
       "      <td>0.738606</td>\n",
       "      <td>NaN</td>\n",
       "    </tr>\n",
       "    <tr>\n",
       "      <th>2013-01-02</th>\n",
       "      <td>2.412585</td>\n",
       "      <td>NaN</td>\n",
       "      <td>NaN</td>\n",
       "      <td>0.007982</td>\n",
       "    </tr>\n",
       "    <tr>\n",
       "      <th>2013-01-03</th>\n",
       "      <td>NaN</td>\n",
       "      <td>0.945784</td>\n",
       "      <td>0.280822</td>\n",
       "      <td>NaN</td>\n",
       "    </tr>\n",
       "    <tr>\n",
       "      <th>2013-01-04</th>\n",
       "      <td>NaN</td>\n",
       "      <td>1.065049</td>\n",
       "      <td>1.078857</td>\n",
       "      <td>NaN</td>\n",
       "    </tr>\n",
       "    <tr>\n",
       "      <th>2013-01-05</th>\n",
       "      <td>NaN</td>\n",
       "      <td>0.349868</td>\n",
       "      <td>NaN</td>\n",
       "      <td>0.243898</td>\n",
       "    </tr>\n",
       "    <tr>\n",
       "      <th>2013-01-06</th>\n",
       "      <td>0.598355</td>\n",
       "      <td>1.612032</td>\n",
       "      <td>NaN</td>\n",
       "      <td>NaN</td>\n",
       "    </tr>\n",
       "  </tbody>\n",
       "</table>\n",
       "</div>"
      ]
     },
     "execution_count": 32,
     "metadata": {},
     "output_type": "execute_result"
    }
   ],
   "execution_count": 32
  },
  {
   "metadata": {
    "ExecuteTime": {
     "end_time": "2024-06-02T23:31:05.154884Z",
     "start_time": "2024-06-02T23:31:05.149947Z"
    }
   },
   "cell_type": "code",
   "source": [
    "# Using isin() method\n",
    "df3 = df.copy()\n",
    "df3['E'] = ['one', 'one', 'two', 'three', 'four', 'three']\n",
    "df3"
   ],
   "id": "d834fad6606c4800",
   "outputs": [
    {
     "data": {
      "text/plain": [
       "                   A         B         C         D      E\n",
       "2013-01-01 -0.017865  0.973668  0.738606 -0.249930    one\n",
       "2013-01-02  2.412585 -0.214167 -2.010037  0.007982    one\n",
       "2013-01-03 -0.204675  0.945784  0.280822 -0.032412    two\n",
       "2013-01-04 -0.011590  1.065049  1.078857 -0.394424  three\n",
       "2013-01-05 -0.216481  0.349868 -0.760631  0.243898   four\n",
       "2013-01-06  0.598355  1.612032 -1.555591 -1.907510  three"
      ],
      "text/html": [
       "<div>\n",
       "<style scoped>\n",
       "    .dataframe tbody tr th:only-of-type {\n",
       "        vertical-align: middle;\n",
       "    }\n",
       "\n",
       "    .dataframe tbody tr th {\n",
       "        vertical-align: top;\n",
       "    }\n",
       "\n",
       "    .dataframe thead th {\n",
       "        text-align: right;\n",
       "    }\n",
       "</style>\n",
       "<table border=\"1\" class=\"dataframe\">\n",
       "  <thead>\n",
       "    <tr style=\"text-align: right;\">\n",
       "      <th></th>\n",
       "      <th>A</th>\n",
       "      <th>B</th>\n",
       "      <th>C</th>\n",
       "      <th>D</th>\n",
       "      <th>E</th>\n",
       "    </tr>\n",
       "  </thead>\n",
       "  <tbody>\n",
       "    <tr>\n",
       "      <th>2013-01-01</th>\n",
       "      <td>-0.017865</td>\n",
       "      <td>0.973668</td>\n",
       "      <td>0.738606</td>\n",
       "      <td>-0.249930</td>\n",
       "      <td>one</td>\n",
       "    </tr>\n",
       "    <tr>\n",
       "      <th>2013-01-02</th>\n",
       "      <td>2.412585</td>\n",
       "      <td>-0.214167</td>\n",
       "      <td>-2.010037</td>\n",
       "      <td>0.007982</td>\n",
       "      <td>one</td>\n",
       "    </tr>\n",
       "    <tr>\n",
       "      <th>2013-01-03</th>\n",
       "      <td>-0.204675</td>\n",
       "      <td>0.945784</td>\n",
       "      <td>0.280822</td>\n",
       "      <td>-0.032412</td>\n",
       "      <td>two</td>\n",
       "    </tr>\n",
       "    <tr>\n",
       "      <th>2013-01-04</th>\n",
       "      <td>-0.011590</td>\n",
       "      <td>1.065049</td>\n",
       "      <td>1.078857</td>\n",
       "      <td>-0.394424</td>\n",
       "      <td>three</td>\n",
       "    </tr>\n",
       "    <tr>\n",
       "      <th>2013-01-05</th>\n",
       "      <td>-0.216481</td>\n",
       "      <td>0.349868</td>\n",
       "      <td>-0.760631</td>\n",
       "      <td>0.243898</td>\n",
       "      <td>four</td>\n",
       "    </tr>\n",
       "    <tr>\n",
       "      <th>2013-01-06</th>\n",
       "      <td>0.598355</td>\n",
       "      <td>1.612032</td>\n",
       "      <td>-1.555591</td>\n",
       "      <td>-1.907510</td>\n",
       "      <td>three</td>\n",
       "    </tr>\n",
       "  </tbody>\n",
       "</table>\n",
       "</div>"
      ]
     },
     "execution_count": 33,
     "metadata": {},
     "output_type": "execute_result"
    }
   ],
   "execution_count": 33
  },
  {
   "metadata": {
    "ExecuteTime": {
     "end_time": "2024-06-02T23:31:05.347467Z",
     "start_time": "2024-06-02T23:31:05.341950Z"
    }
   },
   "cell_type": "code",
   "source": "df3[df3['E'].isin(['two', 'four'])]",
   "id": "b7efb51a79fb49dc",
   "outputs": [
    {
     "data": {
      "text/plain": [
       "                   A         B         C         D     E\n",
       "2013-01-03 -0.204675  0.945784  0.280822 -0.032412   two\n",
       "2013-01-05 -0.216481  0.349868 -0.760631  0.243898  four"
      ],
      "text/html": [
       "<div>\n",
       "<style scoped>\n",
       "    .dataframe tbody tr th:only-of-type {\n",
       "        vertical-align: middle;\n",
       "    }\n",
       "\n",
       "    .dataframe tbody tr th {\n",
       "        vertical-align: top;\n",
       "    }\n",
       "\n",
       "    .dataframe thead th {\n",
       "        text-align: right;\n",
       "    }\n",
       "</style>\n",
       "<table border=\"1\" class=\"dataframe\">\n",
       "  <thead>\n",
       "    <tr style=\"text-align: right;\">\n",
       "      <th></th>\n",
       "      <th>A</th>\n",
       "      <th>B</th>\n",
       "      <th>C</th>\n",
       "      <th>D</th>\n",
       "      <th>E</th>\n",
       "    </tr>\n",
       "  </thead>\n",
       "  <tbody>\n",
       "    <tr>\n",
       "      <th>2013-01-03</th>\n",
       "      <td>-0.204675</td>\n",
       "      <td>0.945784</td>\n",
       "      <td>0.280822</td>\n",
       "      <td>-0.032412</td>\n",
       "      <td>two</td>\n",
       "    </tr>\n",
       "    <tr>\n",
       "      <th>2013-01-05</th>\n",
       "      <td>-0.216481</td>\n",
       "      <td>0.349868</td>\n",
       "      <td>-0.760631</td>\n",
       "      <td>0.243898</td>\n",
       "      <td>four</td>\n",
       "    </tr>\n",
       "  </tbody>\n",
       "</table>\n",
       "</div>"
      ]
     },
     "execution_count": 34,
     "metadata": {},
     "output_type": "execute_result"
    }
   ],
   "execution_count": 34
  },
  {
   "metadata": {},
   "cell_type": "markdown",
   "source": "# 5 Setting Values",
   "id": "4611d21334bc945b"
  },
  {
   "metadata": {
    "ExecuteTime": {
     "end_time": "2024-06-02T23:31:05.760739Z",
     "start_time": "2024-06-02T23:31:05.756973Z"
    }
   },
   "cell_type": "code",
   "source": [
    "s1 = pd.Series([1, 2, 3, 4, 5, 6], index=d)\n",
    "s1"
   ],
   "id": "47037255474e12bf",
   "outputs": [
    {
     "data": {
      "text/plain": [
       "2013-01-01    1\n",
       "2013-01-02    2\n",
       "2013-01-03    3\n",
       "2013-01-04    4\n",
       "2013-01-05    5\n",
       "2013-01-06    6\n",
       "Freq: D, dtype: int64"
      ]
     },
     "execution_count": 35,
     "metadata": {},
     "output_type": "execute_result"
    }
   ],
   "execution_count": 35
  },
  {
   "metadata": {
    "ExecuteTime": {
     "end_time": "2024-06-02T23:31:05.905858Z",
     "start_time": "2024-06-02T23:31:05.901330Z"
    }
   },
   "cell_type": "code",
   "source": [
    "df['F'] = s1\n",
    "df"
   ],
   "id": "234e8bd6e58afbdb",
   "outputs": [
    {
     "data": {
      "text/plain": [
       "                   A         B         C         D  F\n",
       "2013-01-01 -0.017865  0.973668  0.738606 -0.249930  1\n",
       "2013-01-02  2.412585 -0.214167 -2.010037  0.007982  2\n",
       "2013-01-03 -0.204675  0.945784  0.280822 -0.032412  3\n",
       "2013-01-04 -0.011590  1.065049  1.078857 -0.394424  4\n",
       "2013-01-05 -0.216481  0.349868 -0.760631  0.243898  5\n",
       "2013-01-06  0.598355  1.612032 -1.555591 -1.907510  6"
      ],
      "text/html": [
       "<div>\n",
       "<style scoped>\n",
       "    .dataframe tbody tr th:only-of-type {\n",
       "        vertical-align: middle;\n",
       "    }\n",
       "\n",
       "    .dataframe tbody tr th {\n",
       "        vertical-align: top;\n",
       "    }\n",
       "\n",
       "    .dataframe thead th {\n",
       "        text-align: right;\n",
       "    }\n",
       "</style>\n",
       "<table border=\"1\" class=\"dataframe\">\n",
       "  <thead>\n",
       "    <tr style=\"text-align: right;\">\n",
       "      <th></th>\n",
       "      <th>A</th>\n",
       "      <th>B</th>\n",
       "      <th>C</th>\n",
       "      <th>D</th>\n",
       "      <th>F</th>\n",
       "    </tr>\n",
       "  </thead>\n",
       "  <tbody>\n",
       "    <tr>\n",
       "      <th>2013-01-01</th>\n",
       "      <td>-0.017865</td>\n",
       "      <td>0.973668</td>\n",
       "      <td>0.738606</td>\n",
       "      <td>-0.249930</td>\n",
       "      <td>1</td>\n",
       "    </tr>\n",
       "    <tr>\n",
       "      <th>2013-01-02</th>\n",
       "      <td>2.412585</td>\n",
       "      <td>-0.214167</td>\n",
       "      <td>-2.010037</td>\n",
       "      <td>0.007982</td>\n",
       "      <td>2</td>\n",
       "    </tr>\n",
       "    <tr>\n",
       "      <th>2013-01-03</th>\n",
       "      <td>-0.204675</td>\n",
       "      <td>0.945784</td>\n",
       "      <td>0.280822</td>\n",
       "      <td>-0.032412</td>\n",
       "      <td>3</td>\n",
       "    </tr>\n",
       "    <tr>\n",
       "      <th>2013-01-04</th>\n",
       "      <td>-0.011590</td>\n",
       "      <td>1.065049</td>\n",
       "      <td>1.078857</td>\n",
       "      <td>-0.394424</td>\n",
       "      <td>4</td>\n",
       "    </tr>\n",
       "    <tr>\n",
       "      <th>2013-01-05</th>\n",
       "      <td>-0.216481</td>\n",
       "      <td>0.349868</td>\n",
       "      <td>-0.760631</td>\n",
       "      <td>0.243898</td>\n",
       "      <td>5</td>\n",
       "    </tr>\n",
       "    <tr>\n",
       "      <th>2013-01-06</th>\n",
       "      <td>0.598355</td>\n",
       "      <td>1.612032</td>\n",
       "      <td>-1.555591</td>\n",
       "      <td>-1.907510</td>\n",
       "      <td>6</td>\n",
       "    </tr>\n",
       "  </tbody>\n",
       "</table>\n",
       "</div>"
      ]
     },
     "execution_count": 36,
     "metadata": {},
     "output_type": "execute_result"
    }
   ],
   "execution_count": 36
  },
  {
   "metadata": {
    "ExecuteTime": {
     "end_time": "2024-06-02T23:31:06.079150Z",
     "start_time": "2024-06-02T23:31:06.074383Z"
    }
   },
   "cell_type": "code",
   "source": [
    "df.at['2013-01-01', 'A'] = 0\n",
    "df"
   ],
   "id": "3b8d213aafe00f6d",
   "outputs": [
    {
     "data": {
      "text/plain": [
       "                   A         B         C         D  F\n",
       "2013-01-01  0.000000  0.973668  0.738606 -0.249930  1\n",
       "2013-01-02  2.412585 -0.214167 -2.010037  0.007982  2\n",
       "2013-01-03 -0.204675  0.945784  0.280822 -0.032412  3\n",
       "2013-01-04 -0.011590  1.065049  1.078857 -0.394424  4\n",
       "2013-01-05 -0.216481  0.349868 -0.760631  0.243898  5\n",
       "2013-01-06  0.598355  1.612032 -1.555591 -1.907510  6"
      ],
      "text/html": [
       "<div>\n",
       "<style scoped>\n",
       "    .dataframe tbody tr th:only-of-type {\n",
       "        vertical-align: middle;\n",
       "    }\n",
       "\n",
       "    .dataframe tbody tr th {\n",
       "        vertical-align: top;\n",
       "    }\n",
       "\n",
       "    .dataframe thead th {\n",
       "        text-align: right;\n",
       "    }\n",
       "</style>\n",
       "<table border=\"1\" class=\"dataframe\">\n",
       "  <thead>\n",
       "    <tr style=\"text-align: right;\">\n",
       "      <th></th>\n",
       "      <th>A</th>\n",
       "      <th>B</th>\n",
       "      <th>C</th>\n",
       "      <th>D</th>\n",
       "      <th>F</th>\n",
       "    </tr>\n",
       "  </thead>\n",
       "  <tbody>\n",
       "    <tr>\n",
       "      <th>2013-01-01</th>\n",
       "      <td>0.000000</td>\n",
       "      <td>0.973668</td>\n",
       "      <td>0.738606</td>\n",
       "      <td>-0.249930</td>\n",
       "      <td>1</td>\n",
       "    </tr>\n",
       "    <tr>\n",
       "      <th>2013-01-02</th>\n",
       "      <td>2.412585</td>\n",
       "      <td>-0.214167</td>\n",
       "      <td>-2.010037</td>\n",
       "      <td>0.007982</td>\n",
       "      <td>2</td>\n",
       "    </tr>\n",
       "    <tr>\n",
       "      <th>2013-01-03</th>\n",
       "      <td>-0.204675</td>\n",
       "      <td>0.945784</td>\n",
       "      <td>0.280822</td>\n",
       "      <td>-0.032412</td>\n",
       "      <td>3</td>\n",
       "    </tr>\n",
       "    <tr>\n",
       "      <th>2013-01-04</th>\n",
       "      <td>-0.011590</td>\n",
       "      <td>1.065049</td>\n",
       "      <td>1.078857</td>\n",
       "      <td>-0.394424</td>\n",
       "      <td>4</td>\n",
       "    </tr>\n",
       "    <tr>\n",
       "      <th>2013-01-05</th>\n",
       "      <td>-0.216481</td>\n",
       "      <td>0.349868</td>\n",
       "      <td>-0.760631</td>\n",
       "      <td>0.243898</td>\n",
       "      <td>5</td>\n",
       "    </tr>\n",
       "    <tr>\n",
       "      <th>2013-01-06</th>\n",
       "      <td>0.598355</td>\n",
       "      <td>1.612032</td>\n",
       "      <td>-1.555591</td>\n",
       "      <td>-1.907510</td>\n",
       "      <td>6</td>\n",
       "    </tr>\n",
       "  </tbody>\n",
       "</table>\n",
       "</div>"
      ]
     },
     "execution_count": 37,
     "metadata": {},
     "output_type": "execute_result"
    }
   ],
   "execution_count": 37
  },
  {
   "metadata": {
    "ExecuteTime": {
     "end_time": "2024-06-02T23:31:06.278905Z",
     "start_time": "2024-06-02T23:31:06.272879Z"
    }
   },
   "cell_type": "code",
   "source": [
    "df.iat[0, 2] = 0\n",
    "df"
   ],
   "id": "271a68307b8bb1e3",
   "outputs": [
    {
     "data": {
      "text/plain": [
       "                   A         B         C         D  F\n",
       "2013-01-01  0.000000  0.973668  0.000000 -0.249930  1\n",
       "2013-01-02  2.412585 -0.214167 -2.010037  0.007982  2\n",
       "2013-01-03 -0.204675  0.945784  0.280822 -0.032412  3\n",
       "2013-01-04 -0.011590  1.065049  1.078857 -0.394424  4\n",
       "2013-01-05 -0.216481  0.349868 -0.760631  0.243898  5\n",
       "2013-01-06  0.598355  1.612032 -1.555591 -1.907510  6"
      ],
      "text/html": [
       "<div>\n",
       "<style scoped>\n",
       "    .dataframe tbody tr th:only-of-type {\n",
       "        vertical-align: middle;\n",
       "    }\n",
       "\n",
       "    .dataframe tbody tr th {\n",
       "        vertical-align: top;\n",
       "    }\n",
       "\n",
       "    .dataframe thead th {\n",
       "        text-align: right;\n",
       "    }\n",
       "</style>\n",
       "<table border=\"1\" class=\"dataframe\">\n",
       "  <thead>\n",
       "    <tr style=\"text-align: right;\">\n",
       "      <th></th>\n",
       "      <th>A</th>\n",
       "      <th>B</th>\n",
       "      <th>C</th>\n",
       "      <th>D</th>\n",
       "      <th>F</th>\n",
       "    </tr>\n",
       "  </thead>\n",
       "  <tbody>\n",
       "    <tr>\n",
       "      <th>2013-01-01</th>\n",
       "      <td>0.000000</td>\n",
       "      <td>0.973668</td>\n",
       "      <td>0.000000</td>\n",
       "      <td>-0.249930</td>\n",
       "      <td>1</td>\n",
       "    </tr>\n",
       "    <tr>\n",
       "      <th>2013-01-02</th>\n",
       "      <td>2.412585</td>\n",
       "      <td>-0.214167</td>\n",
       "      <td>-2.010037</td>\n",
       "      <td>0.007982</td>\n",
       "      <td>2</td>\n",
       "    </tr>\n",
       "    <tr>\n",
       "      <th>2013-01-03</th>\n",
       "      <td>-0.204675</td>\n",
       "      <td>0.945784</td>\n",
       "      <td>0.280822</td>\n",
       "      <td>-0.032412</td>\n",
       "      <td>3</td>\n",
       "    </tr>\n",
       "    <tr>\n",
       "      <th>2013-01-04</th>\n",
       "      <td>-0.011590</td>\n",
       "      <td>1.065049</td>\n",
       "      <td>1.078857</td>\n",
       "      <td>-0.394424</td>\n",
       "      <td>4</td>\n",
       "    </tr>\n",
       "    <tr>\n",
       "      <th>2013-01-05</th>\n",
       "      <td>-0.216481</td>\n",
       "      <td>0.349868</td>\n",
       "      <td>-0.760631</td>\n",
       "      <td>0.243898</td>\n",
       "      <td>5</td>\n",
       "    </tr>\n",
       "    <tr>\n",
       "      <th>2013-01-06</th>\n",
       "      <td>0.598355</td>\n",
       "      <td>1.612032</td>\n",
       "      <td>-1.555591</td>\n",
       "      <td>-1.907510</td>\n",
       "      <td>6</td>\n",
       "    </tr>\n",
       "  </tbody>\n",
       "</table>\n",
       "</div>"
      ]
     },
     "execution_count": 38,
     "metadata": {},
     "output_type": "execute_result"
    }
   ],
   "execution_count": 38
  },
  {
   "metadata": {
    "ExecuteTime": {
     "end_time": "2024-06-02T23:31:06.460630Z",
     "start_time": "2024-06-02T23:31:06.456992Z"
    }
   },
   "cell_type": "code",
   "source": [
    "# Setting values by numpy array\n",
    "df.loc[:, 'D'] = np.array([5] * len(df))\n",
    "df"
   ],
   "id": "a7cb71b6ce1c2c0e",
   "outputs": [
    {
     "data": {
      "text/plain": [
       "                   A         B         C    D  F\n",
       "2013-01-01  0.000000  0.973668  0.000000  5.0  1\n",
       "2013-01-02  2.412585 -0.214167 -2.010037  5.0  2\n",
       "2013-01-03 -0.204675  0.945784  0.280822  5.0  3\n",
       "2013-01-04 -0.011590  1.065049  1.078857  5.0  4\n",
       "2013-01-05 -0.216481  0.349868 -0.760631  5.0  5\n",
       "2013-01-06  0.598355  1.612032 -1.555591  5.0  6"
      ],
      "text/html": [
       "<div>\n",
       "<style scoped>\n",
       "    .dataframe tbody tr th:only-of-type {\n",
       "        vertical-align: middle;\n",
       "    }\n",
       "\n",
       "    .dataframe tbody tr th {\n",
       "        vertical-align: top;\n",
       "    }\n",
       "\n",
       "    .dataframe thead th {\n",
       "        text-align: right;\n",
       "    }\n",
       "</style>\n",
       "<table border=\"1\" class=\"dataframe\">\n",
       "  <thead>\n",
       "    <tr style=\"text-align: right;\">\n",
       "      <th></th>\n",
       "      <th>A</th>\n",
       "      <th>B</th>\n",
       "      <th>C</th>\n",
       "      <th>D</th>\n",
       "      <th>F</th>\n",
       "    </tr>\n",
       "  </thead>\n",
       "  <tbody>\n",
       "    <tr>\n",
       "      <th>2013-01-01</th>\n",
       "      <td>0.000000</td>\n",
       "      <td>0.973668</td>\n",
       "      <td>0.000000</td>\n",
       "      <td>5.0</td>\n",
       "      <td>1</td>\n",
       "    </tr>\n",
       "    <tr>\n",
       "      <th>2013-01-02</th>\n",
       "      <td>2.412585</td>\n",
       "      <td>-0.214167</td>\n",
       "      <td>-2.010037</td>\n",
       "      <td>5.0</td>\n",
       "      <td>2</td>\n",
       "    </tr>\n",
       "    <tr>\n",
       "      <th>2013-01-03</th>\n",
       "      <td>-0.204675</td>\n",
       "      <td>0.945784</td>\n",
       "      <td>0.280822</td>\n",
       "      <td>5.0</td>\n",
       "      <td>3</td>\n",
       "    </tr>\n",
       "    <tr>\n",
       "      <th>2013-01-04</th>\n",
       "      <td>-0.011590</td>\n",
       "      <td>1.065049</td>\n",
       "      <td>1.078857</td>\n",
       "      <td>5.0</td>\n",
       "      <td>4</td>\n",
       "    </tr>\n",
       "    <tr>\n",
       "      <th>2013-01-05</th>\n",
       "      <td>-0.216481</td>\n",
       "      <td>0.349868</td>\n",
       "      <td>-0.760631</td>\n",
       "      <td>5.0</td>\n",
       "      <td>5</td>\n",
       "    </tr>\n",
       "    <tr>\n",
       "      <th>2013-01-06</th>\n",
       "      <td>0.598355</td>\n",
       "      <td>1.612032</td>\n",
       "      <td>-1.555591</td>\n",
       "      <td>5.0</td>\n",
       "      <td>6</td>\n",
       "    </tr>\n",
       "  </tbody>\n",
       "</table>\n",
       "</div>"
      ]
     },
     "execution_count": 39,
     "metadata": {},
     "output_type": "execute_result"
    }
   ],
   "execution_count": 39
  },
  {
   "metadata": {
    "ExecuteTime": {
     "end_time": "2024-06-02T23:31:06.635578Z",
     "start_time": "2024-06-02T23:31:06.629853Z"
    }
   },
   "cell_type": "code",
   "source": [
    "# Using where to set values\n",
    "df3 = df.copy()\n",
    "df3[df3 < 0] = 0\n",
    "df3"
   ],
   "id": "e6b7e4fbcec65e9e",
   "outputs": [
    {
     "data": {
      "text/plain": [
       "                   A         B         C    D  F\n",
       "2013-01-01  0.000000  0.973668  0.000000  5.0  1\n",
       "2013-01-02  2.412585  0.000000  0.000000  5.0  2\n",
       "2013-01-03  0.000000  0.945784  0.280822  5.0  3\n",
       "2013-01-04  0.000000  1.065049  1.078857  5.0  4\n",
       "2013-01-05  0.000000  0.349868  0.000000  5.0  5\n",
       "2013-01-06  0.598355  1.612032  0.000000  5.0  6"
      ],
      "text/html": [
       "<div>\n",
       "<style scoped>\n",
       "    .dataframe tbody tr th:only-of-type {\n",
       "        vertical-align: middle;\n",
       "    }\n",
       "\n",
       "    .dataframe tbody tr th {\n",
       "        vertical-align: top;\n",
       "    }\n",
       "\n",
       "    .dataframe thead th {\n",
       "        text-align: right;\n",
       "    }\n",
       "</style>\n",
       "<table border=\"1\" class=\"dataframe\">\n",
       "  <thead>\n",
       "    <tr style=\"text-align: right;\">\n",
       "      <th></th>\n",
       "      <th>A</th>\n",
       "      <th>B</th>\n",
       "      <th>C</th>\n",
       "      <th>D</th>\n",
       "      <th>F</th>\n",
       "    </tr>\n",
       "  </thead>\n",
       "  <tbody>\n",
       "    <tr>\n",
       "      <th>2013-01-01</th>\n",
       "      <td>0.000000</td>\n",
       "      <td>0.973668</td>\n",
       "      <td>0.000000</td>\n",
       "      <td>5.0</td>\n",
       "      <td>1</td>\n",
       "    </tr>\n",
       "    <tr>\n",
       "      <th>2013-01-02</th>\n",
       "      <td>2.412585</td>\n",
       "      <td>0.000000</td>\n",
       "      <td>0.000000</td>\n",
       "      <td>5.0</td>\n",
       "      <td>2</td>\n",
       "    </tr>\n",
       "    <tr>\n",
       "      <th>2013-01-03</th>\n",
       "      <td>0.000000</td>\n",
       "      <td>0.945784</td>\n",
       "      <td>0.280822</td>\n",
       "      <td>5.0</td>\n",
       "      <td>3</td>\n",
       "    </tr>\n",
       "    <tr>\n",
       "      <th>2013-01-04</th>\n",
       "      <td>0.000000</td>\n",
       "      <td>1.065049</td>\n",
       "      <td>1.078857</td>\n",
       "      <td>5.0</td>\n",
       "      <td>4</td>\n",
       "    </tr>\n",
       "    <tr>\n",
       "      <th>2013-01-05</th>\n",
       "      <td>0.000000</td>\n",
       "      <td>0.349868</td>\n",
       "      <td>0.000000</td>\n",
       "      <td>5.0</td>\n",
       "      <td>5</td>\n",
       "    </tr>\n",
       "    <tr>\n",
       "      <th>2013-01-06</th>\n",
       "      <td>0.598355</td>\n",
       "      <td>1.612032</td>\n",
       "      <td>0.000000</td>\n",
       "      <td>5.0</td>\n",
       "      <td>6</td>\n",
       "    </tr>\n",
       "  </tbody>\n",
       "</table>\n",
       "</div>"
      ]
     },
     "execution_count": 40,
     "metadata": {},
     "output_type": "execute_result"
    }
   ],
   "execution_count": 40
  },
  {
   "metadata": {},
   "cell_type": "markdown",
   "source": "# 6 Handling Missing Data",
   "id": "b1872aa304397330"
  },
  {
   "metadata": {
    "ExecuteTime": {
     "end_time": "2024-06-02T23:31:06.969062Z",
     "start_time": "2024-06-02T23:31:06.962495Z"
    }
   },
   "cell_type": "code",
   "source": [
    "# Reindexing\n",
    "df1 = df.reindex(index=d[0:4], columns=list(df.columns) + ['E'])\n",
    "df1.loc[d[0]:d[1], 'E'] = 1\n",
    "df1"
   ],
   "id": "b0c1638d7013788b",
   "outputs": [
    {
     "data": {
      "text/plain": [
       "                   A         B         C    D  F    E\n",
       "2013-01-01  0.000000  0.973668  0.000000  5.0  1  1.0\n",
       "2013-01-02  2.412585 -0.214167 -2.010037  5.0  2  1.0\n",
       "2013-01-03 -0.204675  0.945784  0.280822  5.0  3  NaN\n",
       "2013-01-04 -0.011590  1.065049  1.078857  5.0  4  NaN"
      ],
      "text/html": [
       "<div>\n",
       "<style scoped>\n",
       "    .dataframe tbody tr th:only-of-type {\n",
       "        vertical-align: middle;\n",
       "    }\n",
       "\n",
       "    .dataframe tbody tr th {\n",
       "        vertical-align: top;\n",
       "    }\n",
       "\n",
       "    .dataframe thead th {\n",
       "        text-align: right;\n",
       "    }\n",
       "</style>\n",
       "<table border=\"1\" class=\"dataframe\">\n",
       "  <thead>\n",
       "    <tr style=\"text-align: right;\">\n",
       "      <th></th>\n",
       "      <th>A</th>\n",
       "      <th>B</th>\n",
       "      <th>C</th>\n",
       "      <th>D</th>\n",
       "      <th>F</th>\n",
       "      <th>E</th>\n",
       "    </tr>\n",
       "  </thead>\n",
       "  <tbody>\n",
       "    <tr>\n",
       "      <th>2013-01-01</th>\n",
       "      <td>0.000000</td>\n",
       "      <td>0.973668</td>\n",
       "      <td>0.000000</td>\n",
       "      <td>5.0</td>\n",
       "      <td>1</td>\n",
       "      <td>1.0</td>\n",
       "    </tr>\n",
       "    <tr>\n",
       "      <th>2013-01-02</th>\n",
       "      <td>2.412585</td>\n",
       "      <td>-0.214167</td>\n",
       "      <td>-2.010037</td>\n",
       "      <td>5.0</td>\n",
       "      <td>2</td>\n",
       "      <td>1.0</td>\n",
       "    </tr>\n",
       "    <tr>\n",
       "      <th>2013-01-03</th>\n",
       "      <td>-0.204675</td>\n",
       "      <td>0.945784</td>\n",
       "      <td>0.280822</td>\n",
       "      <td>5.0</td>\n",
       "      <td>3</td>\n",
       "      <td>NaN</td>\n",
       "    </tr>\n",
       "    <tr>\n",
       "      <th>2013-01-04</th>\n",
       "      <td>-0.011590</td>\n",
       "      <td>1.065049</td>\n",
       "      <td>1.078857</td>\n",
       "      <td>5.0</td>\n",
       "      <td>4</td>\n",
       "      <td>NaN</td>\n",
       "    </tr>\n",
       "  </tbody>\n",
       "</table>\n",
       "</div>"
      ]
     },
     "execution_count": 41,
     "metadata": {},
     "output_type": "execute_result"
    }
   ],
   "execution_count": 41
  },
  {
   "metadata": {
    "ExecuteTime": {
     "end_time": "2024-06-02T23:31:07.175665Z",
     "start_time": "2024-06-02T23:31:07.168004Z"
    }
   },
   "cell_type": "code",
   "source": [
    "# Drop rows with missing data\n",
    "df1.dropna(how='any')"
   ],
   "id": "8e2e3a2fb00bcb18",
   "outputs": [
    {
     "data": {
      "text/plain": [
       "                   A         B         C    D  F    E\n",
       "2013-01-01  0.000000  0.973668  0.000000  5.0  1  1.0\n",
       "2013-01-02  2.412585 -0.214167 -2.010037  5.0  2  1.0"
      ],
      "text/html": [
       "<div>\n",
       "<style scoped>\n",
       "    .dataframe tbody tr th:only-of-type {\n",
       "        vertical-align: middle;\n",
       "    }\n",
       "\n",
       "    .dataframe tbody tr th {\n",
       "        vertical-align: top;\n",
       "    }\n",
       "\n",
       "    .dataframe thead th {\n",
       "        text-align: right;\n",
       "    }\n",
       "</style>\n",
       "<table border=\"1\" class=\"dataframe\">\n",
       "  <thead>\n",
       "    <tr style=\"text-align: right;\">\n",
       "      <th></th>\n",
       "      <th>A</th>\n",
       "      <th>B</th>\n",
       "      <th>C</th>\n",
       "      <th>D</th>\n",
       "      <th>F</th>\n",
       "      <th>E</th>\n",
       "    </tr>\n",
       "  </thead>\n",
       "  <tbody>\n",
       "    <tr>\n",
       "      <th>2013-01-01</th>\n",
       "      <td>0.000000</td>\n",
       "      <td>0.973668</td>\n",
       "      <td>0.000000</td>\n",
       "      <td>5.0</td>\n",
       "      <td>1</td>\n",
       "      <td>1.0</td>\n",
       "    </tr>\n",
       "    <tr>\n",
       "      <th>2013-01-02</th>\n",
       "      <td>2.412585</td>\n",
       "      <td>-0.214167</td>\n",
       "      <td>-2.010037</td>\n",
       "      <td>5.0</td>\n",
       "      <td>2</td>\n",
       "      <td>1.0</td>\n",
       "    </tr>\n",
       "  </tbody>\n",
       "</table>\n",
       "</div>"
      ]
     },
     "execution_count": 42,
     "metadata": {},
     "output_type": "execute_result"
    }
   ],
   "execution_count": 42
  },
  {
   "metadata": {
    "ExecuteTime": {
     "end_time": "2024-06-02T23:31:07.358905Z",
     "start_time": "2024-06-02T23:31:07.354148Z"
    }
   },
   "cell_type": "code",
   "source": [
    "# Fill missing data\n",
    "df1.fillna(value=5)"
   ],
   "id": "eff1dd61584504aa",
   "outputs": [
    {
     "data": {
      "text/plain": [
       "                   A         B         C    D  F    E\n",
       "2013-01-01  0.000000  0.973668  0.000000  5.0  1  1.0\n",
       "2013-01-02  2.412585 -0.214167 -2.010037  5.0  2  1.0\n",
       "2013-01-03 -0.204675  0.945784  0.280822  5.0  3  5.0\n",
       "2013-01-04 -0.011590  1.065049  1.078857  5.0  4  5.0"
      ],
      "text/html": [
       "<div>\n",
       "<style scoped>\n",
       "    .dataframe tbody tr th:only-of-type {\n",
       "        vertical-align: middle;\n",
       "    }\n",
       "\n",
       "    .dataframe tbody tr th {\n",
       "        vertical-align: top;\n",
       "    }\n",
       "\n",
       "    .dataframe thead th {\n",
       "        text-align: right;\n",
       "    }\n",
       "</style>\n",
       "<table border=\"1\" class=\"dataframe\">\n",
       "  <thead>\n",
       "    <tr style=\"text-align: right;\">\n",
       "      <th></th>\n",
       "      <th>A</th>\n",
       "      <th>B</th>\n",
       "      <th>C</th>\n",
       "      <th>D</th>\n",
       "      <th>F</th>\n",
       "      <th>E</th>\n",
       "    </tr>\n",
       "  </thead>\n",
       "  <tbody>\n",
       "    <tr>\n",
       "      <th>2013-01-01</th>\n",
       "      <td>0.000000</td>\n",
       "      <td>0.973668</td>\n",
       "      <td>0.000000</td>\n",
       "      <td>5.0</td>\n",
       "      <td>1</td>\n",
       "      <td>1.0</td>\n",
       "    </tr>\n",
       "    <tr>\n",
       "      <th>2013-01-02</th>\n",
       "      <td>2.412585</td>\n",
       "      <td>-0.214167</td>\n",
       "      <td>-2.010037</td>\n",
       "      <td>5.0</td>\n",
       "      <td>2</td>\n",
       "      <td>1.0</td>\n",
       "    </tr>\n",
       "    <tr>\n",
       "      <th>2013-01-03</th>\n",
       "      <td>-0.204675</td>\n",
       "      <td>0.945784</td>\n",
       "      <td>0.280822</td>\n",
       "      <td>5.0</td>\n",
       "      <td>3</td>\n",
       "      <td>5.0</td>\n",
       "    </tr>\n",
       "    <tr>\n",
       "      <th>2013-01-04</th>\n",
       "      <td>-0.011590</td>\n",
       "      <td>1.065049</td>\n",
       "      <td>1.078857</td>\n",
       "      <td>5.0</td>\n",
       "      <td>4</td>\n",
       "      <td>5.0</td>\n",
       "    </tr>\n",
       "  </tbody>\n",
       "</table>\n",
       "</div>"
      ]
     },
     "execution_count": 43,
     "metadata": {},
     "output_type": "execute_result"
    }
   ],
   "execution_count": 43
  },
  {
   "metadata": {
    "ExecuteTime": {
     "end_time": "2024-06-02T23:31:07.554408Z",
     "start_time": "2024-06-02T23:31:07.549465Z"
    }
   },
   "cell_type": "code",
   "source": [
    "# Check for missing data\n",
    "pd.isna(df1)"
   ],
   "id": "eb39216c143ac807",
   "outputs": [
    {
     "data": {
      "text/plain": [
       "                A      B      C      D      F      E\n",
       "2013-01-01  False  False  False  False  False  False\n",
       "2013-01-02  False  False  False  False  False  False\n",
       "2013-01-03  False  False  False  False  False   True\n",
       "2013-01-04  False  False  False  False  False   True"
      ],
      "text/html": [
       "<div>\n",
       "<style scoped>\n",
       "    .dataframe tbody tr th:only-of-type {\n",
       "        vertical-align: middle;\n",
       "    }\n",
       "\n",
       "    .dataframe tbody tr th {\n",
       "        vertical-align: top;\n",
       "    }\n",
       "\n",
       "    .dataframe thead th {\n",
       "        text-align: right;\n",
       "    }\n",
       "</style>\n",
       "<table border=\"1\" class=\"dataframe\">\n",
       "  <thead>\n",
       "    <tr style=\"text-align: right;\">\n",
       "      <th></th>\n",
       "      <th>A</th>\n",
       "      <th>B</th>\n",
       "      <th>C</th>\n",
       "      <th>D</th>\n",
       "      <th>F</th>\n",
       "      <th>E</th>\n",
       "    </tr>\n",
       "  </thead>\n",
       "  <tbody>\n",
       "    <tr>\n",
       "      <th>2013-01-01</th>\n",
       "      <td>False</td>\n",
       "      <td>False</td>\n",
       "      <td>False</td>\n",
       "      <td>False</td>\n",
       "      <td>False</td>\n",
       "      <td>False</td>\n",
       "    </tr>\n",
       "    <tr>\n",
       "      <th>2013-01-02</th>\n",
       "      <td>False</td>\n",
       "      <td>False</td>\n",
       "      <td>False</td>\n",
       "      <td>False</td>\n",
       "      <td>False</td>\n",
       "      <td>False</td>\n",
       "    </tr>\n",
       "    <tr>\n",
       "      <th>2013-01-03</th>\n",
       "      <td>False</td>\n",
       "      <td>False</td>\n",
       "      <td>False</td>\n",
       "      <td>False</td>\n",
       "      <td>False</td>\n",
       "      <td>True</td>\n",
       "    </tr>\n",
       "    <tr>\n",
       "      <th>2013-01-04</th>\n",
       "      <td>False</td>\n",
       "      <td>False</td>\n",
       "      <td>False</td>\n",
       "      <td>False</td>\n",
       "      <td>False</td>\n",
       "      <td>True</td>\n",
       "    </tr>\n",
       "  </tbody>\n",
       "</table>\n",
       "</div>"
      ]
     },
     "execution_count": 44,
     "metadata": {},
     "output_type": "execute_result"
    }
   ],
   "execution_count": 44
  },
  {
   "metadata": {},
   "cell_type": "markdown",
   "source": [
    "# 7 Operations\n",
    "## 7.1 Arithmetic Operations"
   ],
   "id": "b7349c3f6ffa5620"
  },
  {
   "metadata": {
    "ExecuteTime": {
     "end_time": "2024-06-02T23:31:07.930489Z",
     "start_time": "2024-06-02T23:31:07.926077Z"
    }
   },
   "cell_type": "code",
   "source": [
    "# Arithmetic operations\n",
    "df1 = pd.DataFrame(np.random.randn(2, 5))\n",
    "df1"
   ],
   "id": "4b1e95f70a4c7c13",
   "outputs": [
    {
     "data": {
      "text/plain": [
       "          0         1         2         3         4\n",
       "0 -1.475527 -0.129089 -0.013786  0.411688  1.233875\n",
       "1 -0.631988 -0.309483  0.920707  0.541339 -0.565784"
      ],
      "text/html": [
       "<div>\n",
       "<style scoped>\n",
       "    .dataframe tbody tr th:only-of-type {\n",
       "        vertical-align: middle;\n",
       "    }\n",
       "\n",
       "    .dataframe tbody tr th {\n",
       "        vertical-align: top;\n",
       "    }\n",
       "\n",
       "    .dataframe thead th {\n",
       "        text-align: right;\n",
       "    }\n",
       "</style>\n",
       "<table border=\"1\" class=\"dataframe\">\n",
       "  <thead>\n",
       "    <tr style=\"text-align: right;\">\n",
       "      <th></th>\n",
       "      <th>0</th>\n",
       "      <th>1</th>\n",
       "      <th>2</th>\n",
       "      <th>3</th>\n",
       "      <th>4</th>\n",
       "    </tr>\n",
       "  </thead>\n",
       "  <tbody>\n",
       "    <tr>\n",
       "      <th>0</th>\n",
       "      <td>-1.475527</td>\n",
       "      <td>-0.129089</td>\n",
       "      <td>-0.013786</td>\n",
       "      <td>0.411688</td>\n",
       "      <td>1.233875</td>\n",
       "    </tr>\n",
       "    <tr>\n",
       "      <th>1</th>\n",
       "      <td>-0.631988</td>\n",
       "      <td>-0.309483</td>\n",
       "      <td>0.920707</td>\n",
       "      <td>0.541339</td>\n",
       "      <td>-0.565784</td>\n",
       "    </tr>\n",
       "  </tbody>\n",
       "</table>\n",
       "</div>"
      ]
     },
     "execution_count": 45,
     "metadata": {},
     "output_type": "execute_result"
    }
   ],
   "execution_count": 45
  },
  {
   "metadata": {
    "ExecuteTime": {
     "end_time": "2024-06-02T23:31:08.112826Z",
     "start_time": "2024-06-02T23:31:08.108373Z"
    }
   },
   "cell_type": "code",
   "source": [
    "df2 = pd.DataFrame(np.random.randn(3, 4))\n",
    "df2"
   ],
   "id": "c096b14107bcbaba",
   "outputs": [
    {
     "data": {
      "text/plain": [
       "          0         1         2         3\n",
       "0 -0.009652  0.590987 -1.034967  0.070478\n",
       "1 -0.568375 -2.013001  0.478979 -0.434084\n",
       "2  0.614649  1.237674 -0.461175 -1.733752"
      ],
      "text/html": [
       "<div>\n",
       "<style scoped>\n",
       "    .dataframe tbody tr th:only-of-type {\n",
       "        vertical-align: middle;\n",
       "    }\n",
       "\n",
       "    .dataframe tbody tr th {\n",
       "        vertical-align: top;\n",
       "    }\n",
       "\n",
       "    .dataframe thead th {\n",
       "        text-align: right;\n",
       "    }\n",
       "</style>\n",
       "<table border=\"1\" class=\"dataframe\">\n",
       "  <thead>\n",
       "    <tr style=\"text-align: right;\">\n",
       "      <th></th>\n",
       "      <th>0</th>\n",
       "      <th>1</th>\n",
       "      <th>2</th>\n",
       "      <th>3</th>\n",
       "    </tr>\n",
       "  </thead>\n",
       "  <tbody>\n",
       "    <tr>\n",
       "      <th>0</th>\n",
       "      <td>-0.009652</td>\n",
       "      <td>0.590987</td>\n",
       "      <td>-1.034967</td>\n",
       "      <td>0.070478</td>\n",
       "    </tr>\n",
       "    <tr>\n",
       "      <th>1</th>\n",
       "      <td>-0.568375</td>\n",
       "      <td>-2.013001</td>\n",
       "      <td>0.478979</td>\n",
       "      <td>-0.434084</td>\n",
       "    </tr>\n",
       "    <tr>\n",
       "      <th>2</th>\n",
       "      <td>0.614649</td>\n",
       "      <td>1.237674</td>\n",
       "      <td>-0.461175</td>\n",
       "      <td>-1.733752</td>\n",
       "    </tr>\n",
       "  </tbody>\n",
       "</table>\n",
       "</div>"
      ]
     },
     "execution_count": 46,
     "metadata": {},
     "output_type": "execute_result"
    }
   ],
   "execution_count": 46
  },
  {
   "metadata": {
    "ExecuteTime": {
     "end_time": "2024-06-02T23:31:08.325041Z",
     "start_time": "2024-06-02T23:31:08.317991Z"
    }
   },
   "cell_type": "code",
   "source": [
    "print(\"df1 + df2\\n\", df1 + df2)\n",
    "print(\"df1 - df2\\n\", df1 - df2)\n",
    "print(\"df1 * df2\\n\", df1 * df2)\n",
    "print(\"df1 / df2\\n\", df1 / df2)"
   ],
   "id": "8122b8668c090a48",
   "outputs": [
    {
     "name": "stdout",
     "output_type": "stream",
     "text": [
      "df1 + df2\n",
      "           0         1         2         3   4\n",
      "0 -1.485179  0.461898 -1.048753  0.482166 NaN\n",
      "1 -1.200363 -2.322484  1.399686  0.107255 NaN\n",
      "2       NaN       NaN       NaN       NaN NaN\n",
      "df1 - df2\n",
      "           0         1         2         3   4\n",
      "0 -1.465876 -0.720076  1.021181  0.341211 NaN\n",
      "1 -0.063613  1.703518  0.441728  0.975423 NaN\n",
      "2       NaN       NaN       NaN       NaN NaN\n",
      "df1 * df2\n",
      "           0        1         2         3   4\n",
      "0  0.014241 -0.07629  0.014268  0.029015 NaN\n",
      "1  0.359206  0.62299  0.440999 -0.234987 NaN\n",
      "2       NaN      NaN       NaN       NaN NaN\n",
      "df1 / df2\n",
      "             0         1         2         3   4\n",
      "0  152.877158 -0.218429  0.013320  5.841384 NaN\n",
      "1    1.111921  0.153742  1.922227 -1.247083 NaN\n",
      "2         NaN       NaN       NaN       NaN NaN\n"
     ]
    }
   ],
   "execution_count": 47
  },
  {
   "metadata": {},
   "cell_type": "markdown",
   "source": "## 7.2 Comparison Operations",
   "id": "a9f7dae7f93ae777"
  },
  {
   "metadata": {
    "ExecuteTime": {
     "end_time": "2024-06-02T23:31:08.740419Z",
     "start_time": "2024-06-02T23:31:08.730413Z"
    }
   },
   "cell_type": "code",
   "source": [
    "print(\"df1 equals df2\\n\", df1.eq(df2))\n",
    "print(\"df1 not equal to df2\\n\", df1.ne(df2))\n",
    "print(\"df1 greater than df2\\n\", df1.gt(df2))\n",
    "print(\"df1 less than df2\\n\", df1.lt(df2))\n",
    "print(\"df1 greater than or equal to df2\\n\", df1.ge(df2))\n",
    "print(\"df1 less than or equal to df2\\n\", df1.le(df2))"
   ],
   "id": "bb92f0157ad3b1e0",
   "outputs": [
    {
     "name": "stdout",
     "output_type": "stream",
     "text": [
      "df1 equals df2\n",
      "        0      1      2      3      4\n",
      "0  False  False  False  False  False\n",
      "1  False  False  False  False  False\n",
      "2  False  False  False  False  False\n",
      "df1 not equal to df2\n",
      "       0     1     2     3     4\n",
      "0  True  True  True  True  True\n",
      "1  True  True  True  True  True\n",
      "2  True  True  True  True  True\n",
      "df1 greater than df2\n",
      "        0      1      2      3      4\n",
      "0  False  False   True   True  False\n",
      "1  False   True   True   True  False\n",
      "2  False  False  False  False  False\n",
      "df1 less than df2\n",
      "        0      1      2      3      4\n",
      "0   True   True  False  False  False\n",
      "1   True  False  False  False  False\n",
      "2  False  False  False  False  False\n",
      "df1 greater than or equal to df2\n",
      "        0      1      2      3      4\n",
      "0  False  False   True   True  False\n",
      "1  False   True   True   True  False\n",
      "2  False  False  False  False  False\n",
      "df1 less than or equal to df2\n",
      "        0      1      2      3      4\n",
      "0   True   True  False  False  False\n",
      "1   True  False  False  False  False\n",
      "2  False  False  False  False  False\n"
     ]
    }
   ],
   "execution_count": 48
  },
  {
   "metadata": {},
   "cell_type": "markdown",
   "source": [
    "## 7.3 Statistical Operations\n",
    "make good use of search"
   ],
   "id": "4d8702c4d633c658"
  },
  {
   "metadata": {
    "ExecuteTime": {
     "end_time": "2024-06-02T23:31:09.128741Z",
     "start_time": "2024-06-02T23:31:09.124635Z"
    }
   },
   "cell_type": "code",
   "source": [
    "# Statistical operations\n",
    "df1"
   ],
   "id": "455a85697f90b5b1",
   "outputs": [
    {
     "data": {
      "text/plain": [
       "          0         1         2         3         4\n",
       "0 -1.475527 -0.129089 -0.013786  0.411688  1.233875\n",
       "1 -0.631988 -0.309483  0.920707  0.541339 -0.565784"
      ],
      "text/html": [
       "<div>\n",
       "<style scoped>\n",
       "    .dataframe tbody tr th:only-of-type {\n",
       "        vertical-align: middle;\n",
       "    }\n",
       "\n",
       "    .dataframe tbody tr th {\n",
       "        vertical-align: top;\n",
       "    }\n",
       "\n",
       "    .dataframe thead th {\n",
       "        text-align: right;\n",
       "    }\n",
       "</style>\n",
       "<table border=\"1\" class=\"dataframe\">\n",
       "  <thead>\n",
       "    <tr style=\"text-align: right;\">\n",
       "      <th></th>\n",
       "      <th>0</th>\n",
       "      <th>1</th>\n",
       "      <th>2</th>\n",
       "      <th>3</th>\n",
       "      <th>4</th>\n",
       "    </tr>\n",
       "  </thead>\n",
       "  <tbody>\n",
       "    <tr>\n",
       "      <th>0</th>\n",
       "      <td>-1.475527</td>\n",
       "      <td>-0.129089</td>\n",
       "      <td>-0.013786</td>\n",
       "      <td>0.411688</td>\n",
       "      <td>1.233875</td>\n",
       "    </tr>\n",
       "    <tr>\n",
       "      <th>1</th>\n",
       "      <td>-0.631988</td>\n",
       "      <td>-0.309483</td>\n",
       "      <td>0.920707</td>\n",
       "      <td>0.541339</td>\n",
       "      <td>-0.565784</td>\n",
       "    </tr>\n",
       "  </tbody>\n",
       "</table>\n",
       "</div>"
      ]
     },
     "execution_count": 49,
     "metadata": {},
     "output_type": "execute_result"
    }
   ],
   "execution_count": 49
  },
  {
   "metadata": {
    "ExecuteTime": {
     "end_time": "2024-06-02T23:31:09.685058Z",
     "start_time": "2024-06-02T23:31:09.681902Z"
    }
   },
   "cell_type": "code",
   "source": "df1.mean()",
   "id": "29a38ee1e63a2d14",
   "outputs": [
    {
     "data": {
      "text/plain": [
       "0   -1.053758\n",
       "1   -0.219286\n",
       "2    0.453460\n",
       "3    0.476514\n",
       "4    0.334046\n",
       "dtype: float64"
      ]
     },
     "execution_count": 50,
     "metadata": {},
     "output_type": "execute_result"
    }
   ],
   "execution_count": 50
  },
  {
   "metadata": {
    "ExecuteTime": {
     "end_time": "2024-06-02T23:31:09.913573Z",
     "start_time": "2024-06-02T23:31:09.909093Z"
    }
   },
   "cell_type": "code",
   "source": "df1.cumsum()",
   "id": "dcd4640ed3c2dea9",
   "outputs": [
    {
     "data": {
      "text/plain": [
       "          0         1         2         3         4\n",
       "0 -1.475527 -0.129089 -0.013786  0.411688  1.233875\n",
       "1 -2.107515 -0.438572  0.906920  0.953027  0.668091"
      ],
      "text/html": [
       "<div>\n",
       "<style scoped>\n",
       "    .dataframe tbody tr th:only-of-type {\n",
       "        vertical-align: middle;\n",
       "    }\n",
       "\n",
       "    .dataframe tbody tr th {\n",
       "        vertical-align: top;\n",
       "    }\n",
       "\n",
       "    .dataframe thead th {\n",
       "        text-align: right;\n",
       "    }\n",
       "</style>\n",
       "<table border=\"1\" class=\"dataframe\">\n",
       "  <thead>\n",
       "    <tr style=\"text-align: right;\">\n",
       "      <th></th>\n",
       "      <th>0</th>\n",
       "      <th>1</th>\n",
       "      <th>2</th>\n",
       "      <th>3</th>\n",
       "      <th>4</th>\n",
       "    </tr>\n",
       "  </thead>\n",
       "  <tbody>\n",
       "    <tr>\n",
       "      <th>0</th>\n",
       "      <td>-1.475527</td>\n",
       "      <td>-0.129089</td>\n",
       "      <td>-0.013786</td>\n",
       "      <td>0.411688</td>\n",
       "      <td>1.233875</td>\n",
       "    </tr>\n",
       "    <tr>\n",
       "      <th>1</th>\n",
       "      <td>-2.107515</td>\n",
       "      <td>-0.438572</td>\n",
       "      <td>0.906920</td>\n",
       "      <td>0.953027</td>\n",
       "      <td>0.668091</td>\n",
       "    </tr>\n",
       "  </tbody>\n",
       "</table>\n",
       "</div>"
      ]
     },
     "execution_count": 51,
     "metadata": {},
     "output_type": "execute_result"
    }
   ],
   "execution_count": 51
  },
  {
   "metadata": {},
   "cell_type": "markdown",
   "source": "## 7.4 Concatenation",
   "id": "f37c773f27dd78e4"
  },
  {
   "metadata": {
    "ExecuteTime": {
     "end_time": "2024-06-02T23:31:10.280600Z",
     "start_time": "2024-06-02T23:31:10.270316Z"
    }
   },
   "cell_type": "code",
   "source": "pd.concat([df1, df2])",
   "id": "ae77083f7a09e718",
   "outputs": [
    {
     "data": {
      "text/plain": [
       "          0         1         2         3         4\n",
       "0 -1.475527 -0.129089 -0.013786  0.411688  1.233875\n",
       "1 -0.631988 -0.309483  0.920707  0.541339 -0.565784\n",
       "0 -0.009652  0.590987 -1.034967  0.070478       NaN\n",
       "1 -0.568375 -2.013001  0.478979 -0.434084       NaN\n",
       "2  0.614649  1.237674 -0.461175 -1.733752       NaN"
      ],
      "text/html": [
       "<div>\n",
       "<style scoped>\n",
       "    .dataframe tbody tr th:only-of-type {\n",
       "        vertical-align: middle;\n",
       "    }\n",
       "\n",
       "    .dataframe tbody tr th {\n",
       "        vertical-align: top;\n",
       "    }\n",
       "\n",
       "    .dataframe thead th {\n",
       "        text-align: right;\n",
       "    }\n",
       "</style>\n",
       "<table border=\"1\" class=\"dataframe\">\n",
       "  <thead>\n",
       "    <tr style=\"text-align: right;\">\n",
       "      <th></th>\n",
       "      <th>0</th>\n",
       "      <th>1</th>\n",
       "      <th>2</th>\n",
       "      <th>3</th>\n",
       "      <th>4</th>\n",
       "    </tr>\n",
       "  </thead>\n",
       "  <tbody>\n",
       "    <tr>\n",
       "      <th>0</th>\n",
       "      <td>-1.475527</td>\n",
       "      <td>-0.129089</td>\n",
       "      <td>-0.013786</td>\n",
       "      <td>0.411688</td>\n",
       "      <td>1.233875</td>\n",
       "    </tr>\n",
       "    <tr>\n",
       "      <th>1</th>\n",
       "      <td>-0.631988</td>\n",
       "      <td>-0.309483</td>\n",
       "      <td>0.920707</td>\n",
       "      <td>0.541339</td>\n",
       "      <td>-0.565784</td>\n",
       "    </tr>\n",
       "    <tr>\n",
       "      <th>0</th>\n",
       "      <td>-0.009652</td>\n",
       "      <td>0.590987</td>\n",
       "      <td>-1.034967</td>\n",
       "      <td>0.070478</td>\n",
       "      <td>NaN</td>\n",
       "    </tr>\n",
       "    <tr>\n",
       "      <th>1</th>\n",
       "      <td>-0.568375</td>\n",
       "      <td>-2.013001</td>\n",
       "      <td>0.478979</td>\n",
       "      <td>-0.434084</td>\n",
       "      <td>NaN</td>\n",
       "    </tr>\n",
       "    <tr>\n",
       "      <th>2</th>\n",
       "      <td>0.614649</td>\n",
       "      <td>1.237674</td>\n",
       "      <td>-0.461175</td>\n",
       "      <td>-1.733752</td>\n",
       "      <td>NaN</td>\n",
       "    </tr>\n",
       "  </tbody>\n",
       "</table>\n",
       "</div>"
      ]
     },
     "execution_count": 52,
     "metadata": {},
     "output_type": "execute_result"
    }
   ],
   "execution_count": 52
  },
  {
   "metadata": {},
   "cell_type": "markdown",
   "source": "## 7.5 Merging",
   "id": "4b2cea2a7a82e19a"
  },
  {
   "metadata": {
    "ExecuteTime": {
     "end_time": "2024-06-02T23:31:10.642415Z",
     "start_time": "2024-06-02T23:31:10.632635Z"
    }
   },
   "cell_type": "code",
   "source": [
    "left = pd.DataFrame({'key': ['foo', 'foo', 'bar'], 'lval': [1, 2, 2]})\n",
    "left"
   ],
   "id": "7d234dee806ac28",
   "outputs": [
    {
     "data": {
      "text/plain": [
       "   key  lval\n",
       "0  foo     1\n",
       "1  foo     2\n",
       "2  bar     2"
      ],
      "text/html": [
       "<div>\n",
       "<style scoped>\n",
       "    .dataframe tbody tr th:only-of-type {\n",
       "        vertical-align: middle;\n",
       "    }\n",
       "\n",
       "    .dataframe tbody tr th {\n",
       "        vertical-align: top;\n",
       "    }\n",
       "\n",
       "    .dataframe thead th {\n",
       "        text-align: right;\n",
       "    }\n",
       "</style>\n",
       "<table border=\"1\" class=\"dataframe\">\n",
       "  <thead>\n",
       "    <tr style=\"text-align: right;\">\n",
       "      <th></th>\n",
       "      <th>key</th>\n",
       "      <th>lval</th>\n",
       "    </tr>\n",
       "  </thead>\n",
       "  <tbody>\n",
       "    <tr>\n",
       "      <th>0</th>\n",
       "      <td>foo</td>\n",
       "      <td>1</td>\n",
       "    </tr>\n",
       "    <tr>\n",
       "      <th>1</th>\n",
       "      <td>foo</td>\n",
       "      <td>2</td>\n",
       "    </tr>\n",
       "    <tr>\n",
       "      <th>2</th>\n",
       "      <td>bar</td>\n",
       "      <td>2</td>\n",
       "    </tr>\n",
       "  </tbody>\n",
       "</table>\n",
       "</div>"
      ]
     },
     "execution_count": 53,
     "metadata": {},
     "output_type": "execute_result"
    }
   ],
   "execution_count": 53
  },
  {
   "metadata": {
    "ExecuteTime": {
     "end_time": "2024-06-02T23:31:10.818017Z",
     "start_time": "2024-06-02T23:31:10.813526Z"
    }
   },
   "cell_type": "code",
   "source": [
    "right = pd.DataFrame({'key': ['foo', 'foo', 'bar'], 'rval': [3, 4, 5]})\n",
    "right"
   ],
   "id": "be0d09c4fcc14ccc",
   "outputs": [
    {
     "data": {
      "text/plain": [
       "   key  rval\n",
       "0  foo     3\n",
       "1  foo     4\n",
       "2  bar     5"
      ],
      "text/html": [
       "<div>\n",
       "<style scoped>\n",
       "    .dataframe tbody tr th:only-of-type {\n",
       "        vertical-align: middle;\n",
       "    }\n",
       "\n",
       "    .dataframe tbody tr th {\n",
       "        vertical-align: top;\n",
       "    }\n",
       "\n",
       "    .dataframe thead th {\n",
       "        text-align: right;\n",
       "    }\n",
       "</style>\n",
       "<table border=\"1\" class=\"dataframe\">\n",
       "  <thead>\n",
       "    <tr style=\"text-align: right;\">\n",
       "      <th></th>\n",
       "      <th>key</th>\n",
       "      <th>rval</th>\n",
       "    </tr>\n",
       "  </thead>\n",
       "  <tbody>\n",
       "    <tr>\n",
       "      <th>0</th>\n",
       "      <td>foo</td>\n",
       "      <td>3</td>\n",
       "    </tr>\n",
       "    <tr>\n",
       "      <th>1</th>\n",
       "      <td>foo</td>\n",
       "      <td>4</td>\n",
       "    </tr>\n",
       "    <tr>\n",
       "      <th>2</th>\n",
       "      <td>bar</td>\n",
       "      <td>5</td>\n",
       "    </tr>\n",
       "  </tbody>\n",
       "</table>\n",
       "</div>"
      ]
     },
     "execution_count": 54,
     "metadata": {},
     "output_type": "execute_result"
    }
   ],
   "execution_count": 54
  },
  {
   "metadata": {
    "ExecuteTime": {
     "end_time": "2024-06-02T23:31:11.018532Z",
     "start_time": "2024-06-02T23:31:11.010353Z"
    }
   },
   "cell_type": "code",
   "source": "pd.merge(left, right, on='key')",
   "id": "73be2015e4febe04",
   "outputs": [
    {
     "data": {
      "text/plain": [
       "   key  lval  rval\n",
       "0  foo     1     3\n",
       "1  foo     1     4\n",
       "2  foo     2     3\n",
       "3  foo     2     4\n",
       "4  bar     2     5"
      ],
      "text/html": [
       "<div>\n",
       "<style scoped>\n",
       "    .dataframe tbody tr th:only-of-type {\n",
       "        vertical-align: middle;\n",
       "    }\n",
       "\n",
       "    .dataframe tbody tr th {\n",
       "        vertical-align: top;\n",
       "    }\n",
       "\n",
       "    .dataframe thead th {\n",
       "        text-align: right;\n",
       "    }\n",
       "</style>\n",
       "<table border=\"1\" class=\"dataframe\">\n",
       "  <thead>\n",
       "    <tr style=\"text-align: right;\">\n",
       "      <th></th>\n",
       "      <th>key</th>\n",
       "      <th>lval</th>\n",
       "      <th>rval</th>\n",
       "    </tr>\n",
       "  </thead>\n",
       "  <tbody>\n",
       "    <tr>\n",
       "      <th>0</th>\n",
       "      <td>foo</td>\n",
       "      <td>1</td>\n",
       "      <td>3</td>\n",
       "    </tr>\n",
       "    <tr>\n",
       "      <th>1</th>\n",
       "      <td>foo</td>\n",
       "      <td>1</td>\n",
       "      <td>4</td>\n",
       "    </tr>\n",
       "    <tr>\n",
       "      <th>2</th>\n",
       "      <td>foo</td>\n",
       "      <td>2</td>\n",
       "      <td>3</td>\n",
       "    </tr>\n",
       "    <tr>\n",
       "      <th>3</th>\n",
       "      <td>foo</td>\n",
       "      <td>2</td>\n",
       "      <td>4</td>\n",
       "    </tr>\n",
       "    <tr>\n",
       "      <th>4</th>\n",
       "      <td>bar</td>\n",
       "      <td>2</td>\n",
       "      <td>5</td>\n",
       "    </tr>\n",
       "  </tbody>\n",
       "</table>\n",
       "</div>"
      ]
     },
     "execution_count": 55,
     "metadata": {},
     "output_type": "execute_result"
    }
   ],
   "execution_count": 55
  },
  {
   "metadata": {},
   "cell_type": "markdown",
   "source": "## 7.6 Append",
   "id": "3384dc8d76769cd7"
  },
  {
   "metadata": {
    "ExecuteTime": {
     "end_time": "2024-06-02T23:31:12.068562Z",
     "start_time": "2024-06-02T23:31:12.062758Z"
    }
   },
   "cell_type": "code",
   "source": [
    "# Create a DataFrame\n",
    "df = pd.DataFrame(np.random.randn(8, 4), columns=['A', 'B', 'C', 'D'])\n",
    "df"
   ],
   "id": "3e9eda2356609915",
   "outputs": [
    {
     "data": {
      "text/plain": [
       "          A         B         C         D\n",
       "0  0.188676 -1.224569  0.302425  0.331627\n",
       "1 -2.123487  1.409984  0.537546  0.490718\n",
       "2  1.615509 -0.648777  0.507720  0.809419\n",
       "3 -2.311014 -0.413355  0.001047  0.830165\n",
       "4 -0.886021 -0.297135  0.653455  1.660203\n",
       "5 -0.881876 -1.033066 -0.068636  0.555226\n",
       "6 -1.179282  1.061468  0.812578  0.441990\n",
       "7  0.618544  1.577519  0.242676 -0.308361"
      ],
      "text/html": [
       "<div>\n",
       "<style scoped>\n",
       "    .dataframe tbody tr th:only-of-type {\n",
       "        vertical-align: middle;\n",
       "    }\n",
       "\n",
       "    .dataframe tbody tr th {\n",
       "        vertical-align: top;\n",
       "    }\n",
       "\n",
       "    .dataframe thead th {\n",
       "        text-align: right;\n",
       "    }\n",
       "</style>\n",
       "<table border=\"1\" class=\"dataframe\">\n",
       "  <thead>\n",
       "    <tr style=\"text-align: right;\">\n",
       "      <th></th>\n",
       "      <th>A</th>\n",
       "      <th>B</th>\n",
       "      <th>C</th>\n",
       "      <th>D</th>\n",
       "    </tr>\n",
       "  </thead>\n",
       "  <tbody>\n",
       "    <tr>\n",
       "      <th>0</th>\n",
       "      <td>0.188676</td>\n",
       "      <td>-1.224569</td>\n",
       "      <td>0.302425</td>\n",
       "      <td>0.331627</td>\n",
       "    </tr>\n",
       "    <tr>\n",
       "      <th>1</th>\n",
       "      <td>-2.123487</td>\n",
       "      <td>1.409984</td>\n",
       "      <td>0.537546</td>\n",
       "      <td>0.490718</td>\n",
       "    </tr>\n",
       "    <tr>\n",
       "      <th>2</th>\n",
       "      <td>1.615509</td>\n",
       "      <td>-0.648777</td>\n",
       "      <td>0.507720</td>\n",
       "      <td>0.809419</td>\n",
       "    </tr>\n",
       "    <tr>\n",
       "      <th>3</th>\n",
       "      <td>-2.311014</td>\n",
       "      <td>-0.413355</td>\n",
       "      <td>0.001047</td>\n",
       "      <td>0.830165</td>\n",
       "    </tr>\n",
       "    <tr>\n",
       "      <th>4</th>\n",
       "      <td>-0.886021</td>\n",
       "      <td>-0.297135</td>\n",
       "      <td>0.653455</td>\n",
       "      <td>1.660203</td>\n",
       "    </tr>\n",
       "    <tr>\n",
       "      <th>5</th>\n",
       "      <td>-0.881876</td>\n",
       "      <td>-1.033066</td>\n",
       "      <td>-0.068636</td>\n",
       "      <td>0.555226</td>\n",
       "    </tr>\n",
       "    <tr>\n",
       "      <th>6</th>\n",
       "      <td>-1.179282</td>\n",
       "      <td>1.061468</td>\n",
       "      <td>0.812578</td>\n",
       "      <td>0.441990</td>\n",
       "    </tr>\n",
       "    <tr>\n",
       "      <th>7</th>\n",
       "      <td>0.618544</td>\n",
       "      <td>1.577519</td>\n",
       "      <td>0.242676</td>\n",
       "      <td>-0.308361</td>\n",
       "    </tr>\n",
       "  </tbody>\n",
       "</table>\n",
       "</div>"
      ]
     },
     "execution_count": 56,
     "metadata": {},
     "output_type": "execute_result"
    }
   ],
   "execution_count": 56
  },
  {
   "metadata": {
    "ExecuteTime": {
     "end_time": "2024-06-02T23:31:12.256976Z",
     "start_time": "2024-06-02T23:31:12.253843Z"
    }
   },
   "cell_type": "code",
   "source": [
    "# Select the fourth row\n",
    "s = df.iloc[3]\n",
    "s"
   ],
   "id": "27fadd45568bc5a4",
   "outputs": [
    {
     "data": {
      "text/plain": [
       "A   -2.311014\n",
       "B   -0.413355\n",
       "C    0.001047\n",
       "D    0.830165\n",
       "Name: 3, dtype: float64"
      ]
     },
     "execution_count": 57,
     "metadata": {},
     "output_type": "execute_result"
    }
   ],
   "execution_count": 57
  },
  {
   "metadata": {
    "ExecuteTime": {
     "end_time": "2024-06-02T23:31:12.463820Z",
     "start_time": "2024-06-02T23:31:12.456555Z"
    }
   },
   "cell_type": "code",
   "source": [
    "# Append the selected row to the DataFrame and ignore the index\n",
    "df.append(s, ignore_index=True)"
   ],
   "id": "350916fcd0c1ea40",
   "outputs": [
    {
     "ename": "AttributeError",
     "evalue": "'DataFrame' object has no attribute 'append'",
     "output_type": "error",
     "traceback": [
      "\u001B[0;31m---------------------------------------------------------------------------\u001B[0m",
      "\u001B[0;31mAttributeError\u001B[0m                            Traceback (most recent call last)",
      "\u001B[0;32m/tmp/ipykernel_7761/3718810762.py\u001B[0m in \u001B[0;36m?\u001B[0;34m()\u001B[0m\n\u001B[1;32m      1\u001B[0m \u001B[0;31m# Append the selected row to the DataFrame and ignore the index\u001B[0m\u001B[0;34m\u001B[0m\u001B[0;34m\u001B[0m\u001B[0m\n\u001B[0;32m----> 2\u001B[0;31m \u001B[0mdf\u001B[0m\u001B[0;34m.\u001B[0m\u001B[0mappend\u001B[0m\u001B[0;34m(\u001B[0m\u001B[0ms\u001B[0m\u001B[0;34m,\u001B[0m \u001B[0mignore_index\u001B[0m\u001B[0;34m=\u001B[0m\u001B[0;32mTrue\u001B[0m\u001B[0;34m)\u001B[0m\u001B[0;34m\u001B[0m\u001B[0;34m\u001B[0m\u001B[0m\n\u001B[0m",
      "\u001B[0;32m~/anaconda3/envs/d2l/lib/python3.11/site-packages/pandas/core/generic.py\u001B[0m in \u001B[0;36m?\u001B[0;34m(self, name)\u001B[0m\n\u001B[1;32m   5985\u001B[0m             \u001B[0;32mand\u001B[0m \u001B[0mname\u001B[0m \u001B[0;32mnot\u001B[0m \u001B[0;32min\u001B[0m \u001B[0mself\u001B[0m\u001B[0;34m.\u001B[0m\u001B[0m_accessors\u001B[0m\u001B[0;34m\u001B[0m\u001B[0;34m\u001B[0m\u001B[0m\n\u001B[1;32m   5986\u001B[0m             \u001B[0;32mand\u001B[0m \u001B[0mself\u001B[0m\u001B[0;34m.\u001B[0m\u001B[0m_info_axis\u001B[0m\u001B[0;34m.\u001B[0m\u001B[0m_can_hold_identifiers_and_holds_name\u001B[0m\u001B[0;34m(\u001B[0m\u001B[0mname\u001B[0m\u001B[0;34m)\u001B[0m\u001B[0;34m\u001B[0m\u001B[0;34m\u001B[0m\u001B[0m\n\u001B[1;32m   5987\u001B[0m         ):\n\u001B[1;32m   5988\u001B[0m             \u001B[0;32mreturn\u001B[0m \u001B[0mself\u001B[0m\u001B[0;34m[\u001B[0m\u001B[0mname\u001B[0m\u001B[0;34m]\u001B[0m\u001B[0;34m\u001B[0m\u001B[0;34m\u001B[0m\u001B[0m\n\u001B[0;32m-> 5989\u001B[0;31m         \u001B[0;32mreturn\u001B[0m \u001B[0mobject\u001B[0m\u001B[0;34m.\u001B[0m\u001B[0m__getattribute__\u001B[0m\u001B[0;34m(\u001B[0m\u001B[0mself\u001B[0m\u001B[0;34m,\u001B[0m \u001B[0mname\u001B[0m\u001B[0;34m)\u001B[0m\u001B[0;34m\u001B[0m\u001B[0;34m\u001B[0m\u001B[0m\n\u001B[0m",
      "\u001B[0;31mAttributeError\u001B[0m: 'DataFrame' object has no attribute 'append'"
     ]
    }
   ],
   "execution_count": 58
  },
  {
   "metadata": {},
   "cell_type": "markdown",
   "source": "The append method has been deprecated in recent versions of Pandas (as of version 2.0.0). ",
   "id": "61322356fde0eeb7"
  },
  {
   "metadata": {},
   "cell_type": "markdown",
   "source": "## 7.7 Group",
   "id": "74c99e096bb6553e"
  },
  {
   "metadata": {
    "ExecuteTime": {
     "end_time": "2024-06-02T23:31:13.501086Z",
     "start_time": "2024-06-02T23:31:13.494507Z"
    }
   },
   "cell_type": "code",
   "source": [
    "# Create a DataFrame with multiple columns\n",
    "df = pd.DataFrame({\n",
    "    'A': ['foo', 'bar', 'foo', 'bar', 'foo', 'bar', 'foo', 'foo'],\n",
    "    'B': ['one', 'one', 'two', 'three', 'two', 'two', 'one', 'three'],\n",
    "    'C': np.random.randn(8),\n",
    "    'D': np.random.randn(8)\n",
    "})\n",
    "df"
   ],
   "id": "c53828c0fb84d993",
   "outputs": [
    {
     "data": {
      "text/plain": [
       "     A      B         C         D\n",
       "0  foo    one  0.496765  0.552650\n",
       "1  bar    one -1.113567  0.014324\n",
       "2  foo    two  1.506582 -0.202874\n",
       "3  bar  three -2.055269  0.779609\n",
       "4  foo    two  0.685990  1.092171\n",
       "5  bar    two -0.068194 -0.943607\n",
       "6  foo    one  0.142110  1.659934\n",
       "7  foo  three -0.030076  0.047146"
      ],
      "text/html": [
       "<div>\n",
       "<style scoped>\n",
       "    .dataframe tbody tr th:only-of-type {\n",
       "        vertical-align: middle;\n",
       "    }\n",
       "\n",
       "    .dataframe tbody tr th {\n",
       "        vertical-align: top;\n",
       "    }\n",
       "\n",
       "    .dataframe thead th {\n",
       "        text-align: right;\n",
       "    }\n",
       "</style>\n",
       "<table border=\"1\" class=\"dataframe\">\n",
       "  <thead>\n",
       "    <tr style=\"text-align: right;\">\n",
       "      <th></th>\n",
       "      <th>A</th>\n",
       "      <th>B</th>\n",
       "      <th>C</th>\n",
       "      <th>D</th>\n",
       "    </tr>\n",
       "  </thead>\n",
       "  <tbody>\n",
       "    <tr>\n",
       "      <th>0</th>\n",
       "      <td>foo</td>\n",
       "      <td>one</td>\n",
       "      <td>0.496765</td>\n",
       "      <td>0.552650</td>\n",
       "    </tr>\n",
       "    <tr>\n",
       "      <th>1</th>\n",
       "      <td>bar</td>\n",
       "      <td>one</td>\n",
       "      <td>-1.113567</td>\n",
       "      <td>0.014324</td>\n",
       "    </tr>\n",
       "    <tr>\n",
       "      <th>2</th>\n",
       "      <td>foo</td>\n",
       "      <td>two</td>\n",
       "      <td>1.506582</td>\n",
       "      <td>-0.202874</td>\n",
       "    </tr>\n",
       "    <tr>\n",
       "      <th>3</th>\n",
       "      <td>bar</td>\n",
       "      <td>three</td>\n",
       "      <td>-2.055269</td>\n",
       "      <td>0.779609</td>\n",
       "    </tr>\n",
       "    <tr>\n",
       "      <th>4</th>\n",
       "      <td>foo</td>\n",
       "      <td>two</td>\n",
       "      <td>0.685990</td>\n",
       "      <td>1.092171</td>\n",
       "    </tr>\n",
       "    <tr>\n",
       "      <th>5</th>\n",
       "      <td>bar</td>\n",
       "      <td>two</td>\n",
       "      <td>-0.068194</td>\n",
       "      <td>-0.943607</td>\n",
       "    </tr>\n",
       "    <tr>\n",
       "      <th>6</th>\n",
       "      <td>foo</td>\n",
       "      <td>one</td>\n",
       "      <td>0.142110</td>\n",
       "      <td>1.659934</td>\n",
       "    </tr>\n",
       "    <tr>\n",
       "      <th>7</th>\n",
       "      <td>foo</td>\n",
       "      <td>three</td>\n",
       "      <td>-0.030076</td>\n",
       "      <td>0.047146</td>\n",
       "    </tr>\n",
       "  </tbody>\n",
       "</table>\n",
       "</div>"
      ]
     },
     "execution_count": 59,
     "metadata": {},
     "output_type": "execute_result"
    }
   ],
   "execution_count": 59
  },
  {
   "metadata": {
    "ExecuteTime": {
     "end_time": "2024-06-02T23:31:13.704208Z",
     "start_time": "2024-06-02T23:31:13.697553Z"
    }
   },
   "cell_type": "code",
   "source": [
    "# Group by column 'A' and sum the values\n",
    "df.groupby('A').sum()"
   ],
   "id": "2f1d392639bc7308",
   "outputs": [
    {
     "data": {
      "text/plain": [
       "                     B         C         D\n",
       "A                                         \n",
       "bar        onethreetwo -3.237030 -0.149674\n",
       "foo  onetwotwoonethree  2.801372  3.149027"
      ],
      "text/html": [
       "<div>\n",
       "<style scoped>\n",
       "    .dataframe tbody tr th:only-of-type {\n",
       "        vertical-align: middle;\n",
       "    }\n",
       "\n",
       "    .dataframe tbody tr th {\n",
       "        vertical-align: top;\n",
       "    }\n",
       "\n",
       "    .dataframe thead th {\n",
       "        text-align: right;\n",
       "    }\n",
       "</style>\n",
       "<table border=\"1\" class=\"dataframe\">\n",
       "  <thead>\n",
       "    <tr style=\"text-align: right;\">\n",
       "      <th></th>\n",
       "      <th>B</th>\n",
       "      <th>C</th>\n",
       "      <th>D</th>\n",
       "    </tr>\n",
       "    <tr>\n",
       "      <th>A</th>\n",
       "      <th></th>\n",
       "      <th></th>\n",
       "      <th></th>\n",
       "    </tr>\n",
       "  </thead>\n",
       "  <tbody>\n",
       "    <tr>\n",
       "      <th>bar</th>\n",
       "      <td>onethreetwo</td>\n",
       "      <td>-3.237030</td>\n",
       "      <td>-0.149674</td>\n",
       "    </tr>\n",
       "    <tr>\n",
       "      <th>foo</th>\n",
       "      <td>onetwotwoonethree</td>\n",
       "      <td>2.801372</td>\n",
       "      <td>3.149027</td>\n",
       "    </tr>\n",
       "  </tbody>\n",
       "</table>\n",
       "</div>"
      ]
     },
     "execution_count": 60,
     "metadata": {},
     "output_type": "execute_result"
    }
   ],
   "execution_count": 60
  },
  {
   "metadata": {
    "ExecuteTime": {
     "end_time": "2024-06-02T23:31:13.894012Z",
     "start_time": "2024-06-02T23:31:13.888757Z"
    }
   },
   "cell_type": "code",
   "source": [
    "# Group by columns 'A' and 'B' and sum the values\n",
    "df.groupby(['A', 'B']).sum()"
   ],
   "id": "18897fc979378e41",
   "outputs": [
    {
     "data": {
      "text/plain": [
       "                  C         D\n",
       "A   B                        \n",
       "bar one   -1.113567  0.014324\n",
       "    three -2.055269  0.779609\n",
       "    two   -0.068194 -0.943607\n",
       "foo one    0.638875  2.212584\n",
       "    three -0.030076  0.047146\n",
       "    two    2.192572  0.889297"
      ],
      "text/html": [
       "<div>\n",
       "<style scoped>\n",
       "    .dataframe tbody tr th:only-of-type {\n",
       "        vertical-align: middle;\n",
       "    }\n",
       "\n",
       "    .dataframe tbody tr th {\n",
       "        vertical-align: top;\n",
       "    }\n",
       "\n",
       "    .dataframe thead th {\n",
       "        text-align: right;\n",
       "    }\n",
       "</style>\n",
       "<table border=\"1\" class=\"dataframe\">\n",
       "  <thead>\n",
       "    <tr style=\"text-align: right;\">\n",
       "      <th></th>\n",
       "      <th></th>\n",
       "      <th>C</th>\n",
       "      <th>D</th>\n",
       "    </tr>\n",
       "    <tr>\n",
       "      <th>A</th>\n",
       "      <th>B</th>\n",
       "      <th></th>\n",
       "      <th></th>\n",
       "    </tr>\n",
       "  </thead>\n",
       "  <tbody>\n",
       "    <tr>\n",
       "      <th rowspan=\"3\" valign=\"top\">bar</th>\n",
       "      <th>one</th>\n",
       "      <td>-1.113567</td>\n",
       "      <td>0.014324</td>\n",
       "    </tr>\n",
       "    <tr>\n",
       "      <th>three</th>\n",
       "      <td>-2.055269</td>\n",
       "      <td>0.779609</td>\n",
       "    </tr>\n",
       "    <tr>\n",
       "      <th>two</th>\n",
       "      <td>-0.068194</td>\n",
       "      <td>-0.943607</td>\n",
       "    </tr>\n",
       "    <tr>\n",
       "      <th rowspan=\"3\" valign=\"top\">foo</th>\n",
       "      <th>one</th>\n",
       "      <td>0.638875</td>\n",
       "      <td>2.212584</td>\n",
       "    </tr>\n",
       "    <tr>\n",
       "      <th>three</th>\n",
       "      <td>-0.030076</td>\n",
       "      <td>0.047146</td>\n",
       "    </tr>\n",
       "    <tr>\n",
       "      <th>two</th>\n",
       "      <td>2.192572</td>\n",
       "      <td>0.889297</td>\n",
       "    </tr>\n",
       "  </tbody>\n",
       "</table>\n",
       "</div>"
      ]
     },
     "execution_count": 61,
     "metadata": {},
     "output_type": "execute_result"
    }
   ],
   "execution_count": 61
  },
  {
   "metadata": {},
   "cell_type": "markdown",
   "source": "# 8 Pivot Table",
   "id": "b960b4b7796c81fa"
  },
  {
   "metadata": {
    "ExecuteTime": {
     "end_time": "2024-06-02T23:31:14.279333Z",
     "start_time": "2024-06-02T23:31:14.272982Z"
    }
   },
   "cell_type": "code",
   "source": [
    "# Create a DataFrame for the pivot table\n",
    "df = pd.DataFrame({\n",
    "    'A': ['one', 'one', 'two', 'three', 'two', 'one', 'three', 'two'],\n",
    "    'B': ['foo', 'bar', 'foo', 'bar', 'foo', 'bar', 'foo', 'bar'],\n",
    "    'C': np.random.randn(8),\n",
    "    'D': np.random.randn(8)\n",
    "})\n",
    "df"
   ],
   "id": "1044eea86cc1fa38",
   "outputs": [
    {
     "data": {
      "text/plain": [
       "       A    B         C         D\n",
       "0    one  foo -0.865904  0.350241\n",
       "1    one  bar -0.142271 -0.267647\n",
       "2    two  foo  0.400828  0.567086\n",
       "3  three  bar  0.662383 -0.265683\n",
       "4    two  foo  1.999568  0.664315\n",
       "5    one  bar -1.946259 -0.797279\n",
       "6  three  foo -0.506522 -0.528585\n",
       "7    two  bar  0.522638  1.152273"
      ],
      "text/html": [
       "<div>\n",
       "<style scoped>\n",
       "    .dataframe tbody tr th:only-of-type {\n",
       "        vertical-align: middle;\n",
       "    }\n",
       "\n",
       "    .dataframe tbody tr th {\n",
       "        vertical-align: top;\n",
       "    }\n",
       "\n",
       "    .dataframe thead th {\n",
       "        text-align: right;\n",
       "    }\n",
       "</style>\n",
       "<table border=\"1\" class=\"dataframe\">\n",
       "  <thead>\n",
       "    <tr style=\"text-align: right;\">\n",
       "      <th></th>\n",
       "      <th>A</th>\n",
       "      <th>B</th>\n",
       "      <th>C</th>\n",
       "      <th>D</th>\n",
       "    </tr>\n",
       "  </thead>\n",
       "  <tbody>\n",
       "    <tr>\n",
       "      <th>0</th>\n",
       "      <td>one</td>\n",
       "      <td>foo</td>\n",
       "      <td>-0.865904</td>\n",
       "      <td>0.350241</td>\n",
       "    </tr>\n",
       "    <tr>\n",
       "      <th>1</th>\n",
       "      <td>one</td>\n",
       "      <td>bar</td>\n",
       "      <td>-0.142271</td>\n",
       "      <td>-0.267647</td>\n",
       "    </tr>\n",
       "    <tr>\n",
       "      <th>2</th>\n",
       "      <td>two</td>\n",
       "      <td>foo</td>\n",
       "      <td>0.400828</td>\n",
       "      <td>0.567086</td>\n",
       "    </tr>\n",
       "    <tr>\n",
       "      <th>3</th>\n",
       "      <td>three</td>\n",
       "      <td>bar</td>\n",
       "      <td>0.662383</td>\n",
       "      <td>-0.265683</td>\n",
       "    </tr>\n",
       "    <tr>\n",
       "      <th>4</th>\n",
       "      <td>two</td>\n",
       "      <td>foo</td>\n",
       "      <td>1.999568</td>\n",
       "      <td>0.664315</td>\n",
       "    </tr>\n",
       "    <tr>\n",
       "      <th>5</th>\n",
       "      <td>one</td>\n",
       "      <td>bar</td>\n",
       "      <td>-1.946259</td>\n",
       "      <td>-0.797279</td>\n",
       "    </tr>\n",
       "    <tr>\n",
       "      <th>6</th>\n",
       "      <td>three</td>\n",
       "      <td>foo</td>\n",
       "      <td>-0.506522</td>\n",
       "      <td>-0.528585</td>\n",
       "    </tr>\n",
       "    <tr>\n",
       "      <th>7</th>\n",
       "      <td>two</td>\n",
       "      <td>bar</td>\n",
       "      <td>0.522638</td>\n",
       "      <td>1.152273</td>\n",
       "    </tr>\n",
       "  </tbody>\n",
       "</table>\n",
       "</div>"
      ]
     },
     "execution_count": 62,
     "metadata": {},
     "output_type": "execute_result"
    }
   ],
   "execution_count": 62
  },
  {
   "metadata": {
    "ExecuteTime": {
     "end_time": "2024-06-02T23:31:14.519544Z",
     "start_time": "2024-06-02T23:31:14.511491Z"
    }
   },
   "cell_type": "code",
   "source": [
    "# Create a pivot table\n",
    "pd.pivot_table(df, values='D', index=['A', 'B'], columns=['C'])"
   ],
   "id": "3bb554b79c3063cf",
   "outputs": [
    {
     "data": {
      "text/plain": [
       "C          -1.946259  -0.865904  -0.506522  -0.142271   0.400828   0.522638  \\\n",
       "A     B                                                                       \n",
       "one   bar  -0.797279        NaN        NaN  -0.267647        NaN        NaN   \n",
       "      foo        NaN   0.350241        NaN        NaN        NaN        NaN   \n",
       "three bar        NaN        NaN        NaN        NaN        NaN        NaN   \n",
       "      foo        NaN        NaN  -0.528585        NaN        NaN        NaN   \n",
       "two   bar        NaN        NaN        NaN        NaN        NaN   1.152273   \n",
       "      foo        NaN        NaN        NaN        NaN   0.567086        NaN   \n",
       "\n",
       "C           0.662383   1.999568  \n",
       "A     B                          \n",
       "one   bar        NaN        NaN  \n",
       "      foo        NaN        NaN  \n",
       "three bar  -0.265683        NaN  \n",
       "      foo        NaN        NaN  \n",
       "two   bar        NaN        NaN  \n",
       "      foo        NaN   0.664315  "
      ],
      "text/html": [
       "<div>\n",
       "<style scoped>\n",
       "    .dataframe tbody tr th:only-of-type {\n",
       "        vertical-align: middle;\n",
       "    }\n",
       "\n",
       "    .dataframe tbody tr th {\n",
       "        vertical-align: top;\n",
       "    }\n",
       "\n",
       "    .dataframe thead th {\n",
       "        text-align: right;\n",
       "    }\n",
       "</style>\n",
       "<table border=\"1\" class=\"dataframe\">\n",
       "  <thead>\n",
       "    <tr style=\"text-align: right;\">\n",
       "      <th></th>\n",
       "      <th>C</th>\n",
       "      <th>-1.946259</th>\n",
       "      <th>-0.865904</th>\n",
       "      <th>-0.506522</th>\n",
       "      <th>-0.142271</th>\n",
       "      <th>0.400828</th>\n",
       "      <th>0.522638</th>\n",
       "      <th>0.662383</th>\n",
       "      <th>1.999568</th>\n",
       "    </tr>\n",
       "    <tr>\n",
       "      <th>A</th>\n",
       "      <th>B</th>\n",
       "      <th></th>\n",
       "      <th></th>\n",
       "      <th></th>\n",
       "      <th></th>\n",
       "      <th></th>\n",
       "      <th></th>\n",
       "      <th></th>\n",
       "      <th></th>\n",
       "    </tr>\n",
       "  </thead>\n",
       "  <tbody>\n",
       "    <tr>\n",
       "      <th rowspan=\"2\" valign=\"top\">one</th>\n",
       "      <th>bar</th>\n",
       "      <td>-0.797279</td>\n",
       "      <td>NaN</td>\n",
       "      <td>NaN</td>\n",
       "      <td>-0.267647</td>\n",
       "      <td>NaN</td>\n",
       "      <td>NaN</td>\n",
       "      <td>NaN</td>\n",
       "      <td>NaN</td>\n",
       "    </tr>\n",
       "    <tr>\n",
       "      <th>foo</th>\n",
       "      <td>NaN</td>\n",
       "      <td>0.350241</td>\n",
       "      <td>NaN</td>\n",
       "      <td>NaN</td>\n",
       "      <td>NaN</td>\n",
       "      <td>NaN</td>\n",
       "      <td>NaN</td>\n",
       "      <td>NaN</td>\n",
       "    </tr>\n",
       "    <tr>\n",
       "      <th rowspan=\"2\" valign=\"top\">three</th>\n",
       "      <th>bar</th>\n",
       "      <td>NaN</td>\n",
       "      <td>NaN</td>\n",
       "      <td>NaN</td>\n",
       "      <td>NaN</td>\n",
       "      <td>NaN</td>\n",
       "      <td>NaN</td>\n",
       "      <td>-0.265683</td>\n",
       "      <td>NaN</td>\n",
       "    </tr>\n",
       "    <tr>\n",
       "      <th>foo</th>\n",
       "      <td>NaN</td>\n",
       "      <td>NaN</td>\n",
       "      <td>-0.528585</td>\n",
       "      <td>NaN</td>\n",
       "      <td>NaN</td>\n",
       "      <td>NaN</td>\n",
       "      <td>NaN</td>\n",
       "      <td>NaN</td>\n",
       "    </tr>\n",
       "    <tr>\n",
       "      <th rowspan=\"2\" valign=\"top\">two</th>\n",
       "      <th>bar</th>\n",
       "      <td>NaN</td>\n",
       "      <td>NaN</td>\n",
       "      <td>NaN</td>\n",
       "      <td>NaN</td>\n",
       "      <td>NaN</td>\n",
       "      <td>1.152273</td>\n",
       "      <td>NaN</td>\n",
       "      <td>NaN</td>\n",
       "    </tr>\n",
       "    <tr>\n",
       "      <th>foo</th>\n",
       "      <td>NaN</td>\n",
       "      <td>NaN</td>\n",
       "      <td>NaN</td>\n",
       "      <td>NaN</td>\n",
       "      <td>0.567086</td>\n",
       "      <td>NaN</td>\n",
       "      <td>NaN</td>\n",
       "      <td>0.664315</td>\n",
       "    </tr>\n",
       "  </tbody>\n",
       "</table>\n",
       "</div>"
      ]
     },
     "execution_count": 63,
     "metadata": {},
     "output_type": "execute_result"
    }
   ],
   "execution_count": 63
  },
  {
   "metadata": {},
   "cell_type": "markdown",
   "source": "# 9 Time Series",
   "id": "5bab328b9b6b6aea"
  },
  {
   "metadata": {
    "ExecuteTime": {
     "end_time": "2024-06-02T23:35:31.888692Z",
     "start_time": "2024-06-02T23:35:31.884265Z"
    }
   },
   "cell_type": "code",
   "source": [
    "# Create a time series with a 5-minute frequency\n",
    "rng = pd.date_range('1/1/2012', periods=100, freq='S')\n",
    "ts = pd.Series(np.random.randint(0, 500, len(rng)), index=rng)\n",
    "ts"
   ],
   "id": "da921b4a6914f2bb",
   "outputs": [
    {
     "data": {
      "text/plain": [
       "2012-01-01 00:00:00    235\n",
       "2012-01-01 00:00:01    218\n",
       "2012-01-01 00:00:02    102\n",
       "2012-01-01 00:00:03    373\n",
       "2012-01-01 00:00:04    302\n",
       "                      ... \n",
       "2012-01-01 00:01:35    375\n",
       "2012-01-01 00:01:36    360\n",
       "2012-01-01 00:01:37    162\n",
       "2012-01-01 00:01:38    193\n",
       "2012-01-01 00:01:39     32\n",
       "Freq: S, Length: 100, dtype: int64"
      ]
     },
     "execution_count": 64,
     "metadata": {},
     "output_type": "execute_result"
    }
   ],
   "execution_count": 64
  },
  {
   "metadata": {
    "ExecuteTime": {
     "end_time": "2024-06-02T23:37:28.498793Z",
     "start_time": "2024-06-02T23:37:28.488636Z"
    }
   },
   "cell_type": "code",
   "source": [
    "# Resample the time series to 5-minute intervals and sum the values\n",
    "ts.resample('5Min').sum()"
   ],
   "id": "6d074676f9cdaf5c",
   "outputs": [
    {
     "data": {
      "text/plain": [
       "2012-01-01    25469\n",
       "Freq: 5T, dtype: int64"
      ]
     },
     "execution_count": 65,
     "metadata": {},
     "output_type": "execute_result"
    }
   ],
   "execution_count": 65
  },
  {
   "metadata": {
    "ExecuteTime": {
     "end_time": "2024-06-02T23:37:29.478398Z",
     "start_time": "2024-06-02T23:37:29.473071Z"
    }
   },
   "cell_type": "code",
   "source": [
    "# Create a time series with daily frequency\n",
    "rng = pd.date_range('3/6/2012 00:00', periods=5, freq='D')\n",
    "ts = pd.Series(np.random.randn(len(rng)), rng)\n",
    "ts"
   ],
   "id": "b418bf328da5b97d",
   "outputs": [
    {
     "data": {
      "text/plain": [
       "2012-03-06    0.819719\n",
       "2012-03-07    1.362383\n",
       "2012-03-08   -0.493597\n",
       "2012-03-09   -0.052242\n",
       "2012-03-10   -2.480853\n",
       "Freq: D, dtype: float64"
      ]
     },
     "execution_count": 66,
     "metadata": {},
     "output_type": "execute_result"
    }
   ],
   "execution_count": 66
  },
  {
   "metadata": {
    "ExecuteTime": {
     "end_time": "2024-06-02T23:37:30.694339Z",
     "start_time": "2024-06-02T23:37:30.687666Z"
    }
   },
   "cell_type": "code",
   "source": [
    "# Localize to UTC and convert to US/Eastern time\n",
    "ts_utc = ts.tz_localize('UTC')\n",
    "ts_utc"
   ],
   "id": "d9b02780b554c846",
   "outputs": [
    {
     "data": {
      "text/plain": [
       "2012-03-06 00:00:00+00:00    0.819719\n",
       "2012-03-07 00:00:00+00:00    1.362383\n",
       "2012-03-08 00:00:00+00:00   -0.493597\n",
       "2012-03-09 00:00:00+00:00   -0.052242\n",
       "2012-03-10 00:00:00+00:00   -2.480853\n",
       "Freq: D, dtype: float64"
      ]
     },
     "execution_count": 67,
     "metadata": {},
     "output_type": "execute_result"
    }
   ],
   "execution_count": 67
  },
  {
   "metadata": {
    "ExecuteTime": {
     "end_time": "2024-06-02T23:37:32.993480Z",
     "start_time": "2024-06-02T23:37:32.976181Z"
    }
   },
   "cell_type": "code",
   "source": "ts_utc.tz_convert('US/Eastern')",
   "id": "39b429de7c57d5b6",
   "outputs": [
    {
     "data": {
      "text/plain": [
       "2012-03-05 19:00:00-05:00    0.819719\n",
       "2012-03-06 19:00:00-05:00    1.362383\n",
       "2012-03-07 19:00:00-05:00   -0.493597\n",
       "2012-03-08 19:00:00-05:00   -0.052242\n",
       "2012-03-09 19:00:00-05:00   -2.480853\n",
       "Freq: D, dtype: float64"
      ]
     },
     "execution_count": 68,
     "metadata": {},
     "output_type": "execute_result"
    }
   ],
   "execution_count": 68
  },
  {
   "metadata": {
    "ExecuteTime": {
     "end_time": "2024-06-02T23:39:15.612807Z",
     "start_time": "2024-06-02T23:39:15.609222Z"
    }
   },
   "cell_type": "code",
   "source": [
    "# convert time period\n",
    "rng = pd.date_range('1/1/2012', periods=5, freq='M')\n",
    "ts = pd.Series(np.random.randn(len(rng)), index=rng)\n",
    "ts"
   ],
   "id": "6a00cb1edf7c4c1f",
   "outputs": [
    {
     "data": {
      "text/plain": [
       "2012-01-31    1.070123\n",
       "2012-02-29   -0.186636\n",
       "2012-03-31   -0.739845\n",
       "2012-04-30    0.224243\n",
       "2012-05-31    0.695689\n",
       "Freq: M, dtype: float64"
      ]
     },
     "execution_count": 69,
     "metadata": {},
     "output_type": "execute_result"
    }
   ],
   "execution_count": 69
  },
  {
   "metadata": {
    "ExecuteTime": {
     "end_time": "2024-06-02T23:39:57.971899Z",
     "start_time": "2024-06-02T23:39:57.968871Z"
    }
   },
   "cell_type": "code",
   "source": [
    "ps = ts.to_period()\n",
    "ps"
   ],
   "id": "9b46660bbf4fbdd3",
   "outputs": [
    {
     "data": {
      "text/plain": [
       "2012-01    1.070123\n",
       "2012-02   -0.186636\n",
       "2012-03   -0.739845\n",
       "2012-04    0.224243\n",
       "2012-05    0.695689\n",
       "Freq: M, dtype: float64"
      ]
     },
     "execution_count": 70,
     "metadata": {},
     "output_type": "execute_result"
    }
   ],
   "execution_count": 70
  },
  {
   "metadata": {
    "ExecuteTime": {
     "end_time": "2024-06-02T23:40:18.527074Z",
     "start_time": "2024-06-02T23:40:18.521782Z"
    }
   },
   "cell_type": "code",
   "source": "ps.to_timestamp()",
   "id": "322dcfd005ef1659",
   "outputs": [
    {
     "data": {
      "text/plain": [
       "2012-01-01    1.070123\n",
       "2012-02-01   -0.186636\n",
       "2012-03-01   -0.739845\n",
       "2012-04-01    0.224243\n",
       "2012-05-01    0.695689\n",
       "Freq: MS, dtype: float64"
      ]
     },
     "execution_count": 71,
     "metadata": {},
     "output_type": "execute_result"
    }
   ],
   "execution_count": 71
  },
  {
   "metadata": {},
   "cell_type": "markdown",
   "source": "# 10 Visualization",
   "id": "4a9e23369d2209f"
  },
  {
   "metadata": {
    "ExecuteTime": {
     "end_time": "2024-06-02T23:40:39.768896Z",
     "start_time": "2024-06-02T23:40:39.517160Z"
    }
   },
   "cell_type": "code",
   "source": [
    "# Create a time series and plot it\n",
    "ts = pd.Series(np.random.randn(1000), index=pd.date_range('1/1/2000', periods=1000))\n",
    "ts = ts.cumsum()\n",
    "ts.plot()"
   ],
   "id": "a91ed1ac1a873393",
   "outputs": [
    {
     "data": {
      "text/plain": [
       "<Axes: >"
      ]
     },
     "execution_count": 72,
     "metadata": {},
     "output_type": "execute_result"
    },
    {
     "data": {
      "text/plain": [
       "<Figure size 640x480 with 1 Axes>"
      ],
      "image/png": "[encoded data removed]"
     },
     "metadata": {},
     "output_type": "display_data"
    }
   ],
   "execution_count": 72
  },
  {
   "metadata": {
    "ExecuteTime": {
     "end_time": "2024-06-02T23:41:22.632383Z",
     "start_time": "2024-06-02T23:41:22.519655Z"
    }
   },
   "cell_type": "code",
   "source": [
    "import matplotlib.pyplot as plt\n",
    "\n",
    "# Create a DataFrame and plot it\n",
    "df = pd.DataFrame(np.random.randn(1000, 4), index=ts.index, columns=['A', 'B', 'C', 'D'])\n",
    "df = df.cumsum()\n",
    "plt.figure()\n",
    "df.plot()\n",
    "plt.legend(loc='best')"
   ],
   "id": "e60984a289211089",
   "outputs": [
    {
     "data": {
      "text/plain": [
       "<matplotlib.legend.Legend at 0x7f5316c36690>"
      ]
     },
     "execution_count": 73,
     "metadata": {},
     "output_type": "execute_result"
    },
    {
     "data": {
      "text/plain": [
       "<Figure size 640x480 with 0 Axes>"
      ]
     },
     "metadata": {},
     "output_type": "display_data"
    },
    {
     "data": {
      "text/plain": [
       "<Figure size 640x480 with 1 Axes>"
      ],
      "image/png": "[encoded data removed]"
     },
     "metadata": {},
     "output_type": "display_data"
    }
   ],
   "execution_count": 73
  },
  {
   "metadata": {},
   "cell_type": "markdown",
   "source": "# 11 Data Input/Output",
   "id": "d430a64cdfe1762"
  },
  {
   "metadata": {},
   "cell_type": "markdown",
   "source": "## 11.1 CSV",
   "id": "5c3e9dc6e52ee0"
  },
  {
   "metadata": {
    "ExecuteTime": {
     "end_time": "2024-06-02T23:41:34.773325Z",
     "start_time": "2024-06-02T23:41:34.732322Z"
    }
   },
   "cell_type": "code",
   "source": [
    "# Write DataFrame to a CSV file\n",
    "df.to_csv('foo.csv')"
   ],
   "id": "b8a0e1afbad86a36",
   "outputs": [],
   "execution_count": 74
  },
  {
   "metadata": {
    "ExecuteTime": {
     "end_time": "2024-06-02T23:41:35.366234Z",
     "start_time": "2024-06-02T23:41:35.359107Z"
    }
   },
   "cell_type": "code",
   "source": [
    "# Read a CSV file into a DataFrame\n",
    "pd.read_csv('foo.csv')"
   ],
   "id": "24c67349ebed7844",
   "outputs": [
    {
     "data": {
      "text/plain": [
       "     Unnamed: 0          A          B          C          D\n",
       "0    2000-01-01  -0.784156   0.537123  -0.604085  -0.033274\n",
       "1    2000-01-02  -0.897775  -1.134481   1.258787   0.238641\n",
       "2    2000-01-03  -1.205006  -0.333840   0.168962   1.718980\n",
       "3    2000-01-04  -2.119987  -1.934412   1.600047   1.009564\n",
       "4    2000-01-05  -2.236933  -2.605678   1.460622   1.262300\n",
       "..          ...        ...        ...        ...        ...\n",
       "995  2002-09-22  -9.059794  24.420142 -16.919663  65.677838\n",
       "996  2002-09-23  -9.963972  25.247821 -18.730705  64.965042\n",
       "997  2002-09-24  -9.810630  26.421601 -20.489698  66.025084\n",
       "998  2002-09-25 -10.027050  26.135364 -19.496584  65.488676\n",
       "999  2002-09-26  -9.810487  26.783689 -20.244260  66.121344\n",
       "\n",
       "[1000 rows x 5 columns]"
      ],
      "text/html": [
       "<div>\n",
       "<style scoped>\n",
       "    .dataframe tbody tr th:only-of-type {\n",
       "        vertical-align: middle;\n",
       "    }\n",
       "\n",
       "    .dataframe tbody tr th {\n",
       "        vertical-align: top;\n",
       "    }\n",
       "\n",
       "    .dataframe thead th {\n",
       "        text-align: right;\n",
       "    }\n",
       "</style>\n",
       "<table border=\"1\" class=\"dataframe\">\n",
       "  <thead>\n",
       "    <tr style=\"text-align: right;\">\n",
       "      <th></th>\n",
       "      <th>Unnamed: 0</th>\n",
       "      <th>A</th>\n",
       "      <th>B</th>\n",
       "      <th>C</th>\n",
       "      <th>D</th>\n",
       "    </tr>\n",
       "  </thead>\n",
       "  <tbody>\n",
       "    <tr>\n",
       "      <th>0</th>\n",
       "      <td>2000-01-01</td>\n",
       "      <td>-0.784156</td>\n",
       "      <td>0.537123</td>\n",
       "      <td>-0.604085</td>\n",
       "      <td>-0.033274</td>\n",
       "    </tr>\n",
       "    <tr>\n",
       "      <th>1</th>\n",
       "      <td>2000-01-02</td>\n",
       "      <td>-0.897775</td>\n",
       "      <td>-1.134481</td>\n",
       "      <td>1.258787</td>\n",
       "      <td>0.238641</td>\n",
       "    </tr>\n",
       "    <tr>\n",
       "      <th>2</th>\n",
       "      <td>2000-01-03</td>\n",
       "      <td>-1.205006</td>\n",
       "      <td>-0.333840</td>\n",
       "      <td>0.168962</td>\n",
       "      <td>1.718980</td>\n",
       "    </tr>\n",
       "    <tr>\n",
       "      <th>3</th>\n",
       "      <td>2000-01-04</td>\n",
       "      <td>-2.119987</td>\n",
       "      <td>-1.934412</td>\n",
       "      <td>1.600047</td>\n",
       "      <td>1.009564</td>\n",
       "    </tr>\n",
       "    <tr>\n",
       "      <th>4</th>\n",
       "      <td>2000-01-05</td>\n",
       "      <td>-2.236933</td>\n",
       "      <td>-2.605678</td>\n",
       "      <td>1.460622</td>\n",
       "      <td>1.262300</td>\n",
       "    </tr>\n",
       "    <tr>\n",
       "      <th>...</th>\n",
       "      <td>...</td>\n",
       "      <td>...</td>\n",
       "      <td>...</td>\n",
       "      <td>...</td>\n",
       "      <td>...</td>\n",
       "    </tr>\n",
       "    <tr>\n",
       "      <th>995</th>\n",
       "      <td>2002-09-22</td>\n",
       "      <td>-9.059794</td>\n",
       "      <td>24.420142</td>\n",
       "      <td>-16.919663</td>\n",
       "      <td>65.677838</td>\n",
       "    </tr>\n",
       "    <tr>\n",
       "      <th>996</th>\n",
       "      <td>2002-09-23</td>\n",
       "      <td>-9.963972</td>\n",
       "      <td>25.247821</td>\n",
       "      <td>-18.730705</td>\n",
       "      <td>64.965042</td>\n",
       "    </tr>\n",
       "    <tr>\n",
       "      <th>997</th>\n",
       "      <td>2002-09-24</td>\n",
       "      <td>-9.810630</td>\n",
       "      <td>26.421601</td>\n",
       "      <td>-20.489698</td>\n",
       "      <td>66.025084</td>\n",
       "    </tr>\n",
       "    <tr>\n",
       "      <th>998</th>\n",
       "      <td>2002-09-25</td>\n",
       "      <td>-10.027050</td>\n",
       "      <td>26.135364</td>\n",
       "      <td>-19.496584</td>\n",
       "      <td>65.488676</td>\n",
       "    </tr>\n",
       "    <tr>\n",
       "      <th>999</th>\n",
       "      <td>2002-09-26</td>\n",
       "      <td>-9.810487</td>\n",
       "      <td>26.783689</td>\n",
       "      <td>-20.244260</td>\n",
       "      <td>66.121344</td>\n",
       "    </tr>\n",
       "  </tbody>\n",
       "</table>\n",
       "<p>1000 rows × 5 columns</p>\n",
       "</div>"
      ]
     },
     "execution_count": 75,
     "metadata": {},
     "output_type": "execute_result"
    }
   ],
   "execution_count": 75
  },
  {
   "metadata": {},
   "cell_type": "markdown",
   "source": "## 11.2 HDFS",
   "id": "e85b1164608f6232"
  },
  {
   "metadata": {
    "ExecuteTime": {
     "end_time": "2024-06-02T23:41:39.163430Z",
     "start_time": "2024-06-02T23:41:38.400123Z"
    }
   },
   "cell_type": "code",
   "source": [
    "# Install PyTables\n",
    "!pip install tables"
   ],
   "id": "a4f1d864532fe4dd",
   "outputs": [
    {
     "name": "stdout",
     "output_type": "stream",
     "text": [
      "Requirement already satisfied: tables in /home/gst/anaconda3/envs/d2l/lib/python3.11/site-packages (3.9.2)\r\n",
      "Requirement already satisfied: numpy>=1.19.0 in /home/gst/anaconda3/envs/d2l/lib/python3.11/site-packages (from tables) (1.23.5)\r\n",
      "Requirement already satisfied: numexpr>=2.6.2 in /home/gst/anaconda3/envs/d2l/lib/python3.11/site-packages (from tables) (2.10.0)\r\n",
      "Requirement already satisfied: packaging in /home/gst/anaconda3/envs/d2l/lib/python3.11/site-packages (from tables) (24.0)\r\n",
      "Requirement already satisfied: py-cpuinfo in /home/gst/anaconda3/envs/d2l/lib/python3.11/site-packages (from tables) (9.0.0)\r\n",
      "Requirement already satisfied: blosc2>=2.3.0 in /home/gst/anaconda3/envs/d2l/lib/python3.11/site-packages (from tables) (2.6.2)\r\n",
      "Requirement already satisfied: ndindex>=1.4 in /home/gst/anaconda3/envs/d2l/lib/python3.11/site-packages (from blosc2>=2.3.0->tables) (1.8)\r\n",
      "Requirement already satisfied: msgpack in /home/gst/anaconda3/envs/d2l/lib/python3.11/site-packages (from blosc2>=2.3.0->tables) (1.0.8)\r\n"
     ]
    }
   ],
   "execution_count": 76
  },
  {
   "metadata": {
    "ExecuteTime": {
     "end_time": "2024-06-02T23:41:41.165726Z",
     "start_time": "2024-06-02T23:41:40.032416Z"
    }
   },
   "cell_type": "code",
   "source": [
    "# Write DataFrame to an HDF5 file\n",
    "df.to_hdf('foo.h5', 'df')"
   ],
   "id": "18ce84b1c8b510b6",
   "outputs": [],
   "execution_count": 77
  },
  {
   "metadata": {
    "ExecuteTime": {
     "end_time": "2024-06-02T23:41:43.884523Z",
     "start_time": "2024-06-02T23:41:43.875552Z"
    }
   },
   "cell_type": "code",
   "source": [
    "# Read an HDF5 file into a DataFrame\n",
    "pd.read_hdf('foo.h5', 'df')"
   ],
   "id": "5925274110c12d9",
   "outputs": [
    {
     "data": {
      "text/plain": [
       "                    A          B          C          D\n",
       "2000-01-01  -0.784156   0.537123  -0.604085  -0.033274\n",
       "2000-01-02  -0.897775  -1.134481   1.258787   0.238641\n",
       "2000-01-03  -1.205006  -0.333840   0.168962   1.718980\n",
       "2000-01-04  -2.119987  -1.934412   1.600047   1.009564\n",
       "2000-01-05  -2.236933  -2.605678   1.460622   1.262300\n",
       "...               ...        ...        ...        ...\n",
       "2002-09-22  -9.059794  24.420142 -16.919663  65.677838\n",
       "2002-09-23  -9.963972  25.247821 -18.730705  64.965042\n",
       "2002-09-24  -9.810630  26.421601 -20.489698  66.025084\n",
       "2002-09-25 -10.027050  26.135364 -19.496584  65.488676\n",
       "2002-09-26  -9.810487  26.783689 -20.244260  66.121344\n",
       "\n",
       "[1000 rows x 4 columns]"
      ],
      "text/html": [
       "<div>\n",
       "<style scoped>\n",
       "    .dataframe tbody tr th:only-of-type {\n",
       "        vertical-align: middle;\n",
       "    }\n",
       "\n",
       "    .dataframe tbody tr th {\n",
       "        vertical-align: top;\n",
       "    }\n",
       "\n",
       "    .dataframe thead th {\n",
       "        text-align: right;\n",
       "    }\n",
       "</style>\n",
       "<table border=\"1\" class=\"dataframe\">\n",
       "  <thead>\n",
       "    <tr style=\"text-align: right;\">\n",
       "      <th></th>\n",
       "      <th>A</th>\n",
       "      <th>B</th>\n",
       "      <th>C</th>\n",
       "      <th>D</th>\n",
       "    </tr>\n",
       "  </thead>\n",
       "  <tbody>\n",
       "    <tr>\n",
       "      <th>2000-01-01</th>\n",
       "      <td>-0.784156</td>\n",
       "      <td>0.537123</td>\n",
       "      <td>-0.604085</td>\n",
       "      <td>-0.033274</td>\n",
       "    </tr>\n",
       "    <tr>\n",
       "      <th>2000-01-02</th>\n",
       "      <td>-0.897775</td>\n",
       "      <td>-1.134481</td>\n",
       "      <td>1.258787</td>\n",
       "      <td>0.238641</td>\n",
       "    </tr>\n",
       "    <tr>\n",
       "      <th>2000-01-03</th>\n",
       "      <td>-1.205006</td>\n",
       "      <td>-0.333840</td>\n",
       "      <td>0.168962</td>\n",
       "      <td>1.718980</td>\n",
       "    </tr>\n",
       "    <tr>\n",
       "      <th>2000-01-04</th>\n",
       "      <td>-2.119987</td>\n",
       "      <td>-1.934412</td>\n",
       "      <td>1.600047</td>\n",
       "      <td>1.009564</td>\n",
       "    </tr>\n",
       "    <tr>\n",
       "      <th>2000-01-05</th>\n",
       "      <td>-2.236933</td>\n",
       "      <td>-2.605678</td>\n",
       "      <td>1.460622</td>\n",
       "      <td>1.262300</td>\n",
       "    </tr>\n",
       "    <tr>\n",
       "      <th>...</th>\n",
       "      <td>...</td>\n",
       "      <td>...</td>\n",
       "      <td>...</td>\n",
       "      <td>...</td>\n",
       "    </tr>\n",
       "    <tr>\n",
       "      <th>2002-09-22</th>\n",
       "      <td>-9.059794</td>\n",
       "      <td>24.420142</td>\n",
       "      <td>-16.919663</td>\n",
       "      <td>65.677838</td>\n",
       "    </tr>\n",
       "    <tr>\n",
       "      <th>2002-09-23</th>\n",
       "      <td>-9.963972</td>\n",
       "      <td>25.247821</td>\n",
       "      <td>-18.730705</td>\n",
       "      <td>64.965042</td>\n",
       "    </tr>\n",
       "    <tr>\n",
       "      <th>2002-09-24</th>\n",
       "      <td>-9.810630</td>\n",
       "      <td>26.421601</td>\n",
       "      <td>-20.489698</td>\n",
       "      <td>66.025084</td>\n",
       "    </tr>\n",
       "    <tr>\n",
       "      <th>2002-09-25</th>\n",
       "      <td>-10.027050</td>\n",
       "      <td>26.135364</td>\n",
       "      <td>-19.496584</td>\n",
       "      <td>65.488676</td>\n",
       "    </tr>\n",
       "    <tr>\n",
       "      <th>2002-09-26</th>\n",
       "      <td>-9.810487</td>\n",
       "      <td>26.783689</td>\n",
       "      <td>-20.244260</td>\n",
       "      <td>66.121344</td>\n",
       "    </tr>\n",
       "  </tbody>\n",
       "</table>\n",
       "<p>1000 rows × 4 columns</p>\n",
       "</div>"
      ]
     },
     "execution_count": 78,
     "metadata": {},
     "output_type": "execute_result"
    }
   ],
   "execution_count": 78
  },
  {
   "metadata": {},
   "cell_type": "markdown",
   "source": "## 11.3 Excel",
   "id": "a5fb3ec9daede38b"
  },
  {
   "metadata": {
    "ExecuteTime": {
     "end_time": "2024-06-02T23:41:46.264808Z",
     "start_time": "2024-06-02T23:41:45.510985Z"
    }
   },
   "cell_type": "code",
   "source": [
    "# Install openpyxl\n",
    "!pip install openpyxl"
   ],
   "id": "e33b6ba3073ab8a9",
   "outputs": [
    {
     "name": "stdout",
     "output_type": "stream",
     "text": [
      "Requirement already satisfied: openpyxl in /home/gst/anaconda3/envs/d2l/lib/python3.11/site-packages (3.1.3)\r\n",
      "Requirement already satisfied: et-xmlfile in /home/gst/anaconda3/envs/d2l/lib/python3.11/site-packages (from openpyxl) (1.1.0)\r\n"
     ]
    }
   ],
   "execution_count": 79
  },
  {
   "metadata": {
    "ExecuteTime": {
     "end_time": "2024-06-02T23:41:46.981216Z",
     "start_time": "2024-06-02T23:41:46.895189Z"
    }
   },
   "cell_type": "code",
   "source": [
    "# Write DataFrame to an Excel file\n",
    "df.to_excel('foo.xlsx', sheet_name='Sheet1')"
   ],
   "id": "717896cc42c86d65",
   "outputs": [],
   "execution_count": 80
  },
  {
   "metadata": {
    "ExecuteTime": {
     "end_time": "2024-06-02T23:41:48.281510Z",
     "start_time": "2024-06-02T23:41:48.249389Z"
    }
   },
   "cell_type": "code",
   "source": [
    "# Read an Excel file into a DataFrame\n",
    "pd.read_excel('foo.xlsx', 'Sheet1', index_col=None, na_values=['NA'])"
   ],
   "id": "afc1a7b6e5d33f6",
   "outputs": [
    {
     "data": {
      "text/plain": [
       "    Unnamed: 0          A          B          C          D\n",
       "0   2000-01-01  -0.784156   0.537123  -0.604085  -0.033274\n",
       "1   2000-01-02  -0.897775  -1.134481   1.258787   0.238641\n",
       "2   2000-01-03  -1.205006  -0.333840   0.168962   1.718980\n",
       "3   2000-01-04  -2.119987  -1.934412   1.600047   1.009564\n",
       "4   2000-01-05  -2.236933  -2.605678   1.460622   1.262300\n",
       "..         ...        ...        ...        ...        ...\n",
       "995 2002-09-22  -9.059794  24.420142 -16.919663  65.677838\n",
       "996 2002-09-23  -9.963972  25.247821 -18.730705  64.965042\n",
       "997 2002-09-24  -9.810630  26.421601 -20.489698  66.025084\n",
       "998 2002-09-25 -10.027050  26.135364 -19.496584  65.488676\n",
       "999 2002-09-26  -9.810487  26.783689 -20.244260  66.121344\n",
       "\n",
       "[1000 rows x 5 columns]"
      ],
      "text/html": [
       "<div>\n",
       "<style scoped>\n",
       "    .dataframe tbody tr th:only-of-type {\n",
       "        vertical-align: middle;\n",
       "    }\n",
       "\n",
       "    .dataframe tbody tr th {\n",
       "        vertical-align: top;\n",
       "    }\n",
       "\n",
       "    .dataframe thead th {\n",
       "        text-align: right;\n",
       "    }\n",
       "</style>\n",
       "<table border=\"1\" class=\"dataframe\">\n",
       "  <thead>\n",
       "    <tr style=\"text-align: right;\">\n",
       "      <th></th>\n",
       "      <th>Unnamed: 0</th>\n",
       "      <th>A</th>\n",
       "      <th>B</th>\n",
       "      <th>C</th>\n",
       "      <th>D</th>\n",
       "    </tr>\n",
       "  </thead>\n",
       "  <tbody>\n",
       "    <tr>\n",
       "      <th>0</th>\n",
       "      <td>2000-01-01</td>\n",
       "      <td>-0.784156</td>\n",
       "      <td>0.537123</td>\n",
       "      <td>-0.604085</td>\n",
       "      <td>-0.033274</td>\n",
       "    </tr>\n",
       "    <tr>\n",
       "      <th>1</th>\n",
       "      <td>2000-01-02</td>\n",
       "      <td>-0.897775</td>\n",
       "      <td>-1.134481</td>\n",
       "      <td>1.258787</td>\n",
       "      <td>0.238641</td>\n",
       "    </tr>\n",
       "    <tr>\n",
       "      <th>2</th>\n",
       "      <td>2000-01-03</td>\n",
       "      <td>-1.205006</td>\n",
       "      <td>-0.333840</td>\n",
       "      <td>0.168962</td>\n",
       "      <td>1.718980</td>\n",
       "    </tr>\n",
       "    <tr>\n",
       "      <th>3</th>\n",
       "      <td>2000-01-04</td>\n",
       "      <td>-2.119987</td>\n",
       "      <td>-1.934412</td>\n",
       "      <td>1.600047</td>\n",
       "      <td>1.009564</td>\n",
       "    </tr>\n",
       "    <tr>\n",
       "      <th>4</th>\n",
       "      <td>2000-01-05</td>\n",
       "      <td>-2.236933</td>\n",
       "      <td>-2.605678</td>\n",
       "      <td>1.460622</td>\n",
       "      <td>1.262300</td>\n",
       "    </tr>\n",
       "    <tr>\n",
       "      <th>...</th>\n",
       "      <td>...</td>\n",
       "      <td>...</td>\n",
       "      <td>...</td>\n",
       "      <td>...</td>\n",
       "      <td>...</td>\n",
       "    </tr>\n",
       "    <tr>\n",
       "      <th>995</th>\n",
       "      <td>2002-09-22</td>\n",
       "      <td>-9.059794</td>\n",
       "      <td>24.420142</td>\n",
       "      <td>-16.919663</td>\n",
       "      <td>65.677838</td>\n",
       "    </tr>\n",
       "    <tr>\n",
       "      <th>996</th>\n",
       "      <td>2002-09-23</td>\n",
       "      <td>-9.963972</td>\n",
       "      <td>25.247821</td>\n",
       "      <td>-18.730705</td>\n",
       "      <td>64.965042</td>\n",
       "    </tr>\n",
       "    <tr>\n",
       "      <th>997</th>\n",
       "      <td>2002-09-24</td>\n",
       "      <td>-9.810630</td>\n",
       "      <td>26.421601</td>\n",
       "      <td>-20.489698</td>\n",
       "      <td>66.025084</td>\n",
       "    </tr>\n",
       "    <tr>\n",
       "      <th>998</th>\n",
       "      <td>2002-09-25</td>\n",
       "      <td>-10.027050</td>\n",
       "      <td>26.135364</td>\n",
       "      <td>-19.496584</td>\n",
       "      <td>65.488676</td>\n",
       "    </tr>\n",
       "    <tr>\n",
       "      <th>999</th>\n",
       "      <td>2002-09-26</td>\n",
       "      <td>-9.810487</td>\n",
       "      <td>26.783689</td>\n",
       "      <td>-20.244260</td>\n",
       "      <td>66.121344</td>\n",
       "    </tr>\n",
       "  </tbody>\n",
       "</table>\n",
       "<p>1000 rows × 5 columns</p>\n",
       "</div>"
      ]
     },
     "execution_count": 81,
     "metadata": {},
     "output_type": "execute_result"
    }
   ],
   "execution_count": 81
  }
 ],
 "metadata": {
  "kernelspec": {
   "display_name": "Python 3",
   "language": "python",
   "name": "python3"
  },
  "language_info": {
   "codemirror_mode": {
    "name": "ipython",
    "version": 2
   },
   "file_extension": ".py",
   "mimetype": "text/x-python",
   "name": "python",
   "nbconvert_exporter": "python",
   "pygments_lexer": "ipython2",
   "version": "2.7.6"
  }
 },
 "nbformat": 4,
 "nbformat_minor": 5
}
