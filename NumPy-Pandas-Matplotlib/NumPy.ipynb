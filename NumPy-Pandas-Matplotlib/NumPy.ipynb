{
 "cells": [
  {
   "metadata": {},
   "cell_type": "markdown",
   "source": [
    "# What is NumPy?\n",
    "+ NumPy is a Python library used for processing arrays.\n",
    "+ It also has functions for working in the fields of linear algebra, Fourier transforms, and matrices.\n",
    "+ NumPy was created by Travis Oliphant in 2005. It is an open-source project, and you can use it for free.\n",
    "+ NumPy is short for Numerical Python.\n",
    "# Why use NumPy?\n",
    "+ In Python, we have lists that can serve the purpose of arrays, but they are slow to process.\n",
    "+ NumPy provides an array object that is 50 times faster than traditional Python lists.\n",
    "+ The array object in NumPy is called ndarray, and it offers many supporting functions that make operations on ndarray very easy.\n",
    "+ Arrays are used very frequently in data science, where speed and resources are very important.\n",
    "# Why is NumPy faster than lists?\n",
    "+ Unlike lists, the arrays in NumPy are stored at one continuous place in memory, so processes can access and manipulate them very efficiently.\n",
    "+ This behavior is called locality of reference in computer science.\n",
    "+ This is the main reason why NumPy is faster than lists. Additionally, it is optimized to work with the latest CPU architectures.\n",
    "# What language is NumPy written in?\n",
    "NumPy is a Python library, and part of it is written in Python, but most of the parts that require fast computation are written in C or C++.\n",
    "# Where is the NumPy code repository?\n",
    "[source code](https://github.com/numpy/numpy)"
   ],
   "id": "8b8b656f5833cda9"
  },
  {
   "metadata": {},
   "cell_type": "markdown",
   "source": [
    "# Check NumPy version\n",
    "The version string is stored in the __version__ attribute."
   ],
   "id": "f24286ad17a7a214"
  },
  {
   "metadata": {
    "ExecuteTime": {
     "end_time": "2024-06-01T21:46:16.743606Z",
     "start_time": "2024-06-01T21:46:16.661649Z"
    }
   },
   "cell_type": "code",
   "source": [
    "import numpy as np\n",
    "print(np.__version__)"
   ],
   "id": "85b8291f2eeab953",
   "outputs": [
    {
     "name": "stdout",
     "output_type": "stream",
     "text": [
      "1.23.5\n"
     ]
    }
   ],
   "execution_count": 1
  },
  {
   "metadata": {},
   "cell_type": "markdown",
   "source": [
    "# 1 Arrays\n",
    "## Creating NumPy ndarray Object\n",
    "We can create a NumPy ndarray object using the array() function."
   ],
   "id": "bce7ce6efe5a87a"
  },
  {
   "metadata": {
    "ExecuteTime": {
     "end_time": "2024-06-01T22:00:16.695152Z",
     "start_time": "2024-06-01T22:00:16.689613Z"
    }
   },
   "cell_type": "code",
   "source": [
    "arr = np.array([1, 2, 3, 4, 5])\n",
    "print(arr)\n",
    "print(type(arr))"
   ],
   "id": "437fe2612da384ff",
   "outputs": [
    {
     "name": "stdout",
     "output_type": "stream",
     "text": [
      "[1 2 3 4 5]\n",
      "<class 'numpy.ndarray'>\n"
     ]
    }
   ],
   "execution_count": 2
  },
  {
   "metadata": {},
   "cell_type": "markdown",
   "source": "## Array Dimensions ",
   "id": "34066a6d6368c431"
  },
  {
   "metadata": {
    "ExecuteTime": {
     "end_time": "2024-06-01T22:04:38.809942Z",
     "start_time": "2024-06-01T22:04:38.799531Z"
    }
   },
   "cell_type": "code",
   "source": [
    "arr1 = np.array(61) # 0-D\n",
    "print(arr1)\n",
    "arr2 = np.array([1, 2, 3, 4, 5, 6]) # 1-D\n",
    "print(arr2)\n",
    "arr3 = np.array([[1, 2, 3], \n",
    "                 [4, 5, 6]]) # 2-D\n",
    "print(arr3)\n",
    "arr4 = np.array([[[1, 2, 3], \n",
    "                 [4, 5, 6]], \n",
    "                [[1, 2, 3], \n",
    "                 [4, 5, 6]]]) # 3-D\n",
    "print(arr4)"
   ],
   "id": "567a9729bfd5b89b",
   "outputs": [
    {
     "name": "stdout",
     "output_type": "stream",
     "text": [
      "61\n",
      "[1 2 3 4 5 6]\n",
      "[[1 2 3]\n",
      " [4 5 6]]\n",
      "[[[1 2 3]\n",
      "  [4 5 6]]\n",
      "\n",
      " [[1 2 3]\n",
      "  [4 5 6]]]\n"
     ]
    }
   ],
   "execution_count": 4
  },
  {
   "metadata": {},
   "cell_type": "markdown",
   "source": "Checking Dimensions: NumPy arrays have an attribute called ndim that returns an integer representing the number of dimensions (or ranks) of the array.",
   "id": "eab3cd35347b73cb"
  },
  {
   "metadata": {
    "ExecuteTime": {
     "end_time": "2024-06-01T22:07:26.728626Z",
     "start_time": "2024-06-01T22:07:26.722542Z"
    }
   },
   "cell_type": "code",
   "source": [
    "a = np.array(42)\n",
    "b = np.array([1, 2, 3, 4, 5])\n",
    "c = np.array([[1, 2, 3], [4, 5, 6]])\n",
    "d = np.array([[[1, 2, 3], [4, 5, 6]], [[1, 2, 3], [4, 5, 6]]])\n",
    "print(a.ndim)\n",
    "print(b.ndim)\n",
    "print(c.ndim)\n",
    "print(d.ndim)"
   ],
   "id": "d60bfd038c0f881e",
   "outputs": [
    {
     "name": "stdout",
     "output_type": "stream",
     "text": [
      "0\n",
      "1\n",
      "2\n",
      "3\n"
     ]
    }
   ],
   "execution_count": 5
  },
  {
   "metadata": {},
   "cell_type": "markdown",
   "source": [
    "Higher Dimensional Arrays  \n",
    "An array can have any number of dimensions. When creating an array, you can define the number of dimensions by using the ndim argument."
   ],
   "id": "baba611fead078a9"
  },
  {
   "metadata": {
    "ExecuteTime": {
     "end_time": "2024-06-01T22:08:02.267809Z",
     "start_time": "2024-06-01T22:08:02.264676Z"
    }
   },
   "cell_type": "code",
   "source": [
    "arr = np.array([1, 2, 3, 4], ndmin=5)\n",
    "print(arr)\n",
    "print('number of dimensions:', arr.ndim)"
   ],
   "id": "30a9c05d6c5b1899",
   "outputs": [
    {
     "name": "stdout",
     "output_type": "stream",
     "text": [
      "[[[[[1 2 3 4]]]]]\n",
      "number of dimensions: 5\n"
     ]
    }
   ],
   "execution_count": 6
  },
  {
   "metadata": {},
   "cell_type": "markdown",
   "source": [
    "## Array Indexing\n",
    "Accessing Array Elements"
   ],
   "id": "1e9eaa9c5a651955"
  },
  {
   "metadata": {
    "ExecuteTime": {
     "end_time": "2024-06-01T22:08:50.015140Z",
     "start_time": "2024-06-01T22:08:50.012187Z"
    }
   },
   "cell_type": "code",
   "source": [
    "arr = np.array([1, 2, 3, 4])\n",
    "print(arr[0])\n",
    "print(arr[1])\n",
    "print(arr[2] + arr[3])"
   ],
   "id": "f391d3631f11c663",
   "outputs": [
    {
     "name": "stdout",
     "output_type": "stream",
     "text": [
      "1\n",
      "2\n",
      "7\n"
     ]
    }
   ],
   "execution_count": 7
  },
  {
   "metadata": {},
   "cell_type": "markdown",
   "source": "Accessing 2-D Arrays",
   "id": "a0a94f537586f205"
  },
  {
   "metadata": {
    "ExecuteTime": {
     "end_time": "2024-06-01T22:09:40.755366Z",
     "start_time": "2024-06-01T22:09:40.750358Z"
    }
   },
   "cell_type": "code",
   "source": [
    "arr = np.array([[1, 2, 3, 4, 5], [6, 7, 8, 9, 10]])\n",
    "print('2nd element on 1st dim:', arr[0, 1])\n",
    "print('5th element on 2nd dim:', arr[1, 4])"
   ],
   "id": "d5e1381f4c7985fb",
   "outputs": [
    {
     "name": "stdout",
     "output_type": "stream",
     "text": [
      "2nd element on 1st dim: 2\n",
      "5th element on 2nd dim: 10\n"
     ]
    }
   ],
   "execution_count": 9
  },
  {
   "metadata": {},
   "cell_type": "markdown",
   "source": "Accessing 3-D Arrays",
   "id": "a80320f7917c131a"
  },
  {
   "metadata": {
    "ExecuteTime": {
     "end_time": "2024-06-01T22:09:57.671838Z",
     "start_time": "2024-06-01T22:09:57.668960Z"
    }
   },
   "cell_type": "code",
   "source": [
    "arr = np.array([[[1, 2, 3], [4, 5, 6]], [[7, 8, 9], [10, 11, 12]]])\n",
    "print(arr[0, 1, 2])"
   ],
   "id": "b4f91eaee2c3bb4a",
   "outputs": [
    {
     "name": "stdout",
     "output_type": "stream",
     "text": [
      "6\n"
     ]
    }
   ],
   "execution_count": 10
  },
  {
   "metadata": {},
   "cell_type": "markdown",
   "source": [
    "Negative Indexing  \n",
    "Use negative indexing to access an array from the end."
   ],
   "id": "6620bdd125e6c8bb"
  },
  {
   "metadata": {
    "ExecuteTime": {
     "end_time": "2024-06-01T22:10:20.888178Z",
     "start_time": "2024-06-01T22:10:20.884154Z"
    }
   },
   "cell_type": "code",
   "source": [
    "arr = np.array([[1, 2, 3, 4, 5], [6, 7, 8, 9, 10]])\n",
    "print('Last element from 2nd dim:', arr[1, -1])"
   ],
   "id": "ef198e3ed3de47f7",
   "outputs": [
    {
     "name": "stdout",
     "output_type": "stream",
     "text": [
      "Last element from 2nd dim: 10\n"
     ]
    }
   ],
   "execution_count": 11
  },
  {
   "metadata": {},
   "cell_type": "markdown",
   "source": "## Array Slicing",
   "id": "24cfa8bafe39cbf"
  },
  {
   "metadata": {},
   "cell_type": "markdown",
   "source": [
    "Slicing Arrays  \n",
    "In Python, slicing means taking elements from one given index to another given index. We pass slice instead of an index like this: [start:end]. We can also define the step, like this: [start:end:step]."
   ],
   "id": "aa6f9af093689f82"
  },
  {
   "metadata": {
    "ExecuteTime": {
     "end_time": "2024-06-01T22:11:34.667391Z",
     "start_time": "2024-06-01T22:11:34.664309Z"
    }
   },
   "cell_type": "code",
   "source": [
    "arr = np.array([1, 2, 3, 4, 5, 6, 7])\n",
    "# Slice elements from index 1 to index 4\n",
    "print(arr[1:5])\n",
    "# Slice elements from index 4 to the end\n",
    "print(arr[4:])\n",
    "# Slice elements from the start to index 4 (not included)\n",
    "print(arr[:4])"
   ],
   "id": "e04d9e60fc365008",
   "outputs": [
    {
     "name": "stdout",
     "output_type": "stream",
     "text": [
      "[2 3 4 5]\n",
      "[5 6 7]\n",
      "[1 2 3 4]\n"
     ]
    }
   ],
   "execution_count": 12
  },
  {
   "metadata": {},
   "cell_type": "markdown",
   "source": [
    "Negative Slicing  \n",
    "Use the minus operator to refer to an index from the end."
   ],
   "id": "2b28fc3089a3c3b7"
  },
  {
   "metadata": {
    "ExecuteTime": {
     "end_time": "2024-06-01T22:12:14.695444Z",
     "start_time": "2024-06-01T22:12:14.688453Z"
    }
   },
   "cell_type": "code",
   "source": [
    "arr = np.array([1, 2, 3, 4, 5, 6, 7])\n",
    "# Slice from the third last element to the second last element\n",
    "print(arr[-3:-1])"
   ],
   "id": "a91a8e68a40ea08e",
   "outputs": [
    {
     "name": "stdout",
     "output_type": "stream",
     "text": [
      "[5 6]\n"
     ]
    }
   ],
   "execution_count": 13
  },
  {
   "metadata": {},
   "cell_type": "markdown",
   "source": "Step",
   "id": "306a51cd3402724f"
  },
  {
   "metadata": {
    "ExecuteTime": {
     "end_time": "2024-06-01T22:12:28.642512Z",
     "start_time": "2024-06-01T22:12:28.638936Z"
    }
   },
   "cell_type": "code",
   "source": [
    "arr = np.array([1, 2, 3, 4, 5, 6, 7])\n",
    "# Return every second element from index 1 to index 5\n",
    "print(arr[1:5:2])\n",
    "# Return every second element from the entire array\n",
    "print(arr[::2])"
   ],
   "id": "c10ca888b7f36152",
   "outputs": [
    {
     "name": "stdout",
     "output_type": "stream",
     "text": [
      "[2 4]\n",
      "[1 3 5 7]\n"
     ]
    }
   ],
   "execution_count": 14
  },
  {
   "metadata": {},
   "cell_type": "markdown",
   "source": "Slicing 2-D Arrays",
   "id": "bd3e2d1d6e8ab944"
  },
  {
   "metadata": {
    "ExecuteTime": {
     "end_time": "2024-06-01T22:21:17.781437Z",
     "start_time": "2024-06-01T22:21:17.776864Z"
    }
   },
   "cell_type": "code",
   "source": [
    "arr = np.array([[1, 2, 3, 4, 5], [6, 7, 8, 9, 10]])\n",
    "print(arr)\n",
    "print(arr[1, 1:4])\n",
    "print(arr[0:2, 2])\n",
    "print(arr[0:2, 2:3])\n",
    "print(arr[0:2, 1:4])"
   ],
   "id": "e85449333c7fef09",
   "outputs": [
    {
     "name": "stdout",
     "output_type": "stream",
     "text": [
      "[[ 1  2  3  4  5]\n",
      " [ 6  7  8  9 10]]\n",
      "[7 8 9]\n",
      "[3 8]\n",
      "[[3]\n",
      " [8]]\n",
      "[[2 3 4]\n",
      " [7 8 9]]\n"
     ]
    }
   ],
   "execution_count": 17
  },
  {
   "metadata": {},
   "cell_type": "markdown",
   "source": [
    "# 2 Data Types\n",
    "+ Data Types in Python\n",
    "  By default, Python has the following data types:\n",
    "  + strings - used to represent text data, enclosed in quotes. Example: \"ABCD\".\n",
    "  + integer - used to represent integer numbers. Example: -1, -2, -3.\n",
    "  + float - used to represent floating-point numbers. Example: 1.2, 42.42.\n",
    "  + boolean - used to represent True or False.\n",
    "  + complex - used to represent complex numbers. Example: 1.0 + 2.0j, 1.5 + 2.5j.\n",
    "+ Data Types in NumPy\n",
    "  NumPy has some additional data types, and it uses a character to represent them. For example, i for integer, u for unsigned integer, etc. Below is the list of all data types in NumPy and the characters used to represent them:\n",
    "  + i - integer\n",
    "  + b - boolean\n",
    "  + u - unsigned integer\n",
    "  + f - float\n",
    "  + c - complex float\n",
    "  + m - timedelta\n",
    "  + M - datetime\n",
    "  + O - object\n",
    "  + S - string\n",
    "  + U - unicode string\n",
    "  + V - fixed chunk of memory for other types (void)"
   ],
   "id": "e97f5ad5714ef901"
  },
  {
   "metadata": {},
   "cell_type": "markdown",
   "source": [
    "## Checking the Data Type of an Array\n",
    "NumPy arrays have an attribute called dtype that returns the data type of the array:"
   ],
   "id": "45e959d95e2a5e25"
  },
  {
   "metadata": {
    "ExecuteTime": {
     "end_time": "2024-06-01T23:04:16.584727Z",
     "start_time": "2024-06-01T23:04:16.581957Z"
    }
   },
   "cell_type": "code",
   "source": [
    "arr = np.array([1, 2, 3, 4])\n",
    "print(arr.dtype)\n",
    "\n",
    "arr = np.array(['apple', 'banana', 'cherry'])\n",
    "print(arr.dtype)"
   ],
   "id": "6f6240ee3f24a876",
   "outputs": [
    {
     "name": "stdout",
     "output_type": "stream",
     "text": [
      "int64\n",
      "<U6\n"
     ]
    }
   ],
   "execution_count": 18
  },
  {
   "metadata": {},
   "cell_type": "markdown",
   "source": [
    "< indicates the byte order (little-endian in this case).  \n",
    "U indicates that the type is a Unicode string.  \n",
    "6 indicates the number of characters in each string."
   ],
   "id": "f91c959f38194df0"
  },
  {
   "metadata": {},
   "cell_type": "markdown",
   "source": [
    "## What Happens if a Value Cannot be Converted?\n",
    "If a value cannot be converted to the specified data type, NumPy will raise a ValueError:"
   ],
   "id": "721198c6cab95f8b"
  },
  {
   "metadata": {
    "ExecuteTime": {
     "end_time": "2024-06-01T23:06:42.731826Z",
     "start_time": "2024-06-01T23:06:42.649567Z"
    }
   },
   "cell_type": "code",
   "source": "arr = np.array(['a', '2', '3'], dtype='i')",
   "id": "65037e43e163222f",
   "outputs": [
    {
     "ename": "ValueError",
     "evalue": "invalid literal for int() with base 10: 'a'",
     "output_type": "error",
     "traceback": [
      "\u001B[0;31m---------------------------------------------------------------------------\u001B[0m",
      "\u001B[0;31mValueError\u001B[0m                                Traceback (most recent call last)",
      "Cell \u001B[0;32mIn[19], line 1\u001B[0m\n\u001B[0;32m----> 1\u001B[0m arr \u001B[38;5;241m=\u001B[39m \u001B[43mnp\u001B[49m\u001B[38;5;241;43m.\u001B[39;49m\u001B[43marray\u001B[49m\u001B[43m(\u001B[49m\u001B[43m[\u001B[49m\u001B[38;5;124;43m'\u001B[39;49m\u001B[38;5;124;43ma\u001B[39;49m\u001B[38;5;124;43m'\u001B[39;49m\u001B[43m,\u001B[49m\u001B[43m \u001B[49m\u001B[38;5;124;43m'\u001B[39;49m\u001B[38;5;124;43m2\u001B[39;49m\u001B[38;5;124;43m'\u001B[39;49m\u001B[43m,\u001B[49m\u001B[43m \u001B[49m\u001B[38;5;124;43m'\u001B[39;49m\u001B[38;5;124;43m3\u001B[39;49m\u001B[38;5;124;43m'\u001B[39;49m\u001B[43m]\u001B[49m\u001B[43m,\u001B[49m\u001B[43m \u001B[49m\u001B[43mdtype\u001B[49m\u001B[38;5;241;43m=\u001B[39;49m\u001B[38;5;124;43m'\u001B[39;49m\u001B[38;5;124;43mi\u001B[39;49m\u001B[38;5;124;43m'\u001B[39;49m\u001B[43m)\u001B[49m\n",
      "\u001B[0;31mValueError\u001B[0m: invalid literal for int() with base 10: 'a'"
     ]
    }
   ],
   "execution_count": 19
  },
  {
   "metadata": {
    "ExecuteTime": {
     "end_time": "2024-06-02T00:26:51.726075Z",
     "start_time": "2024-06-02T00:26:51.723157Z"
    }
   },
   "cell_type": "code",
   "source": [
    "arr = np.array(['1', '2', '3'], dtype='i')\n",
    "print(arr)"
   ],
   "id": "1744a66277c4983d",
   "outputs": [
    {
     "name": "stdout",
     "output_type": "stream",
     "text": [
      "[1 2 3]\n"
     ]
    }
   ],
   "execution_count": 68
  },
  {
   "metadata": {},
   "cell_type": "markdown",
   "source": [
    "## Converting Data Types on Existing Arrays\n",
    "To change the data type of an existing array, use the astype() method. The astype() function creates a copy of the array and allows you to specify the data type as a parameter:"
   ],
   "id": "57c1172f68575434"
  },
  {
   "metadata": {
    "ExecuteTime": {
     "end_time": "2024-06-01T23:08:46.340231Z",
     "start_time": "2024-06-01T23:08:46.335879Z"
    }
   },
   "cell_type": "code",
   "source": [
    "arr = np.array([1.1, 2.1, 3.1])\n",
    "newarr = arr.astype('i')\n",
    "print(newarr)\n",
    "print(newarr.dtype)\n",
    "\n",
    "arr = np.array([1, 0, 3])\n",
    "newarr = arr.astype(bool)\n",
    "print(newarr)\n",
    "print(newarr.dtype)"
   ],
   "id": "9efa7bfc4b2b2f78",
   "outputs": [
    {
     "name": "stdout",
     "output_type": "stream",
     "text": [
      "[1 2 3]\n",
      "int32\n",
      "[ True False  True]\n",
      "bool\n"
     ]
    }
   ],
   "execution_count": 21
  },
  {
   "metadata": {},
   "cell_type": "markdown",
   "source": [
    "# 3 NumPy Array Copy vs. View\n",
    "The main difference between a copy and a view of an array is that a copy is a new array, while a view is just a view of the original array.  \n",
    "+ Copy owns the data and any changes made to the copy will not affect the original array, and any changes made to the original array will not affect the copy.\n",
    "+ View does not own the data and any changes made to the view will affect the original array, and any changes made to the original array will affect the view."
   ],
   "id": "3ed35e2731e2b1c8"
  },
  {
   "metadata": {},
   "cell_type": "markdown",
   "source": "Copy",
   "id": "aba64c893bf7f637"
  },
  {
   "metadata": {
    "ExecuteTime": {
     "end_time": "2024-06-01T23:11:09.865761Z",
     "start_time": "2024-06-01T23:11:09.862483Z"
    }
   },
   "cell_type": "code",
   "source": [
    "arr = np.array([1, 2, 3, 4, 5])\n",
    "x = arr.copy()\n",
    "x[0] = 61\n",
    "print(arr)\n",
    "print(x)"
   ],
   "id": "a9f5daa4cb8f5d2f",
   "outputs": [
    {
     "name": "stdout",
     "output_type": "stream",
     "text": [
      "[1 2 3 4 5]\n",
      "[61  2  3  4  5]\n"
     ]
    }
   ],
   "execution_count": 23
  },
  {
   "metadata": {},
   "cell_type": "markdown",
   "source": "View",
   "id": "a2f90b258bf6dd04"
  },
  {
   "metadata": {
    "ExecuteTime": {
     "end_time": "2024-06-01T23:11:28.309946Z",
     "start_time": "2024-06-01T23:11:28.307107Z"
    }
   },
   "cell_type": "code",
   "source": [
    "arr = np.array([1, 2, 3, 4, 5])\n",
    "x = arr.view()\n",
    "arr[0] = 61\n",
    "print(arr)\n",
    "print(x)\n",
    "\n",
    "arr = np.array([1, 2, 3, 4, 5])\n",
    "x = arr.view()\n",
    "x[0] = 31\n",
    "print(arr)\n",
    "print(x)"
   ],
   "id": "801addc3928c3399",
   "outputs": [
    {
     "name": "stdout",
     "output_type": "stream",
     "text": [
      "[61  2  3  4  5]\n",
      "[61  2  3  4  5]\n",
      "[31  2  3  4  5]\n",
      "[31  2  3  4  5]\n"
     ]
    }
   ],
   "execution_count": 24
  },
  {
   "metadata": {},
   "cell_type": "markdown",
   "source": [
    "## Checking if an Array Owns its Data\n",
    "Every NumPy array has an attribute called base. If the array owns its data, the base attribute will be None. Otherwise, the base attribute will reference the original object."
   ],
   "id": "435155aef76690b7"
  },
  {
   "metadata": {
    "ExecuteTime": {
     "end_time": "2024-06-01T23:12:21.403176Z",
     "start_time": "2024-06-01T23:12:21.400508Z"
    }
   },
   "cell_type": "code",
   "source": [
    "arr = np.array([1, 2, 3, 4, 5])\n",
    "\n",
    "x = arr.copy()\n",
    "y = arr.view()\n",
    "\n",
    "print(x.base)\n",
    "print(y.base)\n",
    "print(arr.base)"
   ],
   "id": "7a57dd2ad9370d95",
   "outputs": [
    {
     "name": "stdout",
     "output_type": "stream",
     "text": [
      "None\n",
      "[1 2 3 4 5]\n",
      "None\n"
     ]
    }
   ],
   "execution_count": 25
  },
  {
   "metadata": {},
   "cell_type": "markdown",
   "source": [
    "# 4 Shape\n",
    "The shape of an array is the number of elements in each dimension."
   ],
   "id": "f13d7331fb98d4dc"
  },
  {
   "metadata": {},
   "cell_type": "markdown",
   "source": [
    "## Get the Shape of an Array\n",
    "NumPy arrays have an attribute called shape that returns a tuple with each index having the number of corresponding elements."
   ],
   "id": "7715a158febc676a"
  },
  {
   "metadata": {
    "ExecuteTime": {
     "end_time": "2024-06-01T23:17:09.894973Z",
     "start_time": "2024-06-01T23:17:09.891339Z"
    }
   },
   "cell_type": "code",
   "source": [
    "arr = np.array([[1, 2, 3, 4], [5, 6, 7, 8]])\n",
    "print(arr.shape)\n",
    "\n",
    "arr = np.array([1, 2, 3, 4], ndmin=5)\n",
    "print(arr)\n",
    "print('shape of array:', arr.shape)"
   ],
   "id": "22aba345f9a13d48",
   "outputs": [
    {
     "name": "stdout",
     "output_type": "stream",
     "text": [
      "(2, 4)\n",
      "[[[[[1 2 3 4]]]]]\n",
      "shape of array: (1, 1, 1, 1, 4)\n"
     ]
    }
   ],
   "execution_count": 26
  },
  {
   "metadata": {},
   "cell_type": "markdown",
   "source": "## Reshaping Arrays",
   "id": "fa0f95e860b98b31"
  },
  {
   "metadata": {},
   "cell_type": "markdown",
   "source": "Reshape from 1-D to 2-D",
   "id": "da169f33044a92c6"
  },
  {
   "metadata": {
    "ExecuteTime": {
     "end_time": "2024-06-01T23:17:46.757665Z",
     "start_time": "2024-06-01T23:17:46.754514Z"
    }
   },
   "cell_type": "code",
   "source": [
    "arr = np.array([1, 2, 3, 4, 5, 6, 7, 8, 9, 10, 11, 12])\n",
    "newarr = arr.reshape(4, 3)\n",
    "\n",
    "print(arr.shape)\n",
    "print(newarr)\n",
    "print(newarr.shape)"
   ],
   "id": "ea488e8787078409",
   "outputs": [
    {
     "name": "stdout",
     "output_type": "stream",
     "text": [
      "(12,)\n",
      "[[ 1  2  3]\n",
      " [ 4  5  6]\n",
      " [ 7  8  9]\n",
      " [10 11 12]]\n",
      "(4, 3)\n"
     ]
    }
   ],
   "execution_count": 27
  },
  {
   "metadata": {},
   "cell_type": "markdown",
   "source": "Reshape from 1-D to 3-D",
   "id": "c6260d19fb7c73d0"
  },
  {
   "metadata": {
    "ExecuteTime": {
     "end_time": "2024-06-01T23:18:10.001150Z",
     "start_time": "2024-06-01T23:18:09.997571Z"
    }
   },
   "cell_type": "code",
   "source": [
    "newarr = arr.reshape(2, 3, 2)\n",
    "\n",
    "print(newarr)\n",
    "print(newarr.shape)"
   ],
   "id": "e0fa41ff70522c68",
   "outputs": [
    {
     "name": "stdout",
     "output_type": "stream",
     "text": [
      "[[[ 1  2]\n",
      "  [ 3  4]\n",
      "  [ 5  6]]\n",
      "\n",
      " [[ 7  8]\n",
      "  [ 9 10]\n",
      "  [11 12]]]\n",
      "(2, 3, 2)\n"
     ]
    }
   ],
   "execution_count": 28
  },
  {
   "metadata": {},
   "cell_type": "markdown",
   "source": [
    "Can We Reshape into Any Shape?  \n",
    "Yes, as long as the elements required for reshaping are equal in both shapes. We can reshape 8 elements 1D array into 2 rows and 4 columns 2D array, but we cannot reshape it into 3 rows and 2 columns 2D array because 8 elements cannot be evenly divided into 3 rows and 2 columns."
   ],
   "id": "e5425d388edf7bfa"
  },
  {
   "metadata": {},
   "cell_type": "markdown",
   "source": "Does it Return a Copy or a View?",
   "id": "2514b5a2f72e7141"
  },
  {
   "metadata": {
    "ExecuteTime": {
     "end_time": "2024-06-01T23:21:35.265713Z",
     "start_time": "2024-06-01T23:21:35.262613Z"
    }
   },
   "cell_type": "code",
   "source": [
    "arr = np.array([1, 2, 3, 4, 5, 6, 7, 8])\n",
    "\n",
    "print(arr.reshape(2, 4).base)\n",
    "# The above output shows the original array, hence it is a view"
   ],
   "id": "a646aa602783f5df",
   "outputs": [
    {
     "name": "stdout",
     "output_type": "stream",
     "text": [
      "[1 2 3 4 5 6 7 8]\n"
     ]
    }
   ],
   "execution_count": 30
  },
  {
   "metadata": {},
   "cell_type": "markdown",
   "source": [
    "Unknown Dimension  \n",
    "Pass -1 as the dimension and NumPy will calculate this dimension for you."
   ],
   "id": "ad20a172a8bba2"
  },
  {
   "metadata": {
    "ExecuteTime": {
     "end_time": "2024-06-01T23:21:44.755082Z",
     "start_time": "2024-06-01T23:21:44.750645Z"
    }
   },
   "cell_type": "code",
   "source": [
    "arr = np.array([1, 2, 3, 4, 5, 6, 7, 8])\n",
    "newarr = arr.reshape(2, 2, -1)\n",
    "\n",
    "print(newarr)"
   ],
   "id": "a675c49a674f7d5d",
   "outputs": [
    {
     "name": "stdout",
     "output_type": "stream",
     "text": [
      "[[[1 2]\n",
      "  [3 4]]\n",
      "\n",
      " [[5 6]\n",
      "  [7 8]]]\n"
     ]
    }
   ],
   "execution_count": 31
  },
  {
   "metadata": {},
   "cell_type": "markdown",
   "source": [
    "Flattening the Arrays  \n",
    "Flattening an array means converting a multidimensional array into a 1D array. We can use reshape(-1) to do this."
   ],
   "id": "ac4055eca5f53c01"
  },
  {
   "metadata": {
    "ExecuteTime": {
     "end_time": "2024-06-01T23:22:05.799452Z",
     "start_time": "2024-06-01T23:22:05.796790Z"
    }
   },
   "cell_type": "code",
   "source": [
    "arr = np.array([[1, 2, 3], [4, 5, 6]])\n",
    "newarr = arr.reshape(-1)\n",
    "\n",
    "print(newarr)"
   ],
   "id": "713785d7ef96393a",
   "outputs": [
    {
     "name": "stdout",
     "output_type": "stream",
     "text": [
      "[1 2 3 4 5 6]\n"
     ]
    }
   ],
   "execution_count": 32
  },
  {
   "metadata": {},
   "cell_type": "markdown",
   "source": "# 5 Operation",
   "id": "7b382f545252cc92"
  },
  {
   "metadata": {},
   "cell_type": "markdown",
   "source": "## 5.1 NumPy Array Iteration",
   "id": "87667246da9444da"
  },
  {
   "metadata": {},
   "cell_type": "markdown",
   "source": "1-D",
   "id": "95c7eeae48b227cc"
  },
  {
   "metadata": {
    "ExecuteTime": {
     "end_time": "2024-06-01T23:25:47.309364Z",
     "start_time": "2024-06-01T23:25:47.306776Z"
    }
   },
   "cell_type": "code",
   "source": [
    "import numpy as np\n",
    "\n",
    "arr = np.array([1, 2, 3])\n",
    "\n",
    "for x in arr:\n",
    "    print(x)"
   ],
   "id": "351e4181f1700b2e",
   "outputs": [
    {
     "name": "stdout",
     "output_type": "stream",
     "text": [
      "1\n",
      "2\n",
      "3\n"
     ]
    }
   ],
   "execution_count": 33
  },
  {
   "metadata": {},
   "cell_type": "markdown",
   "source": "2-D",
   "id": "dce21ceeb0aa0663"
  },
  {
   "metadata": {
    "ExecuteTime": {
     "end_time": "2024-06-01T23:26:03.774756Z",
     "start_time": "2024-06-01T23:26:03.771619Z"
    }
   },
   "cell_type": "code",
   "source": [
    "arr = np.array([[1, 2, 3], [4, 5, 6]])\n",
    "\n",
    "for x in arr:\n",
    "    print(x)\n",
    "# If we iterate on a n-D array, it will go through the first axis\n",
    "\n",
    "for x in arr:\n",
    "    for y in x:\n",
    "        print(y)\n",
    "# To return the actual values, the scalars, we need to iterate the arrays in each dimension"
   ],
   "id": "53388544cb01b76d",
   "outputs": [
    {
     "name": "stdout",
     "output_type": "stream",
     "text": [
      "[1 2 3]\n",
      "[4 5 6]\n",
      "1\n",
      "2\n",
      "3\n",
      "4\n",
      "5\n",
      "6\n"
     ]
    }
   ],
   "execution_count": 34
  },
  {
   "metadata": {},
   "cell_type": "markdown",
   "source": "3-D",
   "id": "810b5dcdc9b882bf"
  },
  {
   "metadata": {
    "ExecuteTime": {
     "end_time": "2024-06-01T23:26:17.481121Z",
     "start_time": "2024-06-01T23:26:17.478589Z"
    }
   },
   "cell_type": "code",
   "source": [
    "arr = np.array([[[1, 2, 3], [4, 5, 6]], [[7, 8, 9], [10, 11, 12]]])\n",
    "\n",
    "for x in arr:\n",
    "    for y in x:\n",
    "        for z in y:\n",
    "            print(z)"
   ],
   "id": "50173576139ad93c",
   "outputs": [
    {
     "name": "stdout",
     "output_type": "stream",
     "text": [
      "1\n",
      "2\n",
      "3\n",
      "4\n",
      "5\n",
      "6\n",
      "7\n",
      "8\n",
      "9\n",
      "10\n",
      "11\n",
      "12\n"
     ]
    }
   ],
   "execution_count": 35
  },
  {
   "metadata": {},
   "cell_type": "markdown",
   "source": [
    "### nditer\n",
    "In basic for loops, iterating through each scalar element of an array, we need to use n for loops for n-D arrays, which can be cumbersome for higher dimensional arrays."
   ],
   "id": "81597d747d2afebd"
  },
  {
   "metadata": {
    "ExecuteTime": {
     "end_time": "2024-06-01T23:27:14.569795Z",
     "start_time": "2024-06-01T23:27:14.567275Z"
    }
   },
   "cell_type": "code",
   "source": [
    "arr = np.array([[[1, 2], [3, 4]], [[5, 6], [7, 8]]])\n",
    "\n",
    "for x in np.nditer(arr):\n",
    "    print(x)"
   ],
   "id": "2233dc93c2c62bcf",
   "outputs": [
    {
     "name": "stdout",
     "output_type": "stream",
     "text": [
      "1\n",
      "2\n",
      "3\n",
      "4\n",
      "5\n",
      "6\n",
      "7\n",
      "8\n"
     ]
    }
   ],
   "execution_count": 36
  },
  {
   "metadata": {},
   "cell_type": "markdown",
   "source": "### Iterating Arrays with Different Data Types",
   "id": "e7c01d5f34e36dbd"
  },
  {
   "metadata": {
    "ExecuteTime": {
     "end_time": "2024-06-01T23:34:09.917974Z",
     "start_time": "2024-06-01T23:34:09.915058Z"
    }
   },
   "cell_type": "code",
   "source": [
    "arr = np.array([1, 2, 3])\n",
    "\n",
    "for x in np.nditer(arr, flags=['buffered'], op_dtypes=['S']):\n",
    "    print(x)"
   ],
   "id": "a24af22cfca469c2",
   "outputs": [
    {
     "name": "stdout",
     "output_type": "stream",
     "text": [
      "b'1'\n",
      "b'2'\n",
      "b'3'\n"
     ]
    }
   ],
   "execution_count": 39
  },
  {
   "metadata": {},
   "cell_type": "markdown",
   "source": "### Enumerated Iteration Using ndenumerate()",
   "id": "20950c2d2e76e2c3"
  },
  {
   "metadata": {
    "ExecuteTime": {
     "end_time": "2024-06-01T23:38:26.912420Z",
     "start_time": "2024-06-01T23:38:26.909754Z"
    }
   },
   "cell_type": "code",
   "source": [
    "arr = np.array([1, 2, 3])\n",
    "\n",
    "for idx, x in np.ndenumerate(arr):\n",
    "    print(idx, x)\n",
    "\n",
    "arr = np.array([[1, 2, 3], [4, 5, 6]])\n",
    "\n",
    "for idx, x in np.ndenumerate(arr):\n",
    "    print(idx, x)"
   ],
   "id": "bcb973805b5cffea",
   "outputs": [
    {
     "name": "stdout",
     "output_type": "stream",
     "text": [
      "(0,) 1\n",
      "(1,) 2\n",
      "(2,) 3\n",
      "(0, 0) 1\n",
      "(0, 1) 2\n",
      "(0, 2) 3\n",
      "(1, 0) 4\n",
      "(1, 1) 5\n",
      "(1, 2) 6\n"
     ]
    }
   ],
   "execution_count": 40
  },
  {
   "metadata": {},
   "cell_type": "markdown",
   "source": [
    "## 5.2 NumPy Array Concatenation\n",
    "### Concatenating NumPy Arrays"
   ],
   "id": "1e28a6cbff89b41c"
  },
  {
   "metadata": {
    "ExecuteTime": {
     "end_time": "2024-06-01T23:45:58.499809Z",
     "start_time": "2024-06-01T23:45:58.496045Z"
    }
   },
   "cell_type": "code",
   "source": [
    "arr1 = np.array([[1, 2], \n",
    "                 [3, 4]])\n",
    "arr2 = np.array([[5, 6], \n",
    "                 [7, 8]])\n",
    "\n",
    "arr = np.concatenate((arr1, arr2))\n",
    "print(arr, arr.shape)"
   ],
   "id": "44edefb89d4a4f0d",
   "outputs": [
    {
     "name": "stdout",
     "output_type": "stream",
     "text": [
      "[[1 2]\n",
      " [3 4]\n",
      " [5 6]\n",
      " [7 8]] (4, 2)\n"
     ]
    }
   ],
   "execution_count": 43
  },
  {
   "metadata": {
    "ExecuteTime": {
     "end_time": "2024-06-01T23:45:59.445063Z",
     "start_time": "2024-06-01T23:45:59.440130Z"
    }
   },
   "cell_type": "code",
   "source": [
    "# Passing axis argument to concatenate 2-D arrays along axis 1\n",
    "# When axis=1, the operation is performed along the second axis, which corresponds to columns in a 2D array.\n",
    "arr = np.concatenate((arr1, arr2), axis=1)\n",
    "print(arr, arr.shape)"
   ],
   "id": "afe4ffc8c3da27df",
   "outputs": [
    {
     "name": "stdout",
     "output_type": "stream",
     "text": [
      "[[1 2 5 6]\n",
      " [3 4 7 8]] (2, 4)\n"
     ]
    }
   ],
   "execution_count": 44
  },
  {
   "metadata": {},
   "cell_type": "markdown",
   "source": [
    "### Stacking Arrays Using Stack Functions\n",
    "Stacking is similar to concatenation, the only difference is that stacking is done along a new axis."
   ],
   "id": "5f2b30b4cf62ad9"
  },
  {
   "metadata": {
    "ExecuteTime": {
     "end_time": "2024-06-01T23:47:32.053652Z",
     "start_time": "2024-06-01T23:47:32.050673Z"
    }
   },
   "cell_type": "code",
   "source": [
    "arr = np.stack((arr1, arr2), axis=0)\n",
    "print(arr, arr.shape)\n",
    "\n",
    "arr = np.stack((arr1, arr2), axis=1)\n",
    "print(arr, arr.shape)"
   ],
   "id": "5122a280a8cddb1d",
   "outputs": [
    {
     "name": "stdout",
     "output_type": "stream",
     "text": [
      "[[[1 2]\n",
      "  [3 4]]\n",
      "\n",
      " [[5 6]\n",
      "  [7 8]]] (2, 2, 2)\n",
      "[[[1 2]\n",
      "  [5 6]]\n",
      "\n",
      " [[3 4]\n",
      "  [7 8]]] (2, 2, 2)\n"
     ]
    }
   ],
   "execution_count": 45
  },
  {
   "metadata": {},
   "cell_type": "markdown",
   "source": [
    "### Horizontal Stacking\n",
    "NumPy provides a helper function: hstack() to stack along rows."
   ],
   "id": "6350eb1aef20622c"
  },
  {
   "metadata": {
    "ExecuteTime": {
     "end_time": "2024-06-01T23:48:55.205994Z",
     "start_time": "2024-06-01T23:48:55.203224Z"
    }
   },
   "cell_type": "code",
   "source": [
    "arr = np.hstack((arr1, arr2))\n",
    "print(arr, arr.shape)"
   ],
   "id": "f8c8bc35983e29c2",
   "outputs": [
    {
     "name": "stdout",
     "output_type": "stream",
     "text": [
      "[[1 2 5 6]\n",
      " [3 4 7 8]] (2, 4)\n"
     ]
    }
   ],
   "execution_count": 46
  },
  {
   "metadata": {},
   "cell_type": "markdown",
   "source": [
    "### Vertical Stacking\n",
    "NumPy provides a helper function: vstack() to stack along columns."
   ],
   "id": "1f8f532a5cceda47"
  },
  {
   "metadata": {
    "ExecuteTime": {
     "end_time": "2024-06-01T23:49:40.423208Z",
     "start_time": "2024-06-01T23:49:40.420786Z"
    }
   },
   "cell_type": "code",
   "source": [
    "arr = np.vstack((arr1, arr2))\n",
    "print(arr, arr.shape)"
   ],
   "id": "ffd7e1ae5f8b8f96",
   "outputs": [
    {
     "name": "stdout",
     "output_type": "stream",
     "text": [
      "[[1 2]\n",
      " [3 4]\n",
      " [5 6]\n",
      " [7 8]] (4, 2)\n"
     ]
    }
   ],
   "execution_count": 47
  },
  {
   "metadata": {},
   "cell_type": "markdown",
   "source": [
    "### Depth Stacking\n",
    "NumPy provides a helper function: dstack() to stack along height, which is the same as depth."
   ],
   "id": "8192a3fdb74d24e4"
  },
  {
   "metadata": {
    "ExecuteTime": {
     "end_time": "2024-06-01T23:50:42.985933Z",
     "start_time": "2024-06-01T23:50:42.983333Z"
    }
   },
   "cell_type": "code",
   "source": [
    "arr = np.dstack((arr1, arr2))\n",
    "print(arr, arr.shape)"
   ],
   "id": "3db2fe96332674dd",
   "outputs": [
    {
     "name": "stdout",
     "output_type": "stream",
     "text": [
      "[[[1 5]\n",
      "  [2 6]]\n",
      "\n",
      " [[3 7]\n",
      "  [4 8]]] (2, 2, 2)\n"
     ]
    }
   ],
   "execution_count": 48
  },
  {
   "metadata": {},
   "cell_type": "markdown",
   "source": [
    "## 5.3 NumPy Array Splitting\n",
    "### Splitting NumPy Arrays\n",
    "Splitting is the opposite of concatenation."
   ],
   "id": "19f7efbea8d97f4f"
  },
  {
   "metadata": {
    "ExecuteTime": {
     "end_time": "2024-06-01T23:54:13.205934Z",
     "start_time": "2024-06-01T23:54:13.202501Z"
    }
   },
   "cell_type": "code",
   "source": [
    "arr = np.array([1, 2, 3, 4, 5, 6])\n",
    "newarr = np.array_split(arr, 3)\n",
    "print(newarr)\n",
    "# This returns a list containing three sub-arrays\n",
    "\n",
    "print(newarr[0])\n",
    "print(newarr[1])\n",
    "print(newarr[2])"
   ],
   "id": "1b08d3c4d2a12c13",
   "outputs": [
    {
     "name": "stdout",
     "output_type": "stream",
     "text": [
      "[array([1, 2]), array([3, 4]), array([5, 6])]\n",
      "[1 2]\n",
      "[3 4]\n",
      "[5 6]\n"
     ]
    }
   ],
   "execution_count": 49
  },
  {
   "metadata": {},
   "cell_type": "markdown",
   "source": [
    "### Using array_split and split\n",
    "The array_split function allows splitting an array into an arbitrary number of sub-arrays, whereas split requires that the number of splits must evenly divide the array."
   ],
   "id": "34166d7f922e410d"
  },
  {
   "metadata": {
    "ExecuteTime": {
     "end_time": "2024-06-01T23:58:39.084358Z",
     "start_time": "2024-06-01T23:58:39.065725Z"
    }
   },
   "cell_type": "code",
   "source": [
    "newarr = np.array_split(arr, 4)\n",
    "print(newarr)\n",
    "\n",
    "newarr = np.split(arr, 3)\n",
    "print(newarr)\n",
    "\n",
    "newarr = np.split(arr, 4)\n",
    "print(newarr)\n",
    "# This will raise a ValueError because the array cannot be evenly split into 4 parts."
   ],
   "id": "452b42c74061dd3e",
   "outputs": [
    {
     "name": "stdout",
     "output_type": "stream",
     "text": [
      "[array([1, 2]), array([3, 4]), array([5]), array([6])]\n",
      "[array([1, 2]), array([3, 4]), array([5, 6])]\n"
     ]
    },
    {
     "ename": "ValueError",
     "evalue": "array split does not result in an equal division",
     "output_type": "error",
     "traceback": [
      "\u001B[0;31m---------------------------------------------------------------------------\u001B[0m",
      "\u001B[0;31mValueError\u001B[0m                                Traceback (most recent call last)",
      "Cell \u001B[0;32mIn[50], line 7\u001B[0m\n\u001B[1;32m      4\u001B[0m newarr \u001B[38;5;241m=\u001B[39m np\u001B[38;5;241m.\u001B[39msplit(arr, \u001B[38;5;241m3\u001B[39m)\n\u001B[1;32m      5\u001B[0m \u001B[38;5;28mprint\u001B[39m(newarr)\n\u001B[0;32m----> 7\u001B[0m newarr \u001B[38;5;241m=\u001B[39m \u001B[43mnp\u001B[49m\u001B[38;5;241;43m.\u001B[39;49m\u001B[43msplit\u001B[49m\u001B[43m(\u001B[49m\u001B[43marr\u001B[49m\u001B[43m,\u001B[49m\u001B[43m \u001B[49m\u001B[38;5;241;43m4\u001B[39;49m\u001B[43m)\u001B[49m\n\u001B[1;32m      8\u001B[0m \u001B[38;5;28mprint\u001B[39m(newarr)\n\u001B[1;32m      9\u001B[0m \u001B[38;5;66;03m# This will raise a ValueError because the array cannot be evenly split into 4 parts.\u001B[39;00m\n",
      "File \u001B[0;32m<__array_function__ internals>:180\u001B[0m, in \u001B[0;36msplit\u001B[0;34m(*args, **kwargs)\u001B[0m\n",
      "File \u001B[0;32m~/anaconda3/envs/d2l/lib/python3.11/site-packages/numpy/lib/shape_base.py:872\u001B[0m, in \u001B[0;36msplit\u001B[0;34m(ary, indices_or_sections, axis)\u001B[0m\n\u001B[1;32m    870\u001B[0m     N \u001B[38;5;241m=\u001B[39m ary\u001B[38;5;241m.\u001B[39mshape[axis]\n\u001B[1;32m    871\u001B[0m     \u001B[38;5;28;01mif\u001B[39;00m N \u001B[38;5;241m%\u001B[39m sections:\n\u001B[0;32m--> 872\u001B[0m         \u001B[38;5;28;01mraise\u001B[39;00m \u001B[38;5;167;01mValueError\u001B[39;00m(\n\u001B[1;32m    873\u001B[0m             \u001B[38;5;124m'\u001B[39m\u001B[38;5;124marray split does not result in an equal division\u001B[39m\u001B[38;5;124m'\u001B[39m) \u001B[38;5;28;01mfrom\u001B[39;00m \u001B[38;5;28;01mNone\u001B[39;00m\n\u001B[1;32m    874\u001B[0m \u001B[38;5;28;01mreturn\u001B[39;00m array_split(ary, indices_or_sections, axis)\n",
      "\u001B[0;31mValueError\u001B[0m: array split does not result in an equal division"
     ]
    }
   ],
   "execution_count": 50
  },
  {
   "metadata": {},
   "cell_type": "markdown",
   "source": [
    "### Splitting 2-D Arrays\n",
    "When splitting 2-D arrays, the same logic applies. Use array_split() method, passing the array to be split and the number of splits required."
   ],
   "id": "8ba804e925eb5aa3"
  },
  {
   "metadata": {
    "ExecuteTime": {
     "end_time": "2024-06-02T00:00:03.832715Z",
     "start_time": "2024-06-02T00:00:03.829386Z"
    }
   },
   "cell_type": "code",
   "source": [
    "arr = np.array([[1, 2, 3, 4], [5, 6, 7, 8], [9, 10, 11, 12]])\n",
    "print(arr.shape)\n",
    "\n",
    "newarr = np.array_split(arr, 3)\n",
    "print(newarr)\n",
    "\n",
    "arr = np.array([[1, 2, 3, 4, 5, 6], [7, 8, 9, 10, 11, 12], [13, 14, 15, 16, 17, 18]])\n",
    "print(arr.shape)\n",
    "\n",
    "newarr = np.array_split(arr, 3)\n",
    "print(newarr)\n",
    "\n",
    "newarr = np.array_split(arr, 3, axis=1)\n",
    "print(newarr)"
   ],
   "id": "1587f76d489604e7",
   "outputs": [
    {
     "name": "stdout",
     "output_type": "stream",
     "text": [
      "(3, 4)\n",
      "[array([[1, 2, 3, 4]]), array([[5, 6, 7, 8]]), array([[ 9, 10, 11, 12]])]\n",
      "(3, 6)\n",
      "[array([[1, 2, 3, 4, 5, 6]]), array([[ 7,  8,  9, 10, 11, 12]]), array([[13, 14, 15, 16, 17, 18]])]\n",
      "[array([[ 1,  2],\n",
      "       [ 7,  8],\n",
      "       [13, 14]]), array([[ 3,  4],\n",
      "       [ 9, 10],\n",
      "       [15, 16]]), array([[ 5,  6],\n",
      "       [11, 12],\n",
      "       [17, 18]])]\n"
     ]
    }
   ],
   "execution_count": 51
  },
  {
   "metadata": {},
   "cell_type": "markdown",
   "source": [
    "### Using hsplit\n",
    "Another way to split arrays is using the hsplit() function, which is the opposite of hstack()."
   ],
   "id": "4a21c7a8dab149da"
  },
  {
   "metadata": {
    "ExecuteTime": {
     "end_time": "2024-06-02T00:01:48.679607Z",
     "start_time": "2024-06-02T00:01:48.677568Z"
    }
   },
   "cell_type": "code",
   "source": [
    "newarr = np.hsplit(arr, 3)\n",
    "print(newarr)"
   ],
   "id": "2c912ebb254134c5",
   "outputs": [
    {
     "name": "stdout",
     "output_type": "stream",
     "text": [
      "[array([[ 1,  2],\n",
      "       [ 7,  8],\n",
      "       [13, 14]]), array([[ 3,  4],\n",
      "       [ 9, 10],\n",
      "       [15, 16]]), array([[ 5,  6],\n",
      "       [11, 12],\n",
      "       [17, 18]])]\n"
     ]
    }
   ],
   "execution_count": 52
  },
  {
   "metadata": {},
   "cell_type": "markdown",
   "source": [
    "## 5.4 NumPy Array Search\n",
    "### Searching Arrays\n",
    "You can search for specific values in an array and return the indices of the matching elements. To search an array, use the where() method."
   ],
   "id": "19a66fadfb7a833"
  },
  {
   "metadata": {
    "ExecuteTime": {
     "end_time": "2024-06-02T00:09:37.621244Z",
     "start_time": "2024-06-02T00:09:37.617882Z"
    }
   },
   "cell_type": "code",
   "source": [
    "arr = np.array([1, 2, 3, 4, 5, 4, 4])\n",
    "x = np.where(arr == 4)\n",
    "print(x)"
   ],
   "id": "fc1004e899178be0",
   "outputs": [
    {
     "name": "stdout",
     "output_type": "stream",
     "text": [
      "(array([3, 5, 6]),)\n"
     ]
    }
   ],
   "execution_count": 53
  },
  {
   "metadata": {},
   "cell_type": "markdown",
   "source": "The value 4 is found at indices 3, 5, and 6",
   "id": "9ead2ea2a38942fe"
  },
  {
   "metadata": {
    "ExecuteTime": {
     "end_time": "2024-06-02T00:10:24.216595Z",
     "start_time": "2024-06-02T00:10:24.214191Z"
    }
   },
   "cell_type": "code",
   "source": [
    "arr = np.array([1, 2, 3, 4, 5, 6, 7, 8])\n",
    "x = np.where(arr % 2 == 0)\n",
    "print(x)"
   ],
   "id": "fd5836fae3b086f0",
   "outputs": [
    {
     "name": "stdout",
     "output_type": "stream",
     "text": [
      "(array([1, 3, 5, 7]),)\n"
     ]
    }
   ],
   "execution_count": 54
  },
  {
   "metadata": {
    "ExecuteTime": {
     "end_time": "2024-06-02T00:10:30.296358Z",
     "start_time": "2024-06-02T00:10:30.294101Z"
    }
   },
   "cell_type": "code",
   "source": [
    "x = np.where(arr % 2 == 1)\n",
    "print(x)"
   ],
   "id": "ac6ab70678be2fa8",
   "outputs": [
    {
     "name": "stdout",
     "output_type": "stream",
     "text": [
      "(array([0, 2, 4, 6]),)\n"
     ]
    }
   ],
   "execution_count": 55
  },
  {
   "metadata": {},
   "cell_type": "markdown",
   "source": [
    "### Searching Sorted Arrays\n",
    "left: a[i-1] < v <= a[i]  \n",
    "right: a[i-1] <= v < a[i]"
   ],
   "id": "a851bf9246ca664e"
  },
  {
   "metadata": {
    "ExecuteTime": {
     "end_time": "2024-06-02T00:10:51.629452Z",
     "start_time": "2024-06-02T00:10:51.626573Z"
    }
   },
   "cell_type": "code",
   "source": [
    "arr = np.array([6, 8, 9, 15]) # This method starts searching from the left and returns the first index where the value 9 is not greater than the next value.\n",
    "x = np.searchsorted(arr, 9)\n",
    "print(x)"
   ],
   "id": "59d7c439c51945ee",
   "outputs": [
    {
     "name": "stdout",
     "output_type": "stream",
     "text": [
      "2\n"
     ]
    }
   ],
   "execution_count": 56
  },
  {
   "metadata": {
    "ExecuteTime": {
     "end_time": "2024-06-02T00:12:26.540152Z",
     "start_time": "2024-06-02T00:12:26.537427Z"
    }
   },
   "cell_type": "code",
   "source": [
    "x = np.searchsorted(arr, 9, side='right') # This method starts searching from the right and returns the first index where the value 9 is not less than the next value.\n",
    "print(x)"
   ],
   "id": "c98bdf29901735e4",
   "outputs": [
    {
     "name": "stdout",
     "output_type": "stream",
     "text": [
      "3\n"
     ]
    }
   ],
   "execution_count": 57
  },
  {
   "metadata": {},
   "cell_type": "markdown",
   "source": [
    "### Multiple Values\n",
    "To search for multiple values, use an array with the specified values:"
   ],
   "id": "4c947c8e64323b7"
  },
  {
   "metadata": {
    "ExecuteTime": {
     "end_time": "2024-06-02T00:15:13.149522Z",
     "start_time": "2024-06-02T00:15:13.146738Z"
    }
   },
   "cell_type": "code",
   "source": [
    "arr = np.array([1, 3, 5, 7])\n",
    "x = np.searchsorted(arr, [2, 4, 6])\n",
    "print(x)"
   ],
   "id": "bc322d4be29eb1d8",
   "outputs": [
    {
     "name": "stdout",
     "output_type": "stream",
     "text": [
      "[1 2 3]\n"
     ]
    }
   ],
   "execution_count": 58
  },
  {
   "metadata": {},
   "cell_type": "markdown",
   "source": [
    "## 5.5 NumPy Array Sorting\n",
    "### Sorting Arrays"
   ],
   "id": "e2f72c466bbe68f6"
  },
  {
   "metadata": {
    "ExecuteTime": {
     "end_time": "2024-06-02T00:16:01.502159Z",
     "start_time": "2024-06-02T00:16:01.499372Z"
    }
   },
   "cell_type": "code",
   "source": [
    "arr = np.array([3, 2, 0, 1])\n",
    "print(np.sort(arr))"
   ],
   "id": "4f9b49d7773801e1",
   "outputs": [
    {
     "name": "stdout",
     "output_type": "stream",
     "text": [
      "[0 1 2 3]\n"
     ]
    }
   ],
   "execution_count": 59
  },
  {
   "metadata": {
    "ExecuteTime": {
     "end_time": "2024-06-02T00:16:07.499058Z",
     "start_time": "2024-06-02T00:16:07.496463Z"
    }
   },
   "cell_type": "code",
   "source": [
    "arr = np.array(['banana', 'cherry', 'apple'])\n",
    "print(np.sort(arr))"
   ],
   "id": "357000cd3c50b391",
   "outputs": [
    {
     "name": "stdout",
     "output_type": "stream",
     "text": [
      "['apple' 'banana' 'cherry']\n"
     ]
    }
   ],
   "execution_count": 60
  },
  {
   "metadata": {
    "ExecuteTime": {
     "end_time": "2024-06-02T00:16:13.619480Z",
     "start_time": "2024-06-02T00:16:13.616375Z"
    }
   },
   "cell_type": "code",
   "source": [
    "arr = np.array([True, False, True])\n",
    "print(np.sort(arr))"
   ],
   "id": "1123c978ee440597",
   "outputs": [
    {
     "name": "stdout",
     "output_type": "stream",
     "text": [
      "[False  True  True]\n"
     ]
    }
   ],
   "execution_count": 61
  },
  {
   "metadata": {},
   "cell_type": "markdown",
   "source": "### Sorting 2-D Arrays",
   "id": "d23c4af5eaa14911"
  },
  {
   "metadata": {
    "ExecuteTime": {
     "end_time": "2024-06-02T00:16:27.184592Z",
     "start_time": "2024-06-02T00:16:27.181361Z"
    }
   },
   "cell_type": "code",
   "source": [
    "arr = np.array([[3, 2, 4], [5, 0, 1]])\n",
    "print(np.sort(arr))"
   ],
   "id": "29834318566e8d4e",
   "outputs": [
    {
     "name": "stdout",
     "output_type": "stream",
     "text": [
      "[[2 3 4]\n",
      " [0 1 5]]\n"
     ]
    }
   ],
   "execution_count": 62
  },
  {
   "metadata": {},
   "cell_type": "markdown",
   "source": "## 5.6 NumPy Array Filtering",
   "id": "f52228a3d8c6fe1d"
  },
  {
   "metadata": {},
   "cell_type": "markdown",
   "source": [
    "### Filtering Arrays\n",
    "Filtering arrays involves creating a Boolean array where some values are True and others are False, and then extracting the elements corresponding to the True values."
   ],
   "id": "ad0268bd054306f8"
  },
  {
   "metadata": {
    "ExecuteTime": {
     "end_time": "2024-06-02T00:17:48.631636Z",
     "start_time": "2024-06-02T00:17:48.628605Z"
    }
   },
   "cell_type": "code",
   "source": [
    "arr = np.array([41, 42, 43, 44])\n",
    "x = [True, False, True, False]\n",
    "newarr = arr[x]\n",
    "print(newarr)"
   ],
   "id": "ddb024f4c2cb1b9d",
   "outputs": [
    {
     "name": "stdout",
     "output_type": "stream",
     "text": [
      "[41 43]\n"
     ]
    }
   ],
   "execution_count": 63
  },
  {
   "metadata": {},
   "cell_type": "markdown",
   "source": [
    "### Creating a Filter Array\n",
    "Creating a filter array involves iterating over the elements in the original array and applying a condition to set True or False for each element."
   ],
   "id": "a5852dc44c1ba7a3"
  },
  {
   "metadata": {
    "ExecuteTime": {
     "end_time": "2024-06-02T00:18:57.201822Z",
     "start_time": "2024-06-02T00:18:57.198486Z"
    }
   },
   "cell_type": "code",
   "source": [
    "arr = np.array([41, 42, 43, 44])\n",
    "filter_arr = []\n",
    "\n",
    "for element in arr:\n",
    "    if element > 42:\n",
    "        filter_arr.append(True)\n",
    "    else:\n",
    "        filter_arr.append(False)\n",
    "\n",
    "newarr = arr[filter_arr]\n",
    "print(newarr)"
   ],
   "id": "5d5335b2276fe145",
   "outputs": [
    {
     "name": "stdout",
     "output_type": "stream",
     "text": [
      "[43 44]\n"
     ]
    }
   ],
   "execution_count": 64
  },
  {
   "metadata": {
    "ExecuteTime": {
     "end_time": "2024-06-02T00:19:11.352313Z",
     "start_time": "2024-06-02T00:19:11.349722Z"
    }
   },
   "cell_type": "code",
   "source": [
    "arr = np.array([1, 2, 3, 4, 5, 6, 7])\n",
    "filter_arr = []\n",
    "\n",
    "for element in arr:\n",
    "    if element % 2 == 0:\n",
    "        filter_arr.append(True)\n",
    "    else:\n",
    "        filter_arr.append(False)\n",
    "\n",
    "newarr = arr[filter_arr]\n",
    "print(newarr)"
   ],
   "id": "6005ac4c535ebab6",
   "outputs": [
    {
     "name": "stdout",
     "output_type": "stream",
     "text": [
      "[2 4 6]\n"
     ]
    }
   ],
   "execution_count": 65
  },
  {
   "metadata": {},
   "cell_type": "markdown",
   "source": "### Directly Create Filters from Arrays",
   "id": "2c5e054f85a36e85"
  },
  {
   "metadata": {
    "ExecuteTime": {
     "end_time": "2024-06-02T00:19:30.410571Z",
     "start_time": "2024-06-02T00:19:30.407786Z"
    }
   },
   "cell_type": "code",
   "source": [
    "arr = np.array([61, 62, 63, 64, 65])\n",
    "filter_arr = arr > 62\n",
    "newarr = arr[filter_arr]\n",
    "print(filter_arr)\n",
    "print(newarr)"
   ],
   "id": "5a5b3f59ca0a2daf",
   "outputs": [
    {
     "name": "stdout",
     "output_type": "stream",
     "text": [
      "[False False  True  True  True]\n",
      "[63 64 65]\n"
     ]
    }
   ],
   "execution_count": 66
  },
  {
   "metadata": {},
   "cell_type": "markdown",
   "source": "Creating filters based on conditions:",
   "id": "6a3c0cc816670b86"
  },
  {
   "metadata": {
    "ExecuteTime": {
     "end_time": "2024-06-02T00:20:06.857670Z",
     "start_time": "2024-06-02T00:20:06.854960Z"
    }
   },
   "cell_type": "code",
   "source": [
    "arr = np.array([1, 2, 3, 4, 5, 6, 7])\n",
    "filter_arr = arr % 2 == 0\n",
    "newarr = arr[filter_arr]\n",
    "print(filter_arr)\n",
    "print(newarr)"
   ],
   "id": "ff6d17a413d7648c",
   "outputs": [
    {
     "name": "stdout",
     "output_type": "stream",
     "text": [
      "[False  True False  True False  True False]\n",
      "[2 4 6]\n"
     ]
    }
   ],
   "execution_count": 67
  }
 ],
 "metadata": {
  "kernelspec": {
   "display_name": "Python 3",
   "language": "python",
   "name": "python3"
  },
  "language_info": {
   "codemirror_mode": {
    "name": "ipython",
    "version": 2
   },
   "file_extension": ".py",
   "mimetype": "text/x-python",
   "name": "python",
   "nbconvert_exporter": "python",
   "pygments_lexer": "ipython2",
   "version": "2.7.6"
  }
 },
 "nbformat": 4,
 "nbformat_minor": 5
}
