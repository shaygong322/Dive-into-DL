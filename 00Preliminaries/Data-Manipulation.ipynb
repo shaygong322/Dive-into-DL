{
 "cells": [
  {
   "cell_type": "code",
   "id": "initial_id",
   "metadata": {
    "collapsed": true,
    "ExecuteTime": {
     "end_time": "2024-09-14T21:54:09.777118Z",
     "start_time": "2024-09-14T21:54:07.869599Z"
    }
   },
   "source": "import torch",
   "outputs": [],
   "execution_count": 1
  },
  {
   "metadata": {},
   "cell_type": "markdown",
   "source": "# 1 Create Tensor",
   "id": "fc8745d7db81631c"
  },
  {
   "metadata": {
    "ExecuteTime": {
     "end_time": "2024-09-14T21:54:12.194914Z",
     "start_time": "2024-09-14T21:54:12.149354Z"
    }
   },
   "cell_type": "code",
   "source": [
    "x = torch.arange(12)\n",
    "x"
   ],
   "id": "2674a42a8d5b0d21",
   "outputs": [
    {
     "data": {
      "text/plain": [
       "tensor([ 0,  1,  2,  3,  4,  5,  6,  7,  8,  9, 10, 11])"
      ]
     },
     "execution_count": 2,
     "metadata": {},
     "output_type": "execute_result"
    }
   ],
   "execution_count": 2
  },
  {
   "metadata": {
    "ExecuteTime": {
     "end_time": "2024-09-14T21:54:12.795004Z",
     "start_time": "2024-09-14T21:54:12.765519Z"
    }
   },
   "cell_type": "code",
   "source": [
    "x = torch.empty(5, 3) # creates a tensor without initializing its elements\n",
    "x"
   ],
   "id": "4f740eb7e48e842d",
   "outputs": [
    {
     "data": {
      "text/plain": [
       "tensor([[-1.7724e-38,  7.7352e-43,  0.0000e+00],\n",
       "        [ 0.0000e+00,  0.0000e+00,  0.0000e+00],\n",
       "        [ 0.0000e+00,  0.0000e+00,  0.0000e+00],\n",
       "        [ 0.0000e+00,  0.0000e+00,  0.0000e+00],\n",
       "        [ 0.0000e+00,  0.0000e+00,  0.0000e+00]])"
      ]
     },
     "execution_count": 3,
     "metadata": {},
     "output_type": "execute_result"
    }
   ],
   "execution_count": 3
  },
  {
   "metadata": {
    "ExecuteTime": {
     "end_time": "2024-09-14T21:54:13.330087Z",
     "start_time": "2024-09-14T21:54:13.313500Z"
    }
   },
   "cell_type": "code",
   "source": [
    "x = torch.rand(5, 3) # create a randomly initialized tensor\n",
    "x"
   ],
   "id": "7a0c8f72b87e5a7b",
   "outputs": [
    {
     "data": {
      "text/plain": [
       "tensor([[0.1945, 0.4846, 0.4627],\n",
       "        [0.1619, 0.6300, 0.8410],\n",
       "        [0.3579, 0.1142, 0.9451],\n",
       "        [0.8352, 0.4999, 0.9804],\n",
       "        [0.9957, 0.7526, 0.5363]])"
      ]
     },
     "execution_count": 4,
     "metadata": {},
     "output_type": "execute_result"
    }
   ],
   "execution_count": 4
  },
  {
   "metadata": {
    "ExecuteTime": {
     "end_time": "2024-09-14T21:54:14.125286Z",
     "start_time": "2024-09-14T21:54:14.111919Z"
    }
   },
   "cell_type": "code",
   "source": [
    "x = torch.zeros(5, 3, dtype=torch.long)\n",
    "x"
   ],
   "id": "4517c1bce62a27f5",
   "outputs": [
    {
     "data": {
      "text/plain": [
       "tensor([[0, 0, 0],\n",
       "        [0, 0, 0],\n",
       "        [0, 0, 0],\n",
       "        [0, 0, 0],\n",
       "        [0, 0, 0]])"
      ]
     },
     "execution_count": 5,
     "metadata": {},
     "output_type": "execute_result"
    }
   ],
   "execution_count": 5
  },
  {
   "metadata": {
    "ExecuteTime": {
     "end_time": "2024-09-14T21:54:14.600378Z",
     "start_time": "2024-09-14T21:54:14.588863Z"
    }
   },
   "cell_type": "code",
   "source": [
    "x = torch.tensor([5.5, 3])\n",
    "x"
   ],
   "id": "aacd669f993ecf93",
   "outputs": [
    {
     "data": {
      "text/plain": [
       "tensor([5.5000, 3.0000])"
      ]
     },
     "execution_count": 6,
     "metadata": {},
     "output_type": "execute_result"
    }
   ],
   "execution_count": 6
  },
  {
   "metadata": {},
   "cell_type": "markdown",
   "source": "## Attribute:",
   "id": "1b2a016a510a8d2e"
  },
  {
   "metadata": {
    "ExecuteTime": {
     "end_time": "2024-09-14T21:54:15.675870Z",
     "start_time": "2024-09-14T21:54:15.667355Z"
    }
   },
   "cell_type": "code",
   "source": [
    "x = torch.arange(12)\n",
    "x.shape"
   ],
   "id": "c6e86ee5f5bac5e",
   "outputs": [
    {
     "data": {
      "text/plain": [
       "torch.Size([12])"
      ]
     },
     "execution_count": 7,
     "metadata": {},
     "output_type": "execute_result"
    }
   ],
   "execution_count": 7
  },
  {
   "metadata": {
    "ExecuteTime": {
     "end_time": "2024-09-14T21:54:16.559729Z",
     "start_time": "2024-09-14T21:54:16.548403Z"
    }
   },
   "cell_type": "code",
   "source": "x.size()",
   "id": "15c5d9c2ea461358",
   "outputs": [
    {
     "data": {
      "text/plain": [
       "torch.Size([12])"
      ]
     },
     "execution_count": 8,
     "metadata": {},
     "output_type": "execute_result"
    }
   ],
   "execution_count": 8
  },
  {
   "metadata": {},
   "cell_type": "markdown",
   "source": "torch.Size is a tuple",
   "id": "85d1b7357e543c5f"
  },
  {
   "metadata": {
    "ExecuteTime": {
     "end_time": "2024-09-14T21:56:03.648174Z",
     "start_time": "2024-09-14T21:56:03.642764Z"
    }
   },
   "cell_type": "code",
   "source": "x.numel()",
   "id": "3ceb396fae85c132",
   "outputs": [
    {
     "data": {
      "text/plain": [
       "12"
      ]
     },
     "execution_count": 9,
     "metadata": {},
     "output_type": "execute_result"
    }
   ],
   "execution_count": 9
  },
  {
   "metadata": {},
   "cell_type": "markdown",
   "source": "reshape a tensor but do not change the numel and values",
   "id": "59a23bd23ff77912"
  },
  {
   "metadata": {
    "ExecuteTime": {
     "end_time": "2024-09-14T21:56:05.054666Z",
     "start_time": "2024-09-14T21:56:05.039291Z"
    }
   },
   "cell_type": "code",
   "source": [
    "x = x.reshape(3, 4)\n",
    "x"
   ],
   "id": "eff275d583ea514f",
   "outputs": [
    {
     "data": {
      "text/plain": [
       "tensor([[ 0,  1,  2,  3],\n",
       "        [ 4,  5,  6,  7],\n",
       "        [ 8,  9, 10, 11]])"
      ]
     },
     "execution_count": 10,
     "metadata": {},
     "output_type": "execute_result"
    }
   ],
   "execution_count": 10
  },
  {
   "metadata": {},
   "cell_type": "markdown",
   "source": "all 0, all 1, other constants or sample each element randomly (and independently) from a given probability distribution",
   "id": "d52938a0496b854e"
  },
  {
   "metadata": {
    "ExecuteTime": {
     "end_time": "2024-09-14T21:56:06.304058Z",
     "start_time": "2024-09-14T21:56:06.293889Z"
    }
   },
   "cell_type": "code",
   "source": "torch.zeros((2, 3, 4))",
   "id": "fc7b5ebd6eb02093",
   "outputs": [
    {
     "data": {
      "text/plain": [
       "tensor([[[0., 0., 0., 0.],\n",
       "         [0., 0., 0., 0.],\n",
       "         [0., 0., 0., 0.]],\n",
       "\n",
       "        [[0., 0., 0., 0.],\n",
       "         [0., 0., 0., 0.],\n",
       "         [0., 0., 0., 0.]]])"
      ]
     },
     "execution_count": 11,
     "metadata": {},
     "output_type": "execute_result"
    }
   ],
   "execution_count": 11
  },
  {
   "metadata": {
    "ExecuteTime": {
     "end_time": "2024-09-14T21:56:06.854555Z",
     "start_time": "2024-09-14T21:56:06.835564Z"
    }
   },
   "cell_type": "code",
   "source": "torch.ones((2, 3, 4))",
   "id": "822aaa5010e9793c",
   "outputs": [
    {
     "data": {
      "text/plain": [
       "tensor([[[1., 1., 1., 1.],\n",
       "         [1., 1., 1., 1.],\n",
       "         [1., 1., 1., 1.]],\n",
       "\n",
       "        [[1., 1., 1., 1.],\n",
       "         [1., 1., 1., 1.],\n",
       "         [1., 1., 1., 1.]]])"
      ]
     },
     "execution_count": 12,
     "metadata": {},
     "output_type": "execute_result"
    }
   ],
   "execution_count": 12
  },
  {
   "metadata": {
    "ExecuteTime": {
     "end_time": "2024-09-14T21:56:07.443969Z",
     "start_time": "2024-09-14T21:56:07.429786Z"
    }
   },
   "cell_type": "code",
   "source": "torch.randn(3, 4)",
   "id": "f6740ebae5880c63",
   "outputs": [
    {
     "data": {
      "text/plain": [
       "tensor([[ 0.5673, -0.9995,  0.5289,  0.2715],\n",
       "        [ 0.8978, -0.1406,  1.6074, -0.7789],\n",
       "        [ 0.3968, -1.2423,  0.4045, -0.1519]])"
      ]
     },
     "execution_count": 13,
     "metadata": {},
     "output_type": "execute_result"
    }
   ],
   "execution_count": 13
  },
  {
   "metadata": {
    "ExecuteTime": {
     "end_time": "2024-09-14T21:56:07.964628Z",
     "start_time": "2024-09-14T21:56:07.953283Z"
    }
   },
   "cell_type": "code",
   "source": "torch.tensor([[2, 1, 4, 3], [1, 2, 3, 4], [4, 3, 2, 1]])",
   "id": "c9ff0ac6443e330a",
   "outputs": [
    {
     "data": {
      "text/plain": [
       "tensor([[2, 1, 4, 3],\n",
       "        [1, 2, 3, 4],\n",
       "        [4, 3, 2, 1]])"
      ]
     },
     "execution_count": 14,
     "metadata": {},
     "output_type": "execute_result"
    }
   ],
   "execution_count": 14
  },
  {
   "metadata": {
    "ExecuteTime": {
     "end_time": "2024-09-14T21:56:08.569313Z",
     "start_time": "2024-09-14T21:56:08.553829Z"
    }
   },
   "cell_type": "code",
   "source": "torch.tensor([[2, 1, 4, 3], [1, 2, 3, 4], [4, 3, 2, 1]]).shape",
   "id": "ebe7c95441ef20d",
   "outputs": [
    {
     "data": {
      "text/plain": [
       "torch.Size([3, 4])"
      ]
     },
     "execution_count": 15,
     "metadata": {},
     "output_type": "execute_result"
    }
   ],
   "execution_count": 15
  },
  {
   "metadata": {},
   "cell_type": "markdown",
   "source": "# 2 Operations",
   "id": "7f15efb887c2d14c"
  },
  {
   "metadata": {},
   "cell_type": "markdown",
   "source": "## 算术操作",
   "id": "cce42db34f3f9d49"
  },
  {
   "metadata": {
    "ExecuteTime": {
     "end_time": "2024-09-14T21:56:11.484366Z",
     "start_time": "2024-09-14T21:56:11.459671Z"
    }
   },
   "cell_type": "code",
   "source": [
    "x = torch.tensor([1.0, 2, 4, 8])\n",
    "y = torch.tensor([2, 2, 2, 2])\n",
    "x +y, x - y, x * y, x / y, x ** y"
   ],
   "id": "1f0bc017e2bc8c47",
   "outputs": [
    {
     "data": {
      "text/plain": [
       "(tensor([ 3.,  4.,  6., 10.]),\n",
       " tensor([-1.,  0.,  2.,  6.]),\n",
       " tensor([ 2.,  4.,  8., 16.]),\n",
       " tensor([0.5000, 1.0000, 2.0000, 4.0000]),\n",
       " tensor([ 1.,  4., 16., 64.]))"
      ]
     },
     "execution_count": 16,
     "metadata": {},
     "output_type": "execute_result"
    }
   ],
   "execution_count": 16
  },
  {
   "metadata": {
    "ExecuteTime": {
     "end_time": "2024-09-14T21:56:12.918886Z",
     "start_time": "2024-09-14T21:56:12.899299Z"
    }
   },
   "cell_type": "code",
   "source": "torch.exp(x)",
   "id": "1e354fd9f1888421",
   "outputs": [
    {
     "data": {
      "text/plain": [
       "tensor([2.7183e+00, 7.3891e+00, 5.4598e+01, 2.9810e+03])"
      ]
     },
     "execution_count": 17,
     "metadata": {},
     "output_type": "execute_result"
    }
   ],
   "execution_count": 17
  },
  {
   "metadata": {
    "ExecuteTime": {
     "end_time": "2024-09-14T22:01:10.860190Z",
     "start_time": "2024-09-14T22:01:10.842214Z"
    }
   },
   "cell_type": "code",
   "source": [
    "y = torch.rand(5, 3)\n",
    "x = torch.ones(5, 3)\n",
    "result = torch.empty(5, 3)\n",
    "torch.add(x, y, out=result) # 指定输出\n",
    "print(result)"
   ],
   "id": "261698a399ceb64f",
   "outputs": [
    {
     "name": "stdout",
     "output_type": "stream",
     "text": [
      "tensor([[1.7734, 1.9570, 1.5336],\n",
      "        [1.1123, 1.2705, 1.7364],\n",
      "        [1.6674, 1.3459, 1.0258],\n",
      "        [1.1404, 1.4354, 1.5754],\n",
      "        [1.9626, 1.3008, 1.3454]])\n"
     ]
    }
   ],
   "execution_count": 24
  },
  {
   "metadata": {
    "ExecuteTime": {
     "end_time": "2024-09-14T22:01:13.079678Z",
     "start_time": "2024-09-14T22:01:13.062313Z"
    }
   },
   "cell_type": "code",
   "source": [
    "# adds x to y\n",
    "y.add_(x)\n",
    "print(y)"
   ],
   "id": "55f89245bcf1b73e",
   "outputs": [
    {
     "name": "stdout",
     "output_type": "stream",
     "text": [
      "tensor([[1.7734, 1.9570, 1.5336],\n",
      "        [1.1123, 1.2705, 1.7364],\n",
      "        [1.6674, 1.3459, 1.0258],\n",
      "        [1.1404, 1.4354, 1.5754],\n",
      "        [1.9626, 1.3008, 1.3454]])\n"
     ]
    }
   ],
   "execution_count": 25
  },
  {
   "metadata": {},
   "cell_type": "markdown",
   "source": [
    "## 索引\n",
    "类似于Python中的索引，**索引出来的结果与原数据共享内存，也即修改一个，另一个会跟着修改。**"
   ],
   "id": "43e36a724abb42ef"
  },
  {
   "metadata": {
    "ExecuteTime": {
     "end_time": "2024-09-14T22:07:03.393043Z",
     "start_time": "2024-09-14T22:07:03.384466Z"
    }
   },
   "cell_type": "code",
   "source": [
    "y = x[0, :]\n",
    "y += 1\n",
    "print(y)\n",
    "print(x[0, :]) # 源tensor也被改了"
   ],
   "id": "b882a8c2d522ed6c",
   "outputs": [
    {
     "name": "stdout",
     "output_type": "stream",
     "text": [
      "tensor([2., 2., 2.])\n",
      "tensor([2., 2., 2.])\n"
     ]
    }
   ],
   "execution_count": 26
  },
  {
   "metadata": {},
   "cell_type": "markdown",
   "source": [
    "## 改变形状\n",
    "\n",
    "使用view()来改变tensor的形状"
   ],
   "id": "8748a4f2bee5a48d"
  },
  {
   "metadata": {
    "ExecuteTime": {
     "end_time": "2024-09-14T22:11:07.410481Z",
     "start_time": "2024-09-14T22:11:07.401690Z"
    }
   },
   "cell_type": "code",
   "source": [
    "y = x.view(15)\n",
    "z = x.view(-1, 5)  # -1所指的维度可以根据其他维度的值推出来\n",
    "print(x.size(), y.size(), z.size())"
   ],
   "id": "b0d8359d4cc7d71a",
   "outputs": [
    {
     "name": "stdout",
     "output_type": "stream",
     "text": [
      "torch.Size([5, 3]) torch.Size([15]) torch.Size([3, 5])\n"
     ]
    }
   ],
   "execution_count": 27
  },
  {
   "metadata": {},
   "cell_type": "markdown",
   "source": "view()返回的新Tensor与源Tensor虽然可能有不同的size，但是是共享data的，也即更改其中的一个，另外一个也会跟着改变。(顾名思义，view仅仅是改变了对这个张量的观察角度，内部数据并未改变)",
   "id": "a6500b8bc30cdeab"
  },
  {
   "metadata": {
    "ExecuteTime": {
     "end_time": "2024-09-14T22:12:52.740037Z",
     "start_time": "2024-09-14T22:12:52.729690Z"
    }
   },
   "cell_type": "code",
   "source": [
    "x += 1\n",
    "print(x)\n",
    "print(y) # 也加了1"
   ],
   "id": "ddfeeffb09f541ae",
   "outputs": [
    {
     "name": "stdout",
     "output_type": "stream",
     "text": [
      "tensor([[3., 3., 3.],\n",
      "        [2., 2., 2.],\n",
      "        [2., 2., 2.],\n",
      "        [2., 2., 2.],\n",
      "        [2., 2., 2.]])\n",
      "tensor([3., 3., 3., 2., 2., 2., 2., 2., 2., 2., 2., 2., 2., 2., 2.])\n"
     ]
    }
   ],
   "execution_count": 28
  },
  {
   "metadata": {},
   "cell_type": "markdown",
   "source": [
    "如果我们想返回一个真正不共享data内存的副本，Pytorch还提供了一个reshape()可以改变形状，但是此函数并不能保证返回的是其拷贝，所以不推荐使用。\n",
    "\n",
    "推荐先用clone创造一个副本然后再使用view。"
   ],
   "id": "dc898f98894fdd85"
  },
  {
   "metadata": {
    "ExecuteTime": {
     "end_time": "2024-09-14T22:19:00.134160Z",
     "start_time": "2024-09-14T22:19:00.120389Z"
    }
   },
   "cell_type": "code",
   "source": [
    "x_cp = x.clone().view(15)\n",
    "x -= 1\n",
    "print(x)\n",
    "print(x_cp)"
   ],
   "id": "2ed2c94437bd55c1",
   "outputs": [
    {
     "name": "stdout",
     "output_type": "stream",
     "text": [
      "tensor([[2., 2., 2.],\n",
      "        [1., 1., 1.],\n",
      "        [1., 1., 1.],\n",
      "        [1., 1., 1.],\n",
      "        [1., 1., 1.]])\n",
      "tensor([3., 3., 3., 2., 2., 2., 2., 2., 2., 2., 2., 2., 2., 2., 2.])\n"
     ]
    }
   ],
   "execution_count": 29
  },
  {
   "metadata": {},
   "cell_type": "markdown",
   "source": "> 使用`clone`还有一个好处是会被记录在计算图中，即梯度回传到副本时也会传到源`Tensor`。",
   "id": "9a5f4c4c6f848f5c"
  },
  {
   "metadata": {
    "ExecuteTime": {
     "end_time": "2024-09-14T22:27:31.325584Z",
     "start_time": "2024-09-14T22:27:31.257784Z"
    }
   },
   "cell_type": "code",
   "source": [
    "# 创建一个需要梯度的张量\n",
    "x = torch.tensor([2.0, 3.0], requires_grad=True)\n",
    "\n",
    "# 克隆一个新的张量\n",
    "y = x.clone()\n",
    "\n",
    "# 对克隆出来的张量进行操作\n",
    "z = y**2\n",
    "\n",
    "# 进行反向传播，计算梯度\n",
    "z.sum().backward()\n",
    "\n",
    "# 输出原始张量和克隆张量的梯度\n",
    "print(x.grad)  # 期望输出 [4.0, 6.0]\n",
    "print(y.grad)  # 由于y是克隆出来的，它本身不需要梯度，所以它的grad是None"
   ],
   "id": "34c48230e5f220ad",
   "outputs": [
    {
     "name": "stdout",
     "output_type": "stream",
     "text": [
      "tensor([4., 6.])\n",
      "None\n"
     ]
    },
    {
     "name": "stderr",
     "output_type": "stream",
     "text": [
      "C:\\Users\\shayg\\AppData\\Local\\Temp\\ipykernel_29428\\2724706976.py:15: UserWarning: The .grad attribute of a Tensor that is not a leaf Tensor is being accessed. Its .grad attribute won't be populated during autograd.backward(). If you indeed want the .grad field to be populated for a non-leaf Tensor, use .retain_grad() on the non-leaf Tensor. If you access the non-leaf Tensor by mistake, make sure you access the leaf Tensor instead. See github.com/pytorch/pytorch/pull/30531 for more informations. (Triggered internally at C:\\cb\\pytorch_1000000000000\\work\\build\\aten\\src\\ATen/core/TensorBody.h:494.)\n",
      "  print(y.grad)  # 由于y是克隆出来的，它本身不需要梯度，所以它的grad是None\n"
     ]
    }
   ],
   "execution_count": 30
  },
  {
   "metadata": {},
   "cell_type": "markdown",
   "source": "另外一个常用的函数就是`item()`, 它可以将一个标量`Tensor`转换成一个Python number：",
   "id": "d7c44bfb7e724fbd"
  },
  {
   "metadata": {
    "ExecuteTime": {
     "end_time": "2024-09-14T22:28:49.939828Z",
     "start_time": "2024-09-14T22:28:49.933965Z"
    }
   },
   "cell_type": "code",
   "source": [
    "x = torch.randn(1)\n",
    "print(x)\n",
    "print(x.item())"
   ],
   "id": "48627dc0c15e7300",
   "outputs": [
    {
     "name": "stdout",
     "output_type": "stream",
     "text": [
      "tensor([-0.1816])\n",
      "-0.18159054219722748\n"
     ]
    }
   ],
   "execution_count": 31
  },
  {
   "metadata": {},
   "cell_type": "markdown",
   "source": [
    "## Concatenate：沿着某个维度将多个张量拼接在一起\n",
    "+ 沿着行拼接（维度0，即竖着拼接）：要求列数相同，是`增加行数`的操作\n",
    "+ 沿着列拼接（维度1，即横着拼接）：要求行数相同，是`增加列数`的操作"
   ],
   "id": "365b7522c6997872"
  },
  {
   "metadata": {
    "ExecuteTime": {
     "end_time": "2024-09-14T22:32:58.727822Z",
     "start_time": "2024-09-14T22:32:58.716794Z"
    }
   },
   "cell_type": "code",
   "source": [
    "X = torch.arange(12, dtype=torch.float32).reshape((3, 4))\n",
    "Y = torch.tensor([[2.0, 1, 4, 3], [1, 2, 3, 4], [4, 3, 2, 1]])\n",
    "torch.cat((X, Y), dim=0), torch.cat((X, Y), dim=1)"
   ],
   "id": "428e731485042ac0",
   "outputs": [
    {
     "data": {
      "text/plain": [
       "(tensor([[ 0.,  1.,  2.,  3.],\n",
       "         [ 4.,  5.,  6.,  7.],\n",
       "         [ 8.,  9., 10., 11.],\n",
       "         [ 2.,  1.,  4.,  3.],\n",
       "         [ 1.,  2.,  3.,  4.],\n",
       "         [ 4.,  3.,  2.,  1.]]),\n",
       " tensor([[ 0.,  1.,  2.,  3.,  2.,  1.,  4.,  3.],\n",
       "         [ 4.,  5.,  6.,  7.,  1.,  2.,  3.,  4.],\n",
       "         [ 8.,  9., 10., 11.,  4.,  3.,  2.,  1.]]))"
      ]
     },
     "execution_count": 32,
     "metadata": {},
     "output_type": "execute_result"
    }
   ],
   "execution_count": 32
  },
  {
   "metadata": {
    "ExecuteTime": {
     "end_time": "2024-09-14T22:33:01.765577Z",
     "start_time": "2024-09-14T22:33:01.752359Z"
    }
   },
   "cell_type": "code",
   "source": "X == Y",
   "id": "84f6ffb4cabf4ea9",
   "outputs": [
    {
     "data": {
      "text/plain": [
       "tensor([[False,  True, False,  True],\n",
       "        [False, False, False, False],\n",
       "        [False, False, False, False]])"
      ]
     },
     "execution_count": 33,
     "metadata": {},
     "output_type": "execute_result"
    }
   ],
   "execution_count": 33
  },
  {
   "metadata": {
    "ExecuteTime": {
     "end_time": "2024-09-14T22:33:02.834130Z",
     "start_time": "2024-09-14T22:33:02.829254Z"
    }
   },
   "cell_type": "code",
   "source": "X.sum()",
   "id": "344285fc62581e91",
   "outputs": [
    {
     "data": {
      "text/plain": [
       "tensor(66.)"
      ]
     },
     "execution_count": 34,
     "metadata": {},
     "output_type": "execute_result"
    }
   ],
   "execution_count": 34
  },
  {
   "metadata": {},
   "cell_type": "markdown",
   "source": [
    "# 3 Broadcasting Mechanism\n",
    "1. Matching Dimensions:  \n",
    "Starting from the trailing (right-most) dimensions, the dimensions of the tensors are compared. Two dimensions are compatible if they are equal, or one of them is 1. Essentially, a dimension of size 1 can be stretched (replicated) to match the size of the other dimension.\n",
    "2. Broadcasting Rules:\n",
    "+ If the tensors have a different number of dimensions, the smaller tensor is padded with ones on its left side until both tensors have the same number of dimensions.\n",
    "+ Once the tensors have the same number of dimensions, compare each dimension from right to left:\n",
    "  + If the dimensions are equal, proceed to the next dimension.\n",
    "  + If one of the dimensions is 1, it can be stretched to match the other dimension.\n",
    "  + If the dimensions are neither equal nor 1, broadcasting is not possible and an error is raised."
   ],
   "id": "ccd740fdb5b9f12c"
  },
  {
   "metadata": {
    "ExecuteTime": {
     "end_time": "2024-06-03T06:36:26.970917Z",
     "start_time": "2024-06-03T06:36:26.967799Z"
    }
   },
   "cell_type": "code",
   "source": [
    "a = torch.arange(3).reshape((3, 1))\n",
    "b = torch.arange(2).reshape((1, 2))\n",
    "a, b"
   ],
   "id": "afc249c1bb573f2",
   "outputs": [
    {
     "data": {
      "text/plain": [
       "(tensor([[0],\n",
       "         [1],\n",
       "         [2]]),\n",
       " tensor([[0, 1]]))"
      ]
     },
     "execution_count": 22,
     "metadata": {},
     "output_type": "execute_result"
    }
   ],
   "execution_count": 22
  },
  {
   "metadata": {
    "ExecuteTime": {
     "end_time": "2024-06-03T06:36:33.514479Z",
     "start_time": "2024-06-03T06:36:33.511494Z"
    }
   },
   "cell_type": "code",
   "source": "a + b",
   "id": "18eec77e36bececa",
   "outputs": [
    {
     "data": {
      "text/plain": [
       "tensor([[0, 1],\n",
       "        [1, 2],\n",
       "        [2, 3]])"
      ]
     },
     "execution_count": 23,
     "metadata": {},
     "output_type": "execute_result"
    }
   ],
   "execution_count": 23
  },
  {
   "metadata": {},
   "cell_type": "markdown",
   "source": "# 4 Saving Memory",
   "id": "985926f49514e8fe"
  },
  {
   "metadata": {
    "ExecuteTime": {
     "end_time": "2024-09-14T22:40:00.830005Z",
     "start_time": "2024-09-14T22:40:00.825567Z"
    }
   },
   "cell_type": "code",
   "source": [
    "x = torch.tensor([1, 2])\n",
    "y = torch.tensor([3, 4])\n",
    "id_before = id(y)\n",
    "y = y + x\n",
    "print(id(y) == id_before) # False，y指向新开辟的内存"
   ],
   "id": "a00b9008a70698b",
   "outputs": [
    {
     "name": "stdout",
     "output_type": "stream",
     "text": [
      "False\n"
     ]
    }
   ],
   "execution_count": 35
  },
  {
   "metadata": {
    "ExecuteTime": {
     "end_time": "2024-09-14T22:40:19.096230Z",
     "start_time": "2024-09-14T22:40:19.080583Z"
    }
   },
   "cell_type": "code",
   "source": [
    "x = torch.tensor([1, 2])\n",
    "y = torch.tensor([3, 4])\n",
    "id_before = id(y)\n",
    "torch.add(x, y, out=y) # y += x, y.add_(x)\n",
    "print(id(y) == id_before) # True，y指向原来的内存"
   ],
   "id": "1f6422a43b99164e",
   "outputs": [
    {
     "name": "stdout",
     "output_type": "stream",
     "text": [
      "True\n"
     ]
    }
   ],
   "execution_count": 36
  },
  {
   "metadata": {},
   "cell_type": "markdown",
   "source": "> 注：虽然`view`返回的`Tensor`与源`Tensor`是共享`data`的，但是依然是一个新的`Tensor`（因为`Tensor`除了包含`data`外还有一些其他属性），二者id（内存地址）并不一致。",
   "id": "9bc958bf1d60e6f6"
  },
  {
   "metadata": {},
   "cell_type": "markdown",
   "source": "# 5 Conversion to Other Python Objects (Numpy)",
   "id": "603b31f242ce13e0"
  },
  {
   "metadata": {},
   "cell_type": "markdown",
   "source": "我们很容易用numpy()和from_numpy()将Tensor和NumPy中的数组相互转换。但是需要注意的一点是：**这两个函数所产生的的Tensor和NumPy中的数组共享相同的内存（所以他们之间的转换很快），改变其中一个时另一个也会改变！！！**",
   "id": "f283146179548297"
  },
  {
   "metadata": {},
   "cell_type": "markdown",
   "source": "## Tensor -> Numpy: `numpy()`",
   "id": "2c5df58adca4485c"
  },
  {
   "metadata": {
    "ExecuteTime": {
     "end_time": "2024-09-14T22:42:34.562882Z",
     "start_time": "2024-09-14T22:42:34.537780Z"
    }
   },
   "cell_type": "code",
   "source": [
    "a = torch.ones(5)\n",
    "b = a.numpy()\n",
    "print(a, b)\n",
    "\n",
    "a += 1\n",
    "print(a, b)\n",
    "b += 1\n",
    "print(a, b)"
   ],
   "id": "171e68262c92d6a7",
   "outputs": [
    {
     "name": "stdout",
     "output_type": "stream",
     "text": [
      "tensor([1., 1., 1., 1., 1.]) [1. 1. 1. 1. 1.]\n",
      "tensor([2., 2., 2., 2., 2.]) [2. 2. 2. 2. 2.]\n",
      "tensor([3., 3., 3., 3., 3.]) [3. 3. 3. 3. 3.]\n"
     ]
    }
   ],
   "execution_count": 37
  },
  {
   "metadata": {},
   "cell_type": "markdown",
   "source": "## Numpy -> Tensor: `from_numpy()`",
   "id": "38a462b6154e7d9c"
  },
  {
   "metadata": {
    "ExecuteTime": {
     "end_time": "2024-09-14T22:44:16.285504Z",
     "start_time": "2024-09-14T22:44:16.267720Z"
    }
   },
   "cell_type": "code",
   "source": [
    "import numpy as np\n",
    "a = np.ones(5)\n",
    "b = torch.from_numpy(a)\n",
    "print(a, b)\n",
    "\n",
    "a += 1\n",
    "print(a, b)\n",
    "b += 1\n",
    "print(a, b)"
   ],
   "id": "4e6de3b71f252dbe",
   "outputs": [
    {
     "name": "stdout",
     "output_type": "stream",
     "text": [
      "[1. 1. 1. 1. 1.] tensor([1., 1., 1., 1., 1.], dtype=torch.float64)\n",
      "[2. 2. 2. 2. 2.] tensor([2., 2., 2., 2., 2.], dtype=torch.float64)\n",
      "[3. 3. 3. 3. 3.] tensor([3., 3., 3., 3., 3.], dtype=torch.float64)\n"
     ]
    }
   ],
   "execution_count": 38
  },
  {
   "metadata": {},
   "cell_type": "markdown",
   "source": "#### 还有一个常用的将NumPy中的array转换成Tensor的方法就是torch.tensor(), 需要注意的是，此方法总是会进行数据拷贝（就会消耗更多的时间和空间），所以返回的Tensor和原来的数据不再共享内存。",
   "id": "db0be4497c76f369"
  },
  {
   "metadata": {
    "ExecuteTime": {
     "end_time": "2024-09-14T22:45:39.682928Z",
     "start_time": "2024-09-14T22:45:39.675636Z"
    }
   },
   "cell_type": "code",
   "source": [
    "c = torch.tensor(a)\n",
    "a += 1\n",
    "print(a, c)"
   ],
   "id": "461ba8ca4c4bb6e2",
   "outputs": [
    {
     "name": "stdout",
     "output_type": "stream",
     "text": [
      "[4. 4. 4. 4. 4.] tensor([3., 3., 3., 3., 3.], dtype=torch.float64)\n"
     ]
    }
   ],
   "execution_count": 39
  },
  {
   "metadata": {
    "ExecuteTime": {
     "end_time": "2024-09-14T22:45:41.641250Z",
     "start_time": "2024-09-14T22:45:41.629564Z"
    }
   },
   "cell_type": "code",
   "source": [
    "a = torch.tensor([3.5])\n",
    "a, a.item(), float(a), int(a)"
   ],
   "id": "c51646918ce7dc79",
   "outputs": [
    {
     "data": {
      "text/plain": [
       "(tensor([3.5000]), 3.5, 3.5, 3)"
      ]
     },
     "execution_count": 40,
     "metadata": {},
     "output_type": "execute_result"
    }
   ],
   "execution_count": 40
  },
  {
   "metadata": {},
   "cell_type": "markdown",
   "source": "# 6 Tensor on GPU",
   "id": "bc603f7e618e4a9a"
  },
  {
   "metadata": {
    "ExecuteTime": {
     "end_time": "2024-09-14T22:47:34.125658Z",
     "start_time": "2024-09-14T22:47:33.961242Z"
    }
   },
   "cell_type": "code",
   "source": [
    "if torch.cuda.is_available():\n",
    "    device = torch.device(\"cuda\")          # GPU\n",
    "    y = torch.ones_like(x, device=device)  # Create Tensor on GPU\n",
    "    x = x.to(device)                       # equals .to(\"cuda\")\n",
    "    z = x + y\n",
    "    print(z)\n",
    "    print(z.to(\"cpu\", torch.double))       # to() can also change the data type"
   ],
   "id": "2f801f7cf958f5d3",
   "outputs": [
    {
     "name": "stdout",
     "output_type": "stream",
     "text": [
      "tensor([2, 3], device='cuda:0')\n",
      "tensor([2., 3.], dtype=torch.float64)\n"
     ]
    }
   ],
   "execution_count": 41
  }
 ],
 "metadata": {
  "kernelspec": {
   "display_name": "Python 3",
   "language": "python",
   "name": "python3"
  },
  "language_info": {
   "codemirror_mode": {
    "name": "ipython",
    "version": 2
   },
   "file_extension": ".py",
   "mimetype": "text/x-python",
   "name": "python",
   "nbconvert_exporter": "python",
   "pygments_lexer": "ipython2",
   "version": "2.7.6"
  }
 },
 "nbformat": 4,
 "nbformat_minor": 5
}
