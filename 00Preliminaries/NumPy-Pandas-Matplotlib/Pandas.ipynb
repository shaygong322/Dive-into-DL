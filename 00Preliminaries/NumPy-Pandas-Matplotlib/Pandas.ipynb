{
 "cells": [
  {
   "metadata": {},
   "cell_type": "markdown",
   "source": [
    "# Pandas\n",
    "pandas is a fast, powerful, flexible and easy to use open source data analysis and manipulation tool, built on top of the Python programming language.\n",
    "Key Features:\n",
    "+ Data Structures:\n",
    "  + Series: A one-dimensional labeled array capable of holding any data type.\n",
    "  + DataFrame: A two-dimensional labeled data structure with columns of potentially different types. It's similar to a table in a database or an Excel spreadsheet.\n",
    "+ Data Manipulation:\n",
    "  + Data Cleaning: Handle missing data, filter, and replace values.\n",
    "  + Data Transformation: Apply operations to columns or rows, group data, and perform aggregations.\n",
    "  + Data Merging and Joining: Combine multiple DataFrames using SQL-like joins.\n",
    "  + Data Reshaping: Pivot tables, stack/unstack, and transpose data.\n",
    "+ Data Analysis:\n",
    "  + Descriptive Statistics: Compute mean, median, mode, standard deviation, and other summary statistics.\n",
    "  + Time Series Analysis: Work with date-time data, perform resampling, and rolling window calculations.\n",
    "+ Input/Output:\n",
    "  + File Handling: Read and write data from/to CSV, Excel, SQL databases, JSON, and other formats.\n",
    "+ Visualization:\n",
    "  + Plotting: Interface with matplotlib to create a variety of plots and charts directly from DataFrames."
   ],
   "id": "99612062dd2dc684"
  },
  {
   "metadata": {
    "ExecuteTime": {
     "end_time": "2024-06-02T23:24:41.593037Z",
     "start_time": "2024-06-02T23:24:41.396250Z"
    }
   },
   "cell_type": "code",
   "source": [
    "import numpy as np\n",
    "import pandas as pd"
   ],
   "id": "280d5795860bbe49",
   "execution_count": 1,
   "outputs": []
  },
  {
   "metadata": {},
   "cell_type": "markdown",
   "source": "# 1 Object Creation",
   "id": "93b27d052edf6931"
  },
  {
   "metadata": {
    "ExecuteTime": {
     "end_time": "2024-06-02T23:24:52.839729Z",
     "start_time": "2024-06-02T23:24:52.835768Z"
    }
   },
   "cell_type": "code",
   "source": [
    "# Create a Series by passing a list of values\n",
    "s = pd.Series([1, 3, 5, np.nan, 6, 8])\n",
    "s"
   ],
   "id": "a588ac04bba843e4",
   "execution_count": 2,
   "outputs": []
  },
  {
   "metadata": {
    "ExecuteTime": {
     "end_time": "2024-06-02T23:27:26.089859Z",
     "start_time": "2024-06-02T23:27:26.083370Z"
    }
   },
   "cell_type": "code",
   "source": [
    "# Create a DataFrame using Series, dict, objects\n",
    "df2 = pd.DataFrame({\n",
    "    'A': 1.,\n",
    "    'B': pd.Timestamp('20130102'),\n",
    "    'C': pd.Series(1, index=list(range(4)), dtype='float32'),\n",
    "    'D': np.array([3] * 4, dtype='int32'),\n",
    "    'E': pd.Categorical([\"test\", \"train\", \"test\", \"train\"]),\n",
    "    'F': 'foo'\n",
    "})\n",
    "df2"
   ],
   "id": "655a41bb9b13c1a1",
   "execution_count": 3,
   "outputs": []
  },
  {
   "metadata": {
    "ExecuteTime": {
     "end_time": "2024-06-02T23:29:12.799653Z",
     "start_time": "2024-06-02T23:29:12.796299Z"
    }
   },
   "cell_type": "code",
   "source": [
    "# Create a DataFrame by passing a datetime index, a labeled index, and NumPy arrays\n",
    "d = pd.date_range('20130101', periods=6)\n",
    "d"
   ],
   "id": "38ca9664ef9953b0",
   "execution_count": 4,
   "outputs": []
  },
  {
   "metadata": {
    "ExecuteTime": {
     "end_time": "2024-06-02T23:29:15.231339Z",
     "start_time": "2024-06-02T23:29:15.226494Z"
    }
   },
   "cell_type": "code",
   "source": [
    "df = pd.DataFrame(np.random.randn(6, 4), index=d, columns=list('ABCD'))\n",
    "df"
   ],
   "id": "dd5058a25c8a1db5",
   "execution_count": 5,
   "outputs": []
  },
  {
   "metadata": {},
   "cell_type": "markdown",
   "source": "# 2 Viewing Data",
   "id": "1cda418c0ea23fc4"
  },
  {
   "metadata": {
    "ExecuteTime": {
     "end_time": "2024-06-02T23:29:17.689548Z",
     "start_time": "2024-06-02T23:29:17.685344Z"
    }
   },
   "cell_type": "code",
   "source": [
    "# View data types of each column in DataFrame\n",
    "df2.dtypes"
   ],
   "id": "ceeb5495b5796c9e",
   "execution_count": 6,
   "outputs": []
  },
  {
   "metadata": {
    "ExecuteTime": {
     "end_time": "2024-06-02T23:29:24.682628Z",
     "start_time": "2024-06-02T23:29:24.678135Z"
    }
   },
   "cell_type": "code",
   "source": [
    "# View the first few rows of the DataFrame\n",
    "df.head()"
   ],
   "id": "cc6d3a169e2fa067",
   "execution_count": 7,
   "outputs": []
  },
  {
   "metadata": {
    "ExecuteTime": {
     "end_time": "2024-06-02T23:29:25.834681Z",
     "start_time": "2024-06-02T23:29:25.830122Z"
    }
   },
   "cell_type": "code",
   "source": [
    "# View the first 2 rows of the DataFrame\n",
    "df.head(2)"
   ],
   "id": "6dfc7cf918b64b64",
   "execution_count": 8,
   "outputs": []
  },
  {
   "metadata": {
    "ExecuteTime": {
     "end_time": "2024-06-02T23:29:28.091483Z",
     "start_time": "2024-06-02T23:29:28.087275Z"
    }
   },
   "cell_type": "code",
   "source": [
    "# View the last three rows of the DataFrame\n",
    "df.tail(3)"
   ],
   "id": "96f36cbd51550ff",
   "execution_count": 9,
   "outputs": []
  },
  {
   "metadata": {
    "ExecuteTime": {
     "end_time": "2024-06-02T23:29:29.523116Z",
     "start_time": "2024-06-02T23:29:29.519528Z"
    }
   },
   "cell_type": "code",
   "source": [
    "# View the index of the DataFrame\n",
    "df.index"
   ],
   "id": "2b115dcc9159770c",
   "execution_count": 10,
   "outputs": []
  },
  {
   "metadata": {
    "ExecuteTime": {
     "end_time": "2024-06-02T23:29:32.596191Z",
     "start_time": "2024-06-02T23:29:32.593389Z"
    }
   },
   "cell_type": "code",
   "source": [
    "# View the column names of the DataFrame\n",
    "df.columns"
   ],
   "id": "c02e14f8c9aa45de",
   "execution_count": 11,
   "outputs": []
  },
  {
   "metadata": {
    "ExecuteTime": {
     "end_time": "2024-06-02T23:29:34.297602Z",
     "start_time": "2024-06-02T23:29:34.287752Z"
    }
   },
   "cell_type": "code",
   "source": [
    "# View the statistical summary of the data\n",
    "df.describe()"
   ],
   "id": "2d2169672031eba9",
   "execution_count": 12,
   "outputs": []
  },
  {
   "metadata": {},
   "cell_type": "markdown",
   "source": "# 3 Sorting",
   "id": "764a1931ba069abe"
  },
  {
   "metadata": {
    "ExecuteTime": {
     "end_time": "2024-06-02T23:30:01.058254Z",
     "start_time": "2024-06-02T23:30:01.053468Z"
    }
   },
   "cell_type": "code",
   "source": [
    "# Sort by index\n",
    "df.sort_index(axis=1, ascending=False)"
   ],
   "id": "5ce897b364c54f71",
   "execution_count": 13,
   "outputs": []
  },
  {
   "metadata": {
    "ExecuteTime": {
     "end_time": "2024-06-02T23:30:09.627794Z",
     "start_time": "2024-06-02T23:30:09.622162Z"
    }
   },
   "cell_type": "code",
   "source": [
    "# Sort by values\n",
    "df.sort_values(by='B')"
   ],
   "id": "6fb15f120aebefcf",
   "execution_count": 14,
   "outputs": []
  },
  {
   "metadata": {},
   "cell_type": "markdown",
   "source": "# 4 Selecting Data",
   "id": "464f9a6b4b80631"
  },
  {
   "metadata": {
    "ExecuteTime": {
     "end_time": "2024-06-02T23:30:20.750536Z",
     "start_time": "2024-06-02T23:30:20.747176Z"
    }
   },
   "cell_type": "code",
   "source": [
    "# Select a single column\n",
    "df['A']"
   ],
   "id": "b2e7dd66bc8b05cb",
   "execution_count": 15,
   "outputs": []
  },
  {
   "metadata": {
    "ExecuteTime": {
     "end_time": "2024-06-02T23:30:22.802871Z",
     "start_time": "2024-06-02T23:30:22.798785Z"
    }
   },
   "cell_type": "code",
   "source": [
    "# Slice rows\n",
    "df[1:3]"
   ],
   "id": "e51a5de6dced93b6",
   "execution_count": 16,
   "outputs": []
  },
  {
   "metadata": {
    "ExecuteTime": {
     "end_time": "2024-06-02T23:30:26.334334Z",
     "start_time": "2024-06-02T23:30:26.327731Z"
    }
   },
   "cell_type": "code",
   "source": [
    "# Select by a date range\n",
    "df['2013-01-02':'2013-01-04']"
   ],
   "id": "9c148e4afb5f2820",
   "execution_count": 17,
   "outputs": []
  },
  {
   "metadata": {},
   "cell_type": "markdown",
   "source": "## 4.1 Selecting by Label",
   "id": "e7a61b9207bfb881"
  },
  {
   "metadata": {
    "ExecuteTime": {
     "end_time": "2024-06-02T23:30:36.193066Z",
     "start_time": "2024-06-02T23:30:36.189126Z"
    }
   },
   "cell_type": "code",
   "source": [
    "# Select by single label\n",
    "df.loc['2013-01-02']"
   ],
   "id": "8587df11df87c72c",
   "execution_count": 18,
   "outputs": []
  },
  {
   "metadata": {
    "ExecuteTime": {
     "end_time": "2024-06-02T23:30:46.364188Z",
     "start_time": "2024-06-02T23:30:46.084904Z"
    }
   },
   "cell_type": "code",
   "source": "df['2013-01-02'] # single column",
   "id": "f093dd74b758ff50",
   "execution_count": 19,
   "outputs": []
  },
  {
   "metadata": {
    "ExecuteTime": {
     "end_time": "2024-06-02T23:30:48.320212Z",
     "start_time": "2024-06-02T23:30:48.315969Z"
    }
   },
   "cell_type": "code",
   "source": [
    "# Select by label (single row)\n",
    "df.loc[d[0]]"
   ],
   "id": "84243edc6febbddd",
   "execution_count": 20,
   "outputs": []
  },
  {
   "metadata": {
    "ExecuteTime": {
     "end_time": "2024-06-02T23:30:50.841144Z",
     "start_time": "2024-06-02T23:30:50.836866Z"
    }
   },
   "cell_type": "code",
   "source": [
    "# Select by label (multiple columns)\n",
    "df.loc[:, ['A', 'B']]"
   ],
   "id": "a9deb614b5f5855a",
   "execution_count": 21,
   "outputs": []
  },
  {
   "metadata": {
    "ExecuteTime": {
     "end_time": "2024-06-02T23:30:52.267233Z",
     "start_time": "2024-06-02T23:30:52.260328Z"
    }
   },
   "cell_type": "code",
   "source": [
    "# Label slicing\n",
    "df.loc['2013-01-02':'2013-01-04', ['A', 'B']]"
   ],
   "id": "25a9cfd88b8992d7",
   "execution_count": 22,
   "outputs": []
  },
  {
   "metadata": {
    "ExecuteTime": {
     "end_time": "2024-06-02T23:30:53.482815Z",
     "start_time": "2024-06-02T23:30:53.480086Z"
    }
   },
   "cell_type": "code",
   "source": [
    "# Getting a scalar value\n",
    "df.at['2013-01-02', 'A']"
   ],
   "id": "e94d1ca5993ce7c4",
   "execution_count": 23,
   "outputs": []
  },
  {
   "metadata": {},
   "cell_type": "markdown",
   "source": "## 4.2 Selecting by Position",
   "id": "d3d04c979af7ca22"
  },
  {
   "metadata": {
    "ExecuteTime": {
     "end_time": "2024-06-02T23:30:54.971425Z",
     "start_time": "2024-06-02T23:30:54.968326Z"
    }
   },
   "cell_type": "code",
   "source": [
    "# Select by position\n",
    "df.iloc[3]"
   ],
   "id": "c6f58dfec2e9801b",
   "execution_count": 24,
   "outputs": []
  },
  {
   "metadata": {
    "ExecuteTime": {
     "end_time": "2024-06-02T23:30:58.408675Z",
     "start_time": "2024-06-02T23:30:58.404978Z"
    }
   },
   "cell_type": "code",
   "source": [
    "# Integer slicing\n",
    "df.iloc[3:5, 0:2]"
   ],
   "id": "b48f0f9eee420397",
   "execution_count": 25,
   "outputs": []
  },
  {
   "metadata": {
    "ExecuteTime": {
     "end_time": "2024-06-02T23:31:01.026950Z",
     "start_time": "2024-06-02T23:31:01.023367Z"
    }
   },
   "cell_type": "code",
   "source": [
    "# Integer slicing with specific positions\n",
    "df.iloc[[1, 2, 4], [0, 2]]"
   ],
   "id": "8f19c40f074c2963",
   "execution_count": 26,
   "outputs": []
  },
  {
   "metadata": {
    "ExecuteTime": {
     "end_time": "2024-06-02T23:31:01.686398Z",
     "start_time": "2024-06-02T23:31:01.682178Z"
    }
   },
   "cell_type": "code",
   "source": [
    "# Slicing rows\n",
    "df.iloc[1:3, :]"
   ],
   "id": "e47b146e2566a4a2",
   "execution_count": 27,
   "outputs": []
  },
  {
   "metadata": {
    "ExecuteTime": {
     "end_time": "2024-06-02T23:31:02.535029Z",
     "start_time": "2024-06-02T23:31:02.531385Z"
    }
   },
   "cell_type": "code",
   "source": [
    "# Slicing columns\n",
    "df.iloc[:, 1:3]\n"
   ],
   "id": "e18a935bf5a09a0c",
   "execution_count": 28,
   "outputs": []
  },
  {
   "metadata": {
    "ExecuteTime": {
     "end_time": "2024-06-02T23:31:02.989708Z",
     "start_time": "2024-06-02T23:31:02.985901Z"
    }
   },
   "cell_type": "code",
   "source": [
    "# Getting a scalar value by position\n",
    "df.iloc[1, 1]"
   ],
   "id": "fb2764826ac43f3b",
   "execution_count": 29,
   "outputs": []
  },
  {
   "metadata": {
    "ExecuteTime": {
     "end_time": "2024-06-02T23:31:03.494713Z",
     "start_time": "2024-06-02T23:31:03.491736Z"
    }
   },
   "cell_type": "code",
   "source": [
    "# Quick access to a scalar\n",
    "df.iat[1, 1]"
   ],
   "id": "1b257ec6888e13bb",
   "execution_count": 30,
   "outputs": []
  },
  {
   "metadata": {},
   "cell_type": "markdown",
   "source": "## 4.3 Boolean Indexing",
   "id": "40391020ce574ef"
  },
  {
   "metadata": {
    "ExecuteTime": {
     "end_time": "2024-06-02T23:31:04.450115Z",
     "start_time": "2024-06-02T23:31:04.444095Z"
    }
   },
   "cell_type": "code",
   "source": [
    "# Boolean indexing\n",
    "df[df['B'] > 0]"
   ],
   "id": "b7d3c1c2d384f242",
   "execution_count": 31,
   "outputs": []
  },
  {
   "metadata": {
    "ExecuteTime": {
     "end_time": "2024-06-02T23:31:04.822208Z",
     "start_time": "2024-06-02T23:31:04.817614Z"
    }
   },
   "cell_type": "code",
   "source": "df[df > 0]",
   "id": "19cbf84e8f29840a",
   "execution_count": 32,
   "outputs": []
  },
  {
   "metadata": {
    "ExecuteTime": {
     "end_time": "2024-06-02T23:31:05.154884Z",
     "start_time": "2024-06-02T23:31:05.149947Z"
    }
   },
   "cell_type": "code",
   "source": [
    "# Using isin() method\n",
    "df3 = df.copy()\n",
    "df3['E'] = ['one', 'one', 'two', 'three', 'four', 'three']\n",
    "df3"
   ],
   "id": "d834fad6606c4800",
   "execution_count": 33,
   "outputs": []
  },
  {
   "metadata": {
    "ExecuteTime": {
     "end_time": "2024-06-02T23:31:05.347467Z",
     "start_time": "2024-06-02T23:31:05.341950Z"
    }
   },
   "cell_type": "code",
   "source": "df3[df3['E'].isin(['two', 'four'])]",
   "id": "b7efb51a79fb49dc",
   "execution_count": 34,
   "outputs": []
  },
  {
   "metadata": {},
   "cell_type": "markdown",
   "source": "# 5 Setting Values",
   "id": "4611d21334bc945b"
  },
  {
   "metadata": {
    "ExecuteTime": {
     "end_time": "2024-06-02T23:31:05.760739Z",
     "start_time": "2024-06-02T23:31:05.756973Z"
    }
   },
   "cell_type": "code",
   "source": [
    "s1 = pd.Series([1, 2, 3, 4, 5, 6], index=d)\n",
    "s1"
   ],
   "id": "47037255474e12bf",
   "execution_count": 35,
   "outputs": []
  },
  {
   "metadata": {
    "ExecuteTime": {
     "end_time": "2024-06-02T23:31:05.905858Z",
     "start_time": "2024-06-02T23:31:05.901330Z"
    }
   },
   "cell_type": "code",
   "source": [
    "df['F'] = s1\n",
    "df"
   ],
   "id": "234e8bd6e58afbdb",
   "execution_count": 36,
   "outputs": []
  },
  {
   "metadata": {
    "ExecuteTime": {
     "end_time": "2024-06-02T23:31:06.079150Z",
     "start_time": "2024-06-02T23:31:06.074383Z"
    }
   },
   "cell_type": "code",
   "source": [
    "df.at['2013-01-01', 'A'] = 0\n",
    "df"
   ],
   "id": "3b8d213aafe00f6d",
   "execution_count": 37,
   "outputs": []
  },
  {
   "metadata": {
    "ExecuteTime": {
     "end_time": "2024-06-02T23:31:06.278905Z",
     "start_time": "2024-06-02T23:31:06.272879Z"
    }
   },
   "cell_type": "code",
   "source": [
    "df.iat[0, 2] = 0\n",
    "df"
   ],
   "id": "271a68307b8bb1e3",
   "execution_count": 38,
   "outputs": []
  },
  {
   "metadata": {
    "ExecuteTime": {
     "end_time": "2024-06-02T23:31:06.460630Z",
     "start_time": "2024-06-02T23:31:06.456992Z"
    }
   },
   "cell_type": "code",
   "source": [
    "# Setting values by numpy array\n",
    "df.loc[:, 'D'] = np.array([5] * len(df))\n",
    "df"
   ],
   "id": "a7cb71b6ce1c2c0e",
   "execution_count": 39,
   "outputs": []
  },
  {
   "metadata": {
    "ExecuteTime": {
     "end_time": "2024-06-02T23:31:06.635578Z",
     "start_time": "2024-06-02T23:31:06.629853Z"
    }
   },
   "cell_type": "code",
   "source": [
    "# Using where to set values\n",
    "df3 = df.copy()\n",
    "df3[df3 < 0] = 0\n",
    "df3"
   ],
   "id": "e6b7e4fbcec65e9e",
   "execution_count": 40,
   "outputs": []
  },
  {
   "metadata": {},
   "cell_type": "markdown",
   "source": "# 6 Handling Missing Data",
   "id": "b1872aa304397330"
  },
  {
   "metadata": {
    "ExecuteTime": {
     "end_time": "2024-06-02T23:31:06.969062Z",
     "start_time": "2024-06-02T23:31:06.962495Z"
    }
   },
   "cell_type": "code",
   "source": [
    "# Reindexing\n",
    "df1 = df.reindex(index=d[0:4], columns=list(df.columns) + ['E'])\n",
    "df1.loc[d[0]:d[1], 'E'] = 1\n",
    "df1"
   ],
   "id": "b0c1638d7013788b",
   "execution_count": 41,
   "outputs": []
  },
  {
   "metadata": {
    "ExecuteTime": {
     "end_time": "2024-06-02T23:31:07.175665Z",
     "start_time": "2024-06-02T23:31:07.168004Z"
    }
   },
   "cell_type": "code",
   "source": [
    "# Drop rows with missing data\n",
    "df1.dropna(how='any')"
   ],
   "id": "8e2e3a2fb00bcb18",
   "execution_count": 42,
   "outputs": []
  },
  {
   "metadata": {
    "ExecuteTime": {
     "end_time": "2024-06-02T23:31:07.358905Z",
     "start_time": "2024-06-02T23:31:07.354148Z"
    }
   },
   "cell_type": "code",
   "source": [
    "# Fill missing data\n",
    "df1.fillna(value=5)"
   ],
   "id": "eff1dd61584504aa",
   "execution_count": 43,
   "outputs": []
  },
  {
   "metadata": {
    "ExecuteTime": {
     "end_time": "2024-06-02T23:31:07.554408Z",
     "start_time": "2024-06-02T23:31:07.549465Z"
    }
   },
   "cell_type": "code",
   "source": [
    "# Check for missing data\n",
    "pd.isna(df1)"
   ],
   "id": "eb39216c143ac807",
   "execution_count": 44,
   "outputs": []
  },
  {
   "metadata": {},
   "cell_type": "markdown",
   "source": [
    "# 7 Operations\n",
    "## 7.1 Arithmetic Operations"
   ],
   "id": "b7349c3f6ffa5620"
  },
  {
   "metadata": {
    "ExecuteTime": {
     "end_time": "2024-06-02T23:31:07.930489Z",
     "start_time": "2024-06-02T23:31:07.926077Z"
    }
   },
   "cell_type": "code",
   "source": [
    "# Arithmetic operations\n",
    "df1 = pd.DataFrame(np.random.randn(2, 5))\n",
    "df1"
   ],
   "id": "4b1e95f70a4c7c13",
   "execution_count": 45,
   "outputs": []
  },
  {
   "metadata": {
    "ExecuteTime": {
     "end_time": "2024-06-02T23:31:08.112826Z",
     "start_time": "2024-06-02T23:31:08.108373Z"
    }
   },
   "cell_type": "code",
   "source": [
    "df2 = pd.DataFrame(np.random.randn(3, 4))\n",
    "df2"
   ],
   "id": "c096b14107bcbaba",
   "execution_count": 46,
   "outputs": []
  },
  {
   "metadata": {
    "ExecuteTime": {
     "end_time": "2024-06-02T23:31:08.325041Z",
     "start_time": "2024-06-02T23:31:08.317991Z"
    }
   },
   "cell_type": "code",
   "source": [
    "print(\"df1 + df2\\n\", df1 + df2)\n",
    "print(\"df1 - df2\\n\", df1 - df2)\n",
    "print(\"df1 * df2\\n\", df1 * df2)\n",
    "print(\"df1 / df2\\n\", df1 / df2)"
   ],
   "id": "8122b8668c090a48",
   "execution_count": 47,
   "outputs": []
  },
  {
   "metadata": {},
   "cell_type": "markdown",
   "source": "## 7.2 Comparison Operations",
   "id": "a9f7dae7f93ae777"
  },
  {
   "metadata": {
    "ExecuteTime": {
     "end_time": "2024-06-02T23:31:08.740419Z",
     "start_time": "2024-06-02T23:31:08.730413Z"
    }
   },
   "cell_type": "code",
   "source": [
    "print(\"df1 equals df2\\n\", df1.eq(df2))\n",
    "print(\"df1 not equal to df2\\n\", df1.ne(df2))\n",
    "print(\"df1 greater than df2\\n\", df1.gt(df2))\n",
    "print(\"df1 less than df2\\n\", df1.lt(df2))\n",
    "print(\"df1 greater than or equal to df2\\n\", df1.ge(df2))\n",
    "print(\"df1 less than or equal to df2\\n\", df1.le(df2))"
   ],
   "id": "bb92f0157ad3b1e0",
   "execution_count": 48,
   "outputs": []
  },
  {
   "metadata": {},
   "cell_type": "markdown",
   "source": [
    "## 7.3 Statistical Operations\n",
    "make good use of search"
   ],
   "id": "4d8702c4d633c658"
  },
  {
   "metadata": {
    "ExecuteTime": {
     "end_time": "2024-06-02T23:31:09.128741Z",
     "start_time": "2024-06-02T23:31:09.124635Z"
    }
   },
   "cell_type": "code",
   "source": [
    "# Statistical operations\n",
    "df1"
   ],
   "id": "455a85697f90b5b1",
   "execution_count": 49,
   "outputs": []
  },
  {
   "metadata": {
    "ExecuteTime": {
     "end_time": "2024-06-02T23:31:09.685058Z",
     "start_time": "2024-06-02T23:31:09.681902Z"
    }
   },
   "cell_type": "code",
   "source": "df1.mean()",
   "id": "29a38ee1e63a2d14",
   "execution_count": 50,
   "outputs": []
  },
  {
   "metadata": {
    "ExecuteTime": {
     "end_time": "2024-06-02T23:31:09.913573Z",
     "start_time": "2024-06-02T23:31:09.909093Z"
    }
   },
   "cell_type": "code",
   "source": "df1.cumsum()",
   "id": "dcd4640ed3c2dea9",
   "execution_count": 51,
   "outputs": []
  },
  {
   "metadata": {},
   "cell_type": "markdown",
   "source": "## 7.4 Concatenation",
   "id": "f37c773f27dd78e4"
  },
  {
   "metadata": {
    "ExecuteTime": {
     "end_time": "2024-06-02T23:31:10.280600Z",
     "start_time": "2024-06-02T23:31:10.270316Z"
    }
   },
   "cell_type": "code",
   "source": "pd.concat([df1, df2])",
   "id": "ae77083f7a09e718",
   "execution_count": 52,
   "outputs": []
  },
  {
   "metadata": {},
   "cell_type": "markdown",
   "source": "## 7.5 Merging",
   "id": "4b2cea2a7a82e19a"
  },
  {
   "metadata": {
    "ExecuteTime": {
     "end_time": "2024-06-02T23:31:10.642415Z",
     "start_time": "2024-06-02T23:31:10.632635Z"
    }
   },
   "cell_type": "code",
   "source": [
    "left = pd.DataFrame({'key': ['foo', 'foo', 'bar'], 'lval': [1, 2, 2]})\n",
    "left"
   ],
   "id": "7d234dee806ac28",
   "execution_count": 53,
   "outputs": []
  },
  {
   "metadata": {
    "ExecuteTime": {
     "end_time": "2024-06-02T23:31:10.818017Z",
     "start_time": "2024-06-02T23:31:10.813526Z"
    }
   },
   "cell_type": "code",
   "source": [
    "right = pd.DataFrame({'key': ['foo', 'foo', 'bar'], 'rval': [3, 4, 5]})\n",
    "right"
   ],
   "id": "be0d09c4fcc14ccc",
   "execution_count": 54,
   "outputs": []
  },
  {
   "metadata": {
    "ExecuteTime": {
     "end_time": "2024-06-02T23:31:11.018532Z",
     "start_time": "2024-06-02T23:31:11.010353Z"
    }
   },
   "cell_type": "code",
   "source": "pd.merge(left, right, on='key')",
   "id": "73be2015e4febe04",
   "execution_count": 55,
   "outputs": []
  },
  {
   "metadata": {},
   "cell_type": "markdown",
   "source": "## 7.6 Append",
   "id": "3384dc8d76769cd7"
  },
  {
   "metadata": {
    "ExecuteTime": {
     "end_time": "2024-06-02T23:31:12.068562Z",
     "start_time": "2024-06-02T23:31:12.062758Z"
    }
   },
   "cell_type": "code",
   "source": [
    "# Create a DataFrame\n",
    "df = pd.DataFrame(np.random.randn(8, 4), columns=['A', 'B', 'C', 'D'])\n",
    "df"
   ],
   "id": "3e9eda2356609915",
   "execution_count": 56,
   "outputs": []
  },
  {
   "metadata": {
    "ExecuteTime": {
     "end_time": "2024-06-02T23:31:12.256976Z",
     "start_time": "2024-06-02T23:31:12.253843Z"
    }
   },
   "cell_type": "code",
   "source": [
    "# Select the fourth row\n",
    "s = df.iloc[3]\n",
    "s"
   ],
   "id": "27fadd45568bc5a4",
   "execution_count": 57,
   "outputs": []
  },
  {
   "metadata": {
    "ExecuteTime": {
     "end_time": "2024-06-02T23:31:12.463820Z",
     "start_time": "2024-06-02T23:31:12.456555Z"
    }
   },
   "cell_type": "code",
   "source": [
    "# Append the selected row to the DataFrame and ignore the index\n",
    "df.append(s, ignore_index=True)"
   ],
   "id": "350916fcd0c1ea40",
   "execution_count": 58,
   "outputs": []
  },
  {
   "metadata": {},
   "cell_type": "markdown",
   "source": "The append method has been deprecated in recent versions of Pandas (as of version 2.0.0). ",
   "id": "61322356fde0eeb7"
  },
  {
   "metadata": {},
   "cell_type": "markdown",
   "source": "## 7.7 Group",
   "id": "74c99e096bb6553e"
  },
  {
   "metadata": {
    "ExecuteTime": {
     "end_time": "2024-06-02T23:31:13.501086Z",
     "start_time": "2024-06-02T23:31:13.494507Z"
    }
   },
   "cell_type": "code",
   "source": [
    "# Create a DataFrame with multiple columns\n",
    "df = pd.DataFrame({\n",
    "    'A': ['foo', 'bar', 'foo', 'bar', 'foo', 'bar', 'foo', 'foo'],\n",
    "    'B': ['one', 'one', 'two', 'three', 'two', 'two', 'one', 'three'],\n",
    "    'C': np.random.randn(8),\n",
    "    'D': np.random.randn(8)\n",
    "})\n",
    "df"
   ],
   "id": "c53828c0fb84d993",
   "execution_count": 59,
   "outputs": []
  },
  {
   "metadata": {
    "ExecuteTime": {
     "end_time": "2024-06-02T23:31:13.704208Z",
     "start_time": "2024-06-02T23:31:13.697553Z"
    }
   },
   "cell_type": "code",
   "source": [
    "# Group by column 'A' and sum the values\n",
    "df.groupby('A').sum()"
   ],
   "id": "2f1d392639bc7308",
   "execution_count": 60,
   "outputs": []
  },
  {
   "metadata": {
    "ExecuteTime": {
     "end_time": "2024-06-02T23:31:13.894012Z",
     "start_time": "2024-06-02T23:31:13.888757Z"
    }
   },
   "cell_type": "code",
   "source": [
    "# Group by columns 'A' and 'B' and sum the values\n",
    "df.groupby(['A', 'B']).sum()"
   ],
   "id": "18897fc979378e41",
   "execution_count": 61,
   "outputs": []
  },
  {
   "metadata": {},
   "cell_type": "markdown",
   "source": "# 8 Pivot Table",
   "id": "b960b4b7796c81fa"
  },
  {
   "metadata": {
    "ExecuteTime": {
     "end_time": "2024-06-02T23:31:14.279333Z",
     "start_time": "2024-06-02T23:31:14.272982Z"
    }
   },
   "cell_type": "code",
   "source": [
    "# Create a DataFrame for the pivot table\n",
    "df = pd.DataFrame({\n",
    "    'A': ['one', 'one', 'two', 'three', 'two', 'one', 'three', 'two'],\n",
    "    'B': ['foo', 'bar', 'foo', 'bar', 'foo', 'bar', 'foo', 'bar'],\n",
    "    'C': np.random.randn(8),\n",
    "    'D': np.random.randn(8)\n",
    "})\n",
    "df"
   ],
   "id": "1044eea86cc1fa38",
   "execution_count": 62,
   "outputs": []
  },
  {
   "metadata": {
    "ExecuteTime": {
     "end_time": "2024-06-02T23:31:14.519544Z",
     "start_time": "2024-06-02T23:31:14.511491Z"
    }
   },
   "cell_type": "code",
   "source": [
    "# Create a pivot table\n",
    "pd.pivot_table(df, values='D', index=['A', 'B'], columns=['C'])"
   ],
   "id": "3bb554b79c3063cf",
   "execution_count": 63,
   "outputs": []
  },
  {
   "metadata": {},
   "cell_type": "markdown",
   "source": "# 9 Time Series",
   "id": "5bab328b9b6b6aea"
  },
  {
   "metadata": {
    "ExecuteTime": {
     "end_time": "2024-06-02T23:35:31.888692Z",
     "start_time": "2024-06-02T23:35:31.884265Z"
    }
   },
   "cell_type": "code",
   "source": [
    "# Create a time series with a 5-minute frequency\n",
    "rng = pd.date_range('1/1/2012', periods=100, freq='S')\n",
    "ts = pd.Series(np.random.randint(0, 500, len(rng)), index=rng)\n",
    "ts"
   ],
   "id": "da921b4a6914f2bb",
   "execution_count": 64,
   "outputs": []
  },
  {
   "metadata": {
    "ExecuteTime": {
     "end_time": "2024-06-02T23:37:28.498793Z",
     "start_time": "2024-06-02T23:37:28.488636Z"
    }
   },
   "cell_type": "code",
   "source": [
    "# Resample the time series to 5-minute intervals and sum the values\n",
    "ts.resample('5Min').sum()"
   ],
   "id": "6d074676f9cdaf5c",
   "execution_count": 65,
   "outputs": []
  },
  {
   "metadata": {
    "ExecuteTime": {
     "end_time": "2024-06-02T23:37:29.478398Z",
     "start_time": "2024-06-02T23:37:29.473071Z"
    }
   },
   "cell_type": "code",
   "source": [
    "# Create a time series with daily frequency\n",
    "rng = pd.date_range('3/6/2012 00:00', periods=5, freq='D')\n",
    "ts = pd.Series(np.random.randn(len(rng)), rng)\n",
    "ts"
   ],
   "id": "b418bf328da5b97d",
   "execution_count": 66,
   "outputs": []
  },
  {
   "metadata": {
    "ExecuteTime": {
     "end_time": "2024-06-02T23:37:30.694339Z",
     "start_time": "2024-06-02T23:37:30.687666Z"
    }
   },
   "cell_type": "code",
   "source": [
    "# Localize to UTC and convert to US/Eastern time\n",
    "ts_utc = ts.tz_localize('UTC')\n",
    "ts_utc"
   ],
   "id": "d9b02780b554c846",
   "execution_count": 67,
   "outputs": []
  },
  {
   "metadata": {
    "ExecuteTime": {
     "end_time": "2024-06-02T23:37:32.993480Z",
     "start_time": "2024-06-02T23:37:32.976181Z"
    }
   },
   "cell_type": "code",
   "source": "ts_utc.tz_convert('US/Eastern')",
   "id": "39b429de7c57d5b6",
   "execution_count": 68,
   "outputs": []
  },
  {
   "metadata": {
    "ExecuteTime": {
     "end_time": "2024-06-02T23:39:15.612807Z",
     "start_time": "2024-06-02T23:39:15.609222Z"
    }
   },
   "cell_type": "code",
   "source": [
    "# convert time period\n",
    "rng = pd.date_range('1/1/2012', periods=5, freq='M')\n",
    "ts = pd.Series(np.random.randn(len(rng)), index=rng)\n",
    "ts"
   ],
   "id": "6a00cb1edf7c4c1f",
   "execution_count": 69,
   "outputs": []
  },
  {
   "metadata": {
    "ExecuteTime": {
     "end_time": "2024-06-02T23:39:57.971899Z",
     "start_time": "2024-06-02T23:39:57.968871Z"
    }
   },
   "cell_type": "code",
   "source": [
    "ps = ts.to_period()\n",
    "ps"
   ],
   "id": "9b46660bbf4fbdd3",
   "execution_count": 70,
   "outputs": []
  },
  {
   "metadata": {
    "ExecuteTime": {
     "end_time": "2024-06-02T23:40:18.527074Z",
     "start_time": "2024-06-02T23:40:18.521782Z"
    }
   },
   "cell_type": "code",
   "source": "ps.to_timestamp()",
   "id": "322dcfd005ef1659",
   "execution_count": 71,
   "outputs": []
  },
  {
   "metadata": {},
   "cell_type": "markdown",
   "source": "# 10 Visualization",
   "id": "4a9e23369d2209f"
  },
  {
   "metadata": {
    "ExecuteTime": {
     "end_time": "2024-06-02T23:40:39.768896Z",
     "start_time": "2024-06-02T23:40:39.517160Z"
    }
   },
   "cell_type": "code",
   "source": [
    "# Create a time series and plot it\n",
    "ts = pd.Series(np.random.randn(1000), index=pd.date_range('1/1/2000', periods=1000))\n",
    "ts = ts.cumsum()\n",
    "ts.plot()"
   ],
   "id": "a91ed1ac1a873393",
   "execution_count": 72,
   "outputs": []
  },
  {
   "metadata": {
    "ExecuteTime": {
     "end_time": "2024-06-02T23:41:22.632383Z",
     "start_time": "2024-06-02T23:41:22.519655Z"
    }
   },
   "cell_type": "code",
   "source": [
    "import matplotlib.pyplot as plt\n",
    "\n",
    "# Create a DataFrame and plot it\n",
    "df = pd.DataFrame(np.random.randn(1000, 4), index=ts.index, columns=['A', 'B', 'C', 'D'])\n",
    "df = df.cumsum()\n",
    "plt.figure()\n",
    "df.plot()\n",
    "plt.legend(loc='best')"
   ],
   "id": "e60984a289211089",
   "execution_count": 73,
   "outputs": []
  },
  {
   "metadata": {},
   "cell_type": "markdown",
   "source": "# 11 Data Input/Output",
   "id": "d430a64cdfe1762"
  },
  {
   "metadata": {},
   "cell_type": "markdown",
   "source": "## 11.1 CSV",
   "id": "5c3e9dc6e52ee0"
  },
  {
   "metadata": {
    "ExecuteTime": {
     "end_time": "2024-06-02T23:41:34.773325Z",
     "start_time": "2024-06-02T23:41:34.732322Z"
    }
   },
   "cell_type": "code",
   "source": [
    "# Write DataFrame to a CSV file\n",
    "df.to_csv('foo.csv')"
   ],
   "id": "b8a0e1afbad86a36",
   "execution_count": 74,
   "outputs": []
  },
  {
   "metadata": {
    "ExecuteTime": {
     "end_time": "2024-06-02T23:41:35.366234Z",
     "start_time": "2024-06-02T23:41:35.359107Z"
    }
   },
   "cell_type": "code",
   "source": [
    "# Read a CSV file into a DataFrame\n",
    "pd.read_csv('foo.csv')"
   ],
   "id": "24c67349ebed7844",
   "execution_count": 75,
   "outputs": []
  },
  {
   "metadata": {},
   "cell_type": "markdown",
   "source": "## 11.2 HDFS",
   "id": "e85b1164608f6232"
  },
  {
   "metadata": {
    "ExecuteTime": {
     "end_time": "2024-06-02T23:41:39.163430Z",
     "start_time": "2024-06-02T23:41:38.400123Z"
    }
   },
   "cell_type": "code",
   "source": [
    "# Install PyTables\n",
    "!pip install tables"
   ],
   "id": "a4f1d864532fe4dd",
   "execution_count": 76,
   "outputs": []
  },
  {
   "metadata": {
    "ExecuteTime": {
     "end_time": "2024-06-02T23:41:41.165726Z",
     "start_time": "2024-06-02T23:41:40.032416Z"
    }
   },
   "cell_type": "code",
   "source": [
    "# Write DataFrame to an HDF5 file\n",
    "df.to_hdf('foo.h5', 'df')"
   ],
   "id": "18ce84b1c8b510b6",
   "execution_count": 77,
   "outputs": []
  },
  {
   "metadata": {
    "ExecuteTime": {
     "end_time": "2024-06-02T23:41:43.884523Z",
     "start_time": "2024-06-02T23:41:43.875552Z"
    }
   },
   "cell_type": "code",
   "source": [
    "# Read an HDF5 file into a DataFrame\n",
    "pd.read_hdf('foo.h5', 'df')"
   ],
   "id": "5925274110c12d9",
   "execution_count": 78,
   "outputs": []
  },
  {
   "metadata": {},
   "cell_type": "markdown",
   "source": "## 11.3 Excel",
   "id": "a5fb3ec9daede38b"
  },
  {
   "metadata": {
    "ExecuteTime": {
     "end_time": "2024-06-02T23:41:46.264808Z",
     "start_time": "2024-06-02T23:41:45.510985Z"
    }
   },
   "cell_type": "code",
   "source": [
    "# Install openpyxl\n",
    "!pip install openpyxl"
   ],
   "id": "e33b6ba3073ab8a9",
   "execution_count": 79,
   "outputs": []
  },
  {
   "metadata": {
    "ExecuteTime": {
     "end_time": "2024-06-02T23:41:46.981216Z",
     "start_time": "2024-06-02T23:41:46.895189Z"
    }
   },
   "cell_type": "code",
   "source": [
    "# Write DataFrame to an Excel file\n",
    "df.to_excel('foo.xlsx', sheet_name='Sheet1')"
   ],
   "id": "717896cc42c86d65",
   "execution_count": 80,
   "outputs": []
  },
  {
   "metadata": {
    "ExecuteTime": {
     "end_time": "2024-06-02T23:41:48.281510Z",
     "start_time": "2024-06-02T23:41:48.249389Z"
    }
   },
   "cell_type": "code",
   "source": [
    "# Read an Excel file into a DataFrame\n",
    "pd.read_excel('foo.xlsx', 'Sheet1', index_col=None, na_values=['NA'])"
   ],
   "id": "afc1a7b6e5d33f6",
   "execution_count": 81,
   "outputs": []
  }
 ],
 "metadata": {
  "kernelspec": {
   "display_name": "Python 3",
   "language": "python",
   "name": "python3"
  },
  "language_info": {
   "codemirror_mode": {
    "name": "ipython",
    "version": 2
   },
   "file_extension": ".py",
   "mimetype": "text/x-python",
   "name": "python",
   "nbconvert_exporter": "python",
   "pygments_lexer": "ipython2",
   "version": "2.7.6"
  }
 },
 "nbformat": 4,
 "nbformat_minor": 5
}
