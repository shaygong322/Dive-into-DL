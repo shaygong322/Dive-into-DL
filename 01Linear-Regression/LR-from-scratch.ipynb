{
 "cells": [
  {
   "cell_type": "code",
   "id": "initial_id",
   "metadata": {
    "collapsed": true,
    "ExecuteTime": {
     "end_time": "2024-06-22T02:00:47.470350Z",
     "start_time": "2024-06-22T02:00:32.934870Z"
    }
   },
   "source": [
    "import torch\n",
    "import numpy as np\n",
    "from matplotlib import pyplot as plt"
   ],
   "execution_count": 1,
   "outputs": []
  },
  {
   "metadata": {},
   "cell_type": "markdown",
   "source": "#### 生成人工数据集",
   "id": "fac81bf1b2ce3523"
  },
  {
   "metadata": {
    "ExecuteTime": {
     "end_time": "2024-06-22T02:32:05.625265Z",
     "start_time": "2024-06-22T02:32:05.599659Z"
    }
   },
   "cell_type": "code",
   "source": [
    "num_inputs = 2\n",
    "num_examples = 1000\n",
    "true_w = [2, -3.4]\n",
    "true_b = 4.2\n",
    "features = torch.randn(num_examples, num_inputs,\n",
    "                       dtype=torch.float32)\n",
    "labels = true_w[0] * features[:, 0] + true_w[1] * features[:, 1] + true_b\n",
    "labels += torch.tensor(np.random.normal(0, 0.01, size=labels.size()),\n",
    "                       dtype=torch.float32)"
   ],
   "id": "e5e9508b6b91cf8a",
   "execution_count": 2,
   "outputs": []
  },
  {
   "metadata": {},
   "cell_type": "markdown",
   "source": "#### 读取数据",
   "id": "8903d70f9b70ddf1"
  },
  {
   "metadata": {
    "ExecuteTime": {
     "end_time": "2024-06-22T03:13:09.371863Z",
     "start_time": "2024-06-22T03:13:09.360993Z"
    }
   },
   "cell_type": "code",
   "source": [
    "import random\n",
    "\n",
    "def data_iter(batch_size, features, labels):\n",
    "    num_examples = len(features)\n",
    "    indices = list(range(num_examples))\n",
    "    random.shuffle(indices)  # 样本的读取顺序是随机的\n",
    "    for i in range(0, num_examples, batch_size):\n",
    "        j = torch.LongTensor(indices[i: min(i + batch_size, num_examples)]) # 最后一次可能不足一个batch\n",
    "        yield  features.index_select(0, j), labels.index_select(0, j) # 0表示按行索引"
   ],
   "id": "78f23c841ec63527",
   "execution_count": 3,
   "outputs": []
  },
  {
   "metadata": {},
   "cell_type": "markdown",
   "source": "#### 初始化模型参数",
   "id": "1ecd798c61043789"
  },
  {
   "metadata": {
    "ExecuteTime": {
     "end_time": "2024-06-22T03:27:55.104732Z",
     "start_time": "2024-06-22T03:27:55.099714Z"
    }
   },
   "cell_type": "code",
   "source": [
    "w = torch.tensor(np.random.normal(0, 0.01, (num_inputs, 1)), dtype=torch.float32)\n",
    "b = torch.zeros(1, dtype=torch.float32)"
   ],
   "id": "e3a68d3a448d32ee",
   "execution_count": 4,
   "outputs": []
  },
  {
   "metadata": {
    "ExecuteTime": {
     "end_time": "2024-06-22T03:27:56.042277Z",
     "start_time": "2024-06-22T03:27:56.029907Z"
    }
   },
   "cell_type": "code",
   "source": [
    "w.requires_grad_(requires_grad=True)\n",
    "b.requires_grad_(requires_grad=True) "
   ],
   "id": "30f571453fc7b356",
   "execution_count": 5,
   "outputs": []
  },
  {
   "metadata": {},
   "cell_type": "markdown",
   "source": "#### 定义模型",
   "id": "d883da765dca432a"
  },
  {
   "metadata": {
    "ExecuteTime": {
     "end_time": "2024-06-22T03:38:30.536881Z",
     "start_time": "2024-06-22T03:38:30.533255Z"
    }
   },
   "cell_type": "code",
   "source": [
    "def linreg(X, w, b):\n",
    "    return torch.mm(X, w) + b"
   ],
   "id": "f439477b5695d429",
   "execution_count": 7,
   "outputs": []
  },
  {
   "metadata": {},
   "cell_type": "markdown",
   "source": "#### 定义损失函数",
   "id": "dc3158c8d888ea62"
  },
  {
   "metadata": {
    "ExecuteTime": {
     "end_time": "2024-06-22T03:38:32.973755Z",
     "start_time": "2024-06-22T03:38:32.968668Z"
    }
   },
   "cell_type": "code",
   "source": [
    "def squared_loss(y_hat, y): \n",
    "    # 注意这里返回的是向量, 另外, pytorch里的MSELoss并没有除以 2\n",
    "    return (y_hat - y.view(y_hat.size())) ** 2 / 2"
   ],
   "id": "ada334f57b46f22d",
   "execution_count": 8,
   "outputs": []
  },
  {
   "metadata": {},
   "cell_type": "markdown",
   "source": "#### 定义优化算法",
   "id": "f0f61c75f7a5c040"
  },
  {
   "metadata": {
    "ExecuteTime": {
     "end_time": "2024-06-22T03:39:22.155080Z",
     "start_time": "2024-06-22T03:39:22.142822Z"
    }
   },
   "cell_type": "code",
   "source": [
    "def sgd(params, lr, batch_size):\n",
    "    for param in params:\n",
    "        param.data -= lr * param.grad / batch_size"
   ],
   "id": "60d273fa53461d0a",
   "execution_count": 9,
   "outputs": []
  },
  {
   "metadata": {},
   "cell_type": "markdown",
   "source": "#### 训练模型",
   "id": "d009bb50ed6e706c"
  },
  {
   "metadata": {
    "ExecuteTime": {
     "end_time": "2024-06-22T03:56:03.736730Z",
     "start_time": "2024-06-22T03:56:01.780599Z"
    }
   },
   "cell_type": "code",
   "source": [
    "lr = 0.03\n",
    "num_epochs = 3\n",
    "net = linreg\n",
    "loss = squared_loss\n",
    "batch_size = 10\n",
    "\n",
    "for epoch in range(num_epochs):\n",
    "    for X, y in data_iter(batch_size, features, labels):\n",
    "        l = loss(net(X, w, b), y).sum()\n",
    "        l.backward()\n",
    "        sgd([w, b], lr, batch_size)\n",
    "\n",
    "        w.grad.data.zero_()\n",
    "        b.grad.data.zero_()\n",
    "    train_l = loss(net(features, w, b), labels)\n",
    "    print('epoch %d, loss %f' % (epoch + 1, train_l.mean().item()))"
   ],
   "id": "8b937c6acd64930d",
   "execution_count": 10,
   "outputs": []
  }
 ],
 "metadata": {
  "kernelspec": {
   "display_name": "Python 3",
   "language": "python",
   "name": "python3"
  },
  "language_info": {
   "codemirror_mode": {
    "name": "ipython",
    "version": 2
   },
   "file_extension": ".py",
   "mimetype": "text/x-python",
   "name": "python",
   "nbconvert_exporter": "python",
   "pygments_lexer": "ipython2",
   "version": "2.7.6"
  }
 },
 "nbformat": 4,
 "nbformat_minor": 5
}
