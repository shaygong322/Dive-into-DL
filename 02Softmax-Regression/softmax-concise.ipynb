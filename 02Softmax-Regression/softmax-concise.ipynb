{
 "cells": [
  {
   "cell_type": "code",
   "id": "initial_id",
   "metadata": {
    "collapsed": true,
    "ExecuteTime": {
     "end_time": "2024-06-22T05:58:23.269328Z",
     "start_time": "2024-06-22T05:58:23.264789Z"
    }
   },
   "source": [
    "import sys\n",
    "sys.path.append(\"..\")\n",
    "\n",
    "import torchtext\n",
    "torchtext.disable_torchtext_deprecation_warning()  # 确保这行代码在其他 torchtext 导入之前\n",
    "\n",
    "import torch\n",
    "from torch import nn\n",
    "from torch.nn import init\n",
    "import numpy as np\n",
    "import d2lzh_pytorch as d2l"
   ],
   "outputs": [],
   "execution_count": 2
  },
  {
   "metadata": {
    "ExecuteTime": {
     "end_time": "2024-06-22T05:58:46.770284Z",
     "start_time": "2024-06-22T05:58:46.689913Z"
    }
   },
   "cell_type": "code",
   "source": [
    "# 获取和读取数据\n",
    "batch_size = 256\n",
    "train_iter, test_iter = d2l.load_data_fashion_mnist(batch_size)"
   ],
   "id": "79ee23be54165f01",
   "outputs": [],
   "execution_count": 3
  },
  {
   "metadata": {
    "ExecuteTime": {
     "end_time": "2024-06-22T06:01:56.785060Z",
     "start_time": "2024-06-22T06:01:56.779421Z"
    }
   },
   "cell_type": "code",
   "source": [
    "# 定义和初始化模型\n",
    "num_inputs = 784\n",
    "num_outputs = 10\n",
    "\n",
    "class LinearNet(nn.Module):\n",
    "    def __init__(self, num_inputs, num_outputs):\n",
    "        super(LinearNet, self).__init__()\n",
    "        self.linear = nn.Linear(num_inputs, num_outputs)\n",
    "    def forward(self, x): # x shape: (batch, 1, 28, 28)\n",
    "        y = self.linear(x.view(x.shape[0], -1))\n",
    "        return y\n",
    "\n",
    "net = LinearNet(num_inputs, num_outputs)"
   ],
   "id": "cbf8b44ebf9bb40f",
   "outputs": [],
   "execution_count": 5
  },
  {
   "metadata": {
    "ExecuteTime": {
     "end_time": "2024-06-22T06:02:39.606331Z",
     "start_time": "2024-06-22T06:02:39.591657Z"
    }
   },
   "cell_type": "code",
   "source": [
    "loss = nn.CrossEntropyLoss()\n",
    "optimizer = torch.optim.SGD(net.parameters(), lr=0.1)"
   ],
   "id": "11c5f9f72296cbff",
   "outputs": [],
   "execution_count": 6
  },
  {
   "metadata": {
    "ExecuteTime": {
     "end_time": "2024-06-22T06:03:25.331262Z",
     "start_time": "2024-06-22T06:02:49.922594Z"
    }
   },
   "cell_type": "code",
   "source": [
    "num_epochs = 5\n",
    "d2l.train_ch3(net, train_iter, test_iter, loss, num_epochs, batch_size, None, None, optimizer)"
   ],
   "id": "ad4b9aef29a29fec",
   "outputs": [
    {
     "name": "stdout",
     "output_type": "stream",
     "text": [
      "epoch 1, loss 0.0031, train acc 0.752, test acc 0.789\n",
      "epoch 2, loss 0.0022, train acc 0.813, test acc 0.812\n",
      "epoch 3, loss 0.0021, train acc 0.826, test acc 0.815\n",
      "epoch 4, loss 0.0020, train acc 0.831, test acc 0.820\n",
      "epoch 5, loss 0.0019, train acc 0.838, test acc 0.823\n"
     ]
    }
   ],
   "execution_count": 7
  }
 ],
 "metadata": {
  "kernelspec": {
   "display_name": "Python 3",
   "language": "python",
   "name": "python3"
  },
  "language_info": {
   "codemirror_mode": {
    "name": "ipython",
    "version": 2
   },
   "file_extension": ".py",
   "mimetype": "text/x-python",
   "name": "python",
   "nbconvert_exporter": "python",
   "pygments_lexer": "ipython2",
   "version": "2.7.6"
  }
 },
 "nbformat": 4,
 "nbformat_minor": 5
}
